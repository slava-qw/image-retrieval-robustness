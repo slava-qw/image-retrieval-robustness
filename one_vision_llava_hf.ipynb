{
  "cells": [
    {
      "cell_type": "code",
      "execution_count": null,
      "metadata": {
        "colab": {
          "base_uri": "https://localhost:8080/"
        },
        "id": "WHiAGxldNHKo",
        "outputId": "647b71e9-8092-413c-b5a1-1cac8aea31f4"
      },
      "outputs": [
        {
          "output_type": "stream",
          "name": "stdout",
          "text": [
            "\u001b[2K   \u001b[90m━━━━━━━━━━━━━━━━━━━━━━━━━━━━━━━━━━━━━━━━\u001b[0m \u001b[32m33.1/33.1 MB\u001b[0m \u001b[31m23.7 MB/s\u001b[0m eta \u001b[36m0:00:00\u001b[0m\n",
            "\u001b[?25hCollecting git+https://github.com/huggingface/transformers\n",
            "  Cloning https://github.com/huggingface/transformers to /tmp/pip-req-build-800bq69h\n",
            "  Running command git clone --filter=blob:none --quiet https://github.com/huggingface/transformers /tmp/pip-req-build-800bq69h\n",
            "  Resolved https://github.com/huggingface/transformers to commit 1d063793318b20654ebb850f48f43e0a247ab7bb\n",
            "  Installing build dependencies ... \u001b[?25l\u001b[?25hdone\n",
            "  Getting requirements to build wheel ... \u001b[?25l\u001b[?25hdone\n",
            "  Preparing metadata (pyproject.toml) ... \u001b[?25l\u001b[?25hdone\n",
            "Requirement already satisfied: filelock in /usr/local/lib/python3.10/dist-packages (from transformers==4.47.0.dev0) (3.16.1)\n",
            "Requirement already satisfied: huggingface-hub<1.0,>=0.23.2 in /usr/local/lib/python3.10/dist-packages (from transformers==4.47.0.dev0) (0.24.7)\n",
            "Requirement already satisfied: numpy>=1.17 in /usr/local/lib/python3.10/dist-packages (from transformers==4.47.0.dev0) (1.26.4)\n",
            "Requirement already satisfied: packaging>=20.0 in /usr/local/lib/python3.10/dist-packages (from transformers==4.47.0.dev0) (24.1)\n",
            "Requirement already satisfied: pyyaml>=5.1 in /usr/local/lib/python3.10/dist-packages (from transformers==4.47.0.dev0) (6.0.2)\n",
            "Requirement already satisfied: regex!=2019.12.17 in /usr/local/lib/python3.10/dist-packages (from transformers==4.47.0.dev0) (2024.9.11)\n",
            "Requirement already satisfied: requests in /usr/local/lib/python3.10/dist-packages (from transformers==4.47.0.dev0) (2.32.3)\n",
            "Collecting tokenizers<0.21,>=0.20 (from transformers==4.47.0.dev0)\n",
            "  Downloading tokenizers-0.20.1-cp310-cp310-manylinux_2_17_x86_64.manylinux2014_x86_64.whl.metadata (6.7 kB)\n",
            "Requirement already satisfied: safetensors>=0.4.1 in /usr/local/lib/python3.10/dist-packages (from transformers==4.47.0.dev0) (0.4.5)\n",
            "Requirement already satisfied: tqdm>=4.27 in /usr/local/lib/python3.10/dist-packages (from transformers==4.47.0.dev0) (4.66.5)\n",
            "Requirement already satisfied: fsspec>=2023.5.0 in /usr/local/lib/python3.10/dist-packages (from huggingface-hub<1.0,>=0.23.2->transformers==4.47.0.dev0) (2024.6.1)\n",
            "Requirement already satisfied: typing-extensions>=3.7.4.3 in /usr/local/lib/python3.10/dist-packages (from huggingface-hub<1.0,>=0.23.2->transformers==4.47.0.dev0) (4.12.2)\n",
            "Requirement already satisfied: charset-normalizer<4,>=2 in /usr/local/lib/python3.10/dist-packages (from requests->transformers==4.47.0.dev0) (3.4.0)\n",
            "Requirement already satisfied: idna<4,>=2.5 in /usr/local/lib/python3.10/dist-packages (from requests->transformers==4.47.0.dev0) (3.10)\n",
            "Requirement already satisfied: urllib3<3,>=1.21.1 in /usr/local/lib/python3.10/dist-packages (from requests->transformers==4.47.0.dev0) (2.2.3)\n",
            "Requirement already satisfied: certifi>=2017.4.17 in /usr/local/lib/python3.10/dist-packages (from requests->transformers==4.47.0.dev0) (2024.8.30)\n",
            "Downloading tokenizers-0.20.1-cp310-cp310-manylinux_2_17_x86_64.manylinux2014_x86_64.whl (3.0 MB)\n",
            "\u001b[2K   \u001b[90m━━━━━━━━━━━━━━━━━━━━━━━━━━━━━━━━━━━━━━━━\u001b[0m \u001b[32m3.0/3.0 MB\u001b[0m \u001b[31m36.4 MB/s\u001b[0m eta \u001b[36m0:00:00\u001b[0m\n",
            "\u001b[?25hBuilding wheels for collected packages: transformers\n",
            "  Building wheel for transformers (pyproject.toml) ... \u001b[?25l\u001b[?25hdone\n",
            "  Created wheel for transformers: filename=transformers-4.47.0.dev0-py3-none-any.whl size=10036538 sha256=f8c5cda914b9e198975a1d0923416795f1c0ba9cfe880b05098872f09be348f5\n",
            "  Stored in directory: /tmp/pip-ephem-wheel-cache-bnpqg19y/wheels/c0/14/d6/6c9a5582d2ac191ec0a483be151a4495fe1eb2a6706ca49f1b\n",
            "Successfully built transformers\n",
            "Installing collected packages: tokenizers, transformers\n",
            "  Attempting uninstall: tokenizers\n",
            "    Found existing installation: tokenizers 0.19.1\n",
            "    Uninstalling tokenizers-0.19.1:\n",
            "      Successfully uninstalled tokenizers-0.19.1\n",
            "  Attempting uninstall: transformers\n",
            "    Found existing installation: transformers 4.44.2\n",
            "    Uninstalling transformers-4.44.2:\n",
            "      Successfully uninstalled transformers-4.44.2\n",
            "Successfully installed tokenizers-0.20.1 transformers-4.47.0.dev0\n"
          ]
        }
      ],
      "source": [
        "!pip install -q av\n",
        "# !pip uninstall transformers\n",
        "!pip install git+https://github.com/huggingface/transformers\n",
        "# !pip install -q flash-attn\n"
      ]
    },
    {
      "cell_type": "code",
      "execution_count": null,
      "metadata": {
        "id": "fMLB-Kk4M-pM"
      },
      "outputs": [],
      "source": [
        "import av\n",
        "import numpy as np\n",
        "from huggingface_hub import hf_hub_download\n",
        "\n",
        "import torch\n",
        "from transformers import AutoProcessor, LlavaOnevisionForConditionalGeneration\n",
        "\n",
        "import torch\n",
        "import cv2\n",
        "import numpy as np\n",
        "from PIL import Image\n",
        "import requests\n",
        "import copy\n",
        "import warnings\n",
        "from tqdm.notebook import tqdm\n",
        "import os\n",
        "import json\n",
        "from collections import defaultdict"
      ]
    },
    {
      "cell_type": "code",
      "execution_count": null,
      "metadata": {
        "id": "bHD5Htmrvdh4"
      },
      "outputs": [],
      "source": [
        "import gc\n",
        "gc.collect()\n",
        "torch.cuda.empty_cache()"
      ]
    },
    {
      "cell_type": "code",
      "execution_count": null,
      "metadata": {
        "colab": {
          "base_uri": "https://localhost:8080/",
          "height": 433,
          "referenced_widgets": [
            "2e1b09a2f58e42f1804fe7b97173db74",
            "e4f9c6a1e8ec4f9e89c8a9663f04a016",
            "122ea41cd3c242d68d0fe609d300a6a4",
            "a34c0552b4084287ad7369dfb6ebe4a2",
            "d32b54d5bea64eac92e7f7fcda9e9712",
            "f580c8b3d182416c8efdbe4ec0e1b2c1",
            "22428272232e48bcb79fb1b86a7baf88",
            "0c1575704ba7402783bb304a9b5f3552",
            "7950cca18a61457688ce7eb916cc6cc5",
            "98c333c1ffd342d2b45919359a8fec3a",
            "c63bddfc666442e4b1a544b6a47f22db",
            "4524f0a40ea5487aab71464e4a999dff",
            "fc4ec74a15e44d4ea34f5ff44dfb08a1",
            "99d12902835d4ccf92118910a0540ea5",
            "f077bb3a86ac4f9cb5b96210c5d3e30b",
            "9d701565759a45f7a2a2942a38427119",
            "6ca9eb8dfb76416a89c946095da88920",
            "0fa87535d17e4e58b0f1d93894b88037",
            "d202651de63d4c12bb4767a8ad1d755c",
            "adda8382b61d491abc02d3f051ef9398",
            "68743493919e48aa822f80b74eedec51",
            "ce3b58991cfd483291a931015e1de379",
            "e3e1433664204ec9be2af4c5f0c634c2",
            "bc9e989531854eeea378aaee566d992d",
            "afa29ff6b6a3487bb82e2c5dd1c8ed65",
            "ce768d661eb741aa8ad01616d2390a81",
            "a66656610bf74fac99782d3d92b3aef0",
            "00d5252f8a7b4685b04f3a61a1a1b7c1",
            "310005f14145480a8cad4de8fa93df58",
            "ec72ad3104314008b6008695e4cf4ac2",
            "8877e664d13b4691a05288c6891f78fa",
            "5b7a3767132647fcb196df4d0cb614e7",
            "5558a28cf3704c82924027699137b31b",
            "a576608b35284db2b0c1341eb869b7ef",
            "86df0a50a77a487ca6b7b00bb780d207",
            "b16dd570b15e452f9ceb620aad5c3a3b",
            "adb79099bf51475ba09edf9979fde31a",
            "1c8e03643fd748ada3dd415f963e7a2e",
            "3be9737dbdf846828baa49295afa7043",
            "7da01ff99eb6450cb0d83752dbdcfe4d",
            "428d9047d26848ec8d1e43d46060ef0f",
            "04102eb30d574780bd0a8948410e7ca1",
            "69f7a0168b62409d9d4e5851160c4e0c",
            "559bc3673b6142a8a876fdec6d7b311e",
            "47281f434f144b619b0358f5f04db006",
            "dc6f25a1309548e6909f9bec34dd3b09",
            "39ff1b1d928148719995d3998104cbec",
            "ff987a7ea13e480ab67d47fa8f1d0e37",
            "e95207c309ca4d26b3b4f5cb4f847fbb",
            "0f2c58f1566a4b6384f669e164959451",
            "ef94e305cd0b4531b93a720aafd61171",
            "3b0fabdecec2480bbfe025794f15ba5e",
            "fbf91fceb81249f18e90fd1e043bb9cb",
            "533c7a4d86a3402181eec1a4b73aa879",
            "5d77d6883c1a47838468e539efbbb6d0",
            "e2069858d1cb4cbc87144e1ede0a51a9",
            "fb85801c638f485db07a4aebd29f28bd",
            "7f6eb3e9299446588b9773a8c0486681",
            "5705394e01004c0e8f6f05fa230592b1",
            "ca9ab69206484c9da734a05f21b01eb3",
            "df07e6fba83f4e85bd5cb942afc63994",
            "9c925c6bf81043618e5671ca19f3ecab",
            "f8cc5b4e4bc048a2a47aed31e26ef40b",
            "7e1a85eaa35543619b4afee07ea95ab9",
            "1f7fdf1dbd3f4be3a34ed2c02304a684",
            "937bd0d1125d44cc96a31436d9a2fa5a",
            "34569926ffc14857924acd5d95782689",
            "6697b681c2d6480899d8202e70acb9bf",
            "6fbfd94911494ddc8eab99b5597ed30e",
            "64bb09a932b6480abc919efeab8cbc36",
            "29e3372267d741c990f104e350795855",
            "8147a642c8954127be4cdb4d2ac7377a",
            "ff47c6a28c334d14829043d44de61f29",
            "bf505a8a2ae94a78ac030000ec065e2b",
            "092cdb649eb144229c71dad39196a359",
            "5b3f13f5763149deb9c22a355b24ed4a",
            "7264e4dc5a7e4f6798550703535135d1",
            "7802a44b405f4aeb82bd6c9bf37c83ac",
            "9e8389082d4c495792d92f84e14a02ae",
            "fa6d7aef2af24d8cb926a849f28d1a5d",
            "b108dc0bd77c46e79dbd05de4b95cfc6",
            "1ecebd0d4f8d4519980c7e7050503bc5",
            "19b84519eda84d6da0cb647a7900c46d",
            "48c25cb563cd4d2e8a398878634fa673",
            "436e5881cd154473ac889d79c40ea9fb",
            "bcd263ef56c94b8396f5ea54c0a97e75",
            "95221d04a2d34fc6a6b0df5dd83b70b5",
            "1ce1f8c932a3409887ffa9e3ea434304",
            "32cf9a588c1542f4b8d06d0051115cbd",
            "df9da99c86ba4b5697eed8915e2cbaf3",
            "847db23b7b3c4d51bc92d3e3e281a30d",
            "22c57f17ef504c1198eaab8baab51540",
            "9c7d5ca12e0d49f7bdc31b391c63abab",
            "a732cd1b22824a788617bd5debd4b9b4",
            "c9a7ae3dc4824b6ea4a9a721c0d41dd4",
            "704106a01d8e4f6ab05a0a4bacab338b",
            "959e27ce97044954bc7806d79efb26c2",
            "73f414c32e5f49769c0b681e8eb3771a",
            "de991c5911d24e1fa2f1bb9edade8170",
            "d03f9380322d4f93889eac14bcae6762",
            "b467499eea5349439fbdccf46057e4ff",
            "2721854974354035b17e1082c3e1de66",
            "bb425dd8bc6e482790406ba51e487bcc",
            "e10ad1870992420f9124940b6628b353",
            "e7a63d1b274e4e74903443e7ce96f1ee",
            "1c3125801365455cb099014b70eab01f",
            "e049cdf8e64645fc85ec44931fdde83b",
            "9a083ed1f5cd4e2e834b00f6f1af97d2",
            "9dc2c950bbba40f2b034df8b9aa3437a",
            "b416b5867a82417ea8e78916acea366f",
            "7980631b6d0f4127b3da351b264cf713",
            "38b9846cc3f247f5a280e0b4935af730",
            "1a08ba46701843b3b778bbe8f309c738",
            "e898fa6320ee41c6ab00f0be1007c0a3",
            "f40a251d7b594349a3866d4a8d09fe05",
            "c32c0bbb51604835b344563ba861f806",
            "d830779a19934ab1bbab1d68dea83702",
            "6231284f1fe44a7487563713b5eefd97",
            "43f9bb70b7f248ceb13a4f406cfa5c19",
            "ae3a95cdf68c4701a4a2e5b9641aef30",
            "43cfdb9df28048c4903ebe892e3b1fe1",
            "9d8ca3f768874afda66bb8018097cd7b",
            "3f4b768401374f4089574bd401730d38",
            "41921f4987984e22b1eb8a084767d1ed",
            "9793ca4e0eca457e8833c4e5d593ec1d",
            "189d96ab6da1409995bd56ecd6d09cb2",
            "2234296d80e241e1a85845f841e1dfec",
            "2339c81d5f2042bc800d93f6d5b78a6b",
            "7d9d9502247e4740896eb4c419478000",
            "d6e320eb9e7b4d329130e72140056e8f",
            "6f7e4aa2c792406a9425e6b14ea12d11",
            "c0eddffedcdb4249b38facdaa1fd4d83",
            "35eadabd1d9a48de8b4975feb5410835",
            "7febaaaa7ec84d968bd6639de400c619",
            "46c52ca7435b4a14a1081cdafbebd760",
            "fd7218e2fb604d21b8f2f62e9276acc2",
            "38f3aa285468452ab1901cd0d787cd3b",
            "19b9961f85eb42a6937041aab933a3e4",
            "6f8c67ba69a441aeaa4e176af43512ae",
            "14ed8865c9924596bb0c15336ad15303",
            "834190b877d34f698634fa84ba0315a2",
            "936eb3cfaef143fcbeb5cde358826d25",
            "d599e07c64e748039955ce76792d8f97"
          ]
        },
        "id": "IstBIaNNNFJp",
        "outputId": "0a9ae228-e0b7-4721-f185-dbbb0b33e3a9"
      },
      "outputs": [
        {
          "output_type": "display_data",
          "data": {
            "text/plain": [
              "config.json:   0%|          | 0.00/2.59k [00:00<?, ?B/s]"
            ],
            "application/vnd.jupyter.widget-view+json": {
              "version_major": 2,
              "version_minor": 0,
              "model_id": "2e1b09a2f58e42f1804fe7b97173db74"
            }
          },
          "metadata": {}
        },
        {
          "output_type": "display_data",
          "data": {
            "text/plain": [
              "model.safetensors:   0%|          | 0.00/1.79G [00:00<?, ?B/s]"
            ],
            "application/vnd.jupyter.widget-view+json": {
              "version_major": 2,
              "version_minor": 0,
              "model_id": "4524f0a40ea5487aab71464e4a999dff"
            }
          },
          "metadata": {}
        },
        {
          "output_type": "display_data",
          "data": {
            "text/plain": [
              "generation_config.json:   0%|          | 0.00/126 [00:00<?, ?B/s]"
            ],
            "application/vnd.jupyter.widget-view+json": {
              "version_major": 2,
              "version_minor": 0,
              "model_id": "e3e1433664204ec9be2af4c5f0c634c2"
            }
          },
          "metadata": {}
        },
        {
          "output_type": "display_data",
          "data": {
            "text/plain": [
              "processor_config.json:   0%|          | 0.00/178 [00:00<?, ?B/s]"
            ],
            "application/vnd.jupyter.widget-view+json": {
              "version_major": 2,
              "version_minor": 0,
              "model_id": "a576608b35284db2b0c1341eb869b7ef"
            }
          },
          "metadata": {}
        },
        {
          "output_type": "display_data",
          "data": {
            "text/plain": [
              "chat_template.json:   0%|          | 0.00/826 [00:00<?, ?B/s]"
            ],
            "application/vnd.jupyter.widget-view+json": {
              "version_major": 2,
              "version_minor": 0,
              "model_id": "47281f434f144b619b0358f5f04db006"
            }
          },
          "metadata": {}
        },
        {
          "output_type": "display_data",
          "data": {
            "text/plain": [
              "preprocessor_config.json:   0%|          | 0.00/1.73k [00:00<?, ?B/s]"
            ],
            "application/vnd.jupyter.widget-view+json": {
              "version_major": 2,
              "version_minor": 0,
              "model_id": "e2069858d1cb4cbc87144e1ede0a51a9"
            }
          },
          "metadata": {}
        },
        {
          "output_type": "display_data",
          "data": {
            "text/plain": [
              "tokenizer_config.json:   0%|          | 0.00/1.80k [00:00<?, ?B/s]"
            ],
            "application/vnd.jupyter.widget-view+json": {
              "version_major": 2,
              "version_minor": 0,
              "model_id": "34569926ffc14857924acd5d95782689"
            }
          },
          "metadata": {}
        },
        {
          "output_type": "display_data",
          "data": {
            "text/plain": [
              "vocab.json:   0%|          | 0.00/2.78M [00:00<?, ?B/s]"
            ],
            "application/vnd.jupyter.widget-view+json": {
              "version_major": 2,
              "version_minor": 0,
              "model_id": "7802a44b405f4aeb82bd6c9bf37c83ac"
            }
          },
          "metadata": {}
        },
        {
          "output_type": "display_data",
          "data": {
            "text/plain": [
              "merges.txt:   0%|          | 0.00/1.67M [00:00<?, ?B/s]"
            ],
            "application/vnd.jupyter.widget-view+json": {
              "version_major": 2,
              "version_minor": 0,
              "model_id": "32cf9a588c1542f4b8d06d0051115cbd"
            }
          },
          "metadata": {}
        },
        {
          "output_type": "display_data",
          "data": {
            "text/plain": [
              "tokenizer.json:   0%|          | 0.00/7.03M [00:00<?, ?B/s]"
            ],
            "application/vnd.jupyter.widget-view+json": {
              "version_major": 2,
              "version_minor": 0,
              "model_id": "d03f9380322d4f93889eac14bcae6762"
            }
          },
          "metadata": {}
        },
        {
          "output_type": "display_data",
          "data": {
            "text/plain": [
              "added_tokens.json:   0%|          | 0.00/122 [00:00<?, ?B/s]"
            ],
            "application/vnd.jupyter.widget-view+json": {
              "version_major": 2,
              "version_minor": 0,
              "model_id": "7980631b6d0f4127b3da351b264cf713"
            }
          },
          "metadata": {}
        },
        {
          "output_type": "display_data",
          "data": {
            "text/plain": [
              "special_tokens_map.json:   0%|          | 0.00/367 [00:00<?, ?B/s]"
            ],
            "application/vnd.jupyter.widget-view+json": {
              "version_major": 2,
              "version_minor": 0,
              "model_id": "9d8ca3f768874afda66bb8018097cd7b"
            }
          },
          "metadata": {}
        },
        {
          "output_type": "display_data",
          "data": {
            "text/plain": [
              "video_processor/preprocessor_config.json:   0%|          | 0.00/428 [00:00<?, ?B/s]"
            ],
            "application/vnd.jupyter.widget-view+json": {
              "version_major": 2,
              "version_minor": 0,
              "model_id": "35eadabd1d9a48de8b4975feb5410835"
            }
          },
          "metadata": {}
        }
      ],
      "source": [
        "# Load the model in half-precision\n",
        "model_name = 'llava-hf/llava-onevision-qwen2-0.5b-ov-hf'\n",
        "\n",
        "model = LlavaOnevisionForConditionalGeneration.from_pretrained(\n",
        "    model_name,\n",
        "    torch_dtype=torch.float16,\n",
        "    device_map=\"auto\",\n",
        "    low_cpu_mem_usage=True,\n",
        "    attn_implementation=\"sdpa\",\n",
        ")\n",
        "\n",
        "processor = AutoProcessor.from_pretrained(model_name)"
      ]
    },
    {
      "cell_type": "code",
      "execution_count": null,
      "metadata": {
        "id": "-0dhYly1JpZc"
      },
      "outputs": [],
      "source": [
        "model.config.vocab_size = model.config.text_config.vocab_size"
      ]
    },
    {
      "cell_type": "code",
      "execution_count": null,
      "metadata": {
        "id": "hHMyZZbnSFEn"
      },
      "outputs": [],
      "source": [
        "# For videos we have to feed a \"video\" type instead of \"image\"\n",
        "conversation = [\n",
        "    {\n",
        "\n",
        "        \"role\": \"user\",\n",
        "        \"content\": [\n",
        "            {\"type\": \"video\"},\n",
        "            {\"type\": \"text\", \"text\": \"What is shown in this video?\"},\n",
        "            ],\n",
        "    },\n",
        "]\n",
        "\n",
        "prompt = processor.apply_chat_template(conversation, add_generation_prompt=True)"
      ]
    },
    {
      "cell_type": "code",
      "execution_count": null,
      "metadata": {
        "colab": {
          "base_uri": "https://localhost:8080/",
          "height": 35
        },
        "id": "xRv6ZENPQ1qO",
        "outputId": "392dcbba-7546-4b4a-8d4d-5e861c876000"
      },
      "outputs": [
        {
          "output_type": "execute_result",
          "data": {
            "text/plain": [
              "'<|im_start|>user <video>\\nWhat is shown in this video?<|im_end|><|im_start|>assistant\\n'"
            ],
            "application/vnd.google.colaboratory.intrinsic+json": {
              "type": "string"
            }
          },
          "metadata": {},
          "execution_count": 7
        }
      ],
      "source": [
        "prompt"
      ]
    },
    {
      "cell_type": "code",
      "execution_count": null,
      "metadata": {
        "id": "mttB5dnUNCn_"
      },
      "outputs": [],
      "source": [
        "def read_video_pyav(container, indices):\n",
        "    '''\n",
        "    Decode the video with PyAV decoder.\n",
        "    Args:\n",
        "        container (`av.container.input.InputContainer`): PyAV container.\n",
        "        indices (`List[int]`): List of frame indices to decode.\n",
        "    Returns:\n",
        "        result (np.ndarray): np array of decoded frames of shape (num_frames, height, width, 3).\n",
        "    '''\n",
        "    frames = []\n",
        "    container.seek(0)\n",
        "    start_index = indices[0]\n",
        "    end_index = indices[-1]\n",
        "    for i, frame in enumerate(container.decode(video=0)):\n",
        "        if i > end_index:\n",
        "            break\n",
        "        if i >= start_index and i in indices:\n",
        "            frames.append(frame)\n",
        "    return np.stack([x.to_ndarray(format=\"rgb24\") for x in frames])\n"
      ]
    },
    {
      "cell_type": "markdown",
      "metadata": {
        "id": "HsmIXMNISTiy"
      },
      "source": [
        "## for one video"
      ]
    },
    {
      "cell_type": "code",
      "execution_count": null,
      "metadata": {
        "colab": {
          "base_uri": "https://localhost:8080/",
          "height": 49,
          "referenced_widgets": [
            "a8c7b3123a0a48e38ce5b94245096256",
            "52bbb653fb1f450ea93d0ae3f1c2c74e",
            "90769bd7174640e39c69830db7da9230",
            "397d565e1c2044e7b97b67579fc4f21c",
            "bd4214fafa7843c9bec83de23c1afee2",
            "70464a7a893e4e0f827f4b3dc5a46c68",
            "14799db40643460e91227602451dfaa2",
            "e35ca38b0a9e4f96afc1961c4584deb9",
            "f5d2bcc0bd8844f2878d6e586de05211",
            "3fd72a9ee6434e99a1a11abceaf94a75",
            "5b14b34f641a405b835916b6b72196f3"
          ]
        },
        "id": "sibocHEqQBE6",
        "outputId": "2ba5862c-b337-4fae-833b-27ad40c6eb43"
      },
      "outputs": [
        {
          "data": {
            "application/vnd.jupyter.widget-view+json": {
              "model_id": "a8c7b3123a0a48e38ce5b94245096256",
              "version_major": 2,
              "version_minor": 0
            },
            "text/plain": [
              "sample_demo_1.mp4:   0%|          | 0.00/1.55M [00:00<?, ?B/s]"
            ]
          },
          "metadata": {},
          "output_type": "display_data"
        }
      ],
      "source": [
        "# Load the video as an np.array, sampling uniformly 8 frames (can sample more for longer videos, up to 32 frames)\n",
        "video_path = hf_hub_download(repo_id=\"raushan-testing-hf/videos-test\", filename=\"sample_demo_1.mp4\", repo_type=\"dataset\")\n",
        "# video_path = \"/content/5c0a032c998cfe00a955d220_сын унижает и оскорбляет мать как повлиять.mp4\"\n",
        "container = av.open(video_path)\n",
        "total_frames = container.streams.video[0].frames\n",
        "indices = np.arange(0, total_frames, total_frames / 8).astype(int)\n",
        "# indices = np.arange(0, total_frames).astype(int)\n",
        "video = read_video_pyav(container, indices)"
      ]
    },
    {
      "cell_type": "code",
      "execution_count": null,
      "metadata": {
        "colab": {
          "base_uri": "https://localhost:8080/"
        },
        "id": "i4i3_alYux2A",
        "outputId": "16d42e09-d1cd-4c4d-f094-d4068775587c"
      },
      "outputs": [
        {
          "data": {
            "text/plain": [
              "(8, 360, 640, 3)"
            ]
          },
          "execution_count": 9,
          "metadata": {},
          "output_type": "execute_result"
        }
      ],
      "source": [
        "video.shape"
      ]
    },
    {
      "cell_type": "code",
      "execution_count": null,
      "metadata": {
        "colab": {
          "base_uri": "https://localhost:8080/"
        },
        "id": "qpXsN-3SQD27",
        "outputId": "d0e2fe31-9839-44fc-aede-f98a96a9bce3"
      },
      "outputs": [
        {
          "name": "stderr",
          "output_type": "stream",
          "text": [
            "Setting `pad_token_id` to `eos_token_id`:None for open-end generation.\n",
            "Starting from v4.46, the `logits` model output will have the same type as the model (except at train time, where it will always be FP32)\n",
            "From v4.47 onwards, when a model cache is to be returned, `generate` will return a `Cache` instance instead by default (as opposed to the legacy tuple of tuples format). If you want to keep returning the legacy format, please set `return_legacy_cache=True`.\n"
          ]
        },
        {
          "data": {
            "text/plain": [
              "odict_keys(['sequences', 'scores', 'past_key_values'])"
            ]
          },
          "execution_count": 11,
          "metadata": {},
          "output_type": "execute_result"
        }
      ],
      "source": [
        "inputs = processor(videos=list(video), text=prompt, return_tensors=\"pt\").to(\"cuda:0\", torch.float16)\n",
        "\n",
        "out = model.generate(**inputs,\n",
        "            do_sample=False,\n",
        "            temperature=0.5,\n",
        "            max_new_tokens=4096,\n",
        "            return_dict_in_generate=True,\n",
        "            # output_logits=True,\n",
        "            output_scores=True\n",
        "                     )\n",
        "\n",
        "out.keys()"
      ]
    },
    {
      "cell_type": "code",
      "execution_count": null,
      "metadata": {
        "id": "ceLKtM_L_h3-"
      },
      "outputs": [],
      "source": [
        "model.config.vocab_size = model.config.text_config.vocab_size"
      ]
    },
    {
      "cell_type": "code",
      "execution_count": null,
      "metadata": {
        "id": "G774uxS_7n8t"
      },
      "outputs": [],
      "source": [
        "transition_scores = model.compute_transition_scores(\n",
        "    out.sequences, out.scores, normalize_logits=True\n",
        ")\n"
      ]
    },
    {
      "cell_type": "code",
      "execution_count": null,
      "metadata": {
        "colab": {
          "base_uri": "https://localhost:8080/"
        },
        "id": "jD4jPvB29RSf",
        "outputId": "503c590b-170d-44ce-d903-66868f3ca44d"
      },
      "outputs": [
        {
          "data": {
            "text/plain": [
              "(tensor([[-7.0447e-01, -4.9071e-03, -2.1356e-01, -4.3207e-02, -8.3723e-01,\n",
              "          -8.1322e-01, -4.6118e-02, -3.3188e-02, -1.3310e-02, -2.9721e-01,\n",
              "          -9.9138e-01, -1.6689e-06, -7.2667e-04, -1.6497e-03, -3.1691e-01,\n",
              "          -2.2741e-02, -3.1248e-02, -2.0857e-01, -8.3337e-02]], device='cuda:0'),\n",
              " torch.Size([1, 19]))"
            ]
          },
          "execution_count": 28,
          "metadata": {},
          "output_type": "execute_result"
        }
      ],
      "source": [
        "transition_scores ,transition_scores.shape"
      ]
    },
    {
      "cell_type": "code",
      "execution_count": null,
      "metadata": {
        "colab": {
          "base_uri": "https://localhost:8080/"
        },
        "id": "IRbdjfI09L63",
        "outputId": "c31619fe-78d1-47ba-e2a1-be398fd102cc"
      },
      "outputs": [
        {
          "name": "stdout",
          "output_type": "stream",
          "text": [
            "|   785 | The      | -0.7045 | 49.44%\n",
            "|  2766 |  video   | -0.0049 | 99.51%\n",
            "|  4933 |  shows   | -0.2136 | 80.77%\n",
            "|   264 |  a       | -0.0432 | 95.77%\n",
            "|  1682 |  child   | -0.8372 | 43.29%\n",
            "| 11699 |  sitting | -0.8132 | 44.34%\n",
            "|   389 |  on      | -0.0461 | 95.49%\n",
            "|   264 |  a       | -0.0332 | 96.74%\n",
            "|  4845 |  bed     | -0.0133 | 98.68%\n",
            "|    11 | ,        | -0.2972 | 74.29%\n",
            "|  2922 |  eng     | -0.9914 | 37.11%\n",
            "|  2128 | ross     | -0.0000 | 100.00%\n",
            "|   291 | ed       | -0.0007 | 99.93%\n",
            "|   304 |  in      | -0.0016 | 99.84%\n",
            "|  5290 |  reading | -0.3169 | 72.84%\n",
            "|   264 |  a       | -0.0227 | 97.75%\n",
            "|  2311 |  book    | -0.0312 | 96.92%\n",
            "|    13 | .        | -0.2086 | 81.17%\n",
            "| 151645 | <|im_end|> | -0.0833 | 92.00%\n"
          ]
        }
      ],
      "source": [
        "input_length = inputs.input_ids.shape[1]\n",
        "generated_tokens = out.sequences[:, input_length:]\n",
        "for tok, score in zip(generated_tokens[0], transition_scores[0]):\n",
        "    # | token | token string | logits | probability\n",
        "    score = score.to('cpu')\n",
        "    print(f\"| {tok:5d} | {processor.tokenizer.decode(tok):8s} | {score.numpy():.4f} | {np.exp(score.numpy()):.2%}\")"
      ]
    },
    {
      "cell_type": "code",
      "execution_count": null,
      "metadata": {
        "id": "FISyyQ_77n6r"
      },
      "outputs": [],
      "source": []
    },
    {
      "cell_type": "code",
      "execution_count": null,
      "metadata": {
        "id": "k_9Hqgoj7nyY"
      },
      "outputs": [],
      "source": []
    },
    {
      "cell_type": "code",
      "execution_count": null,
      "metadata": {
        "id": "VGR8w2-C7nvc"
      },
      "outputs": [],
      "source": []
    },
    {
      "cell_type": "code",
      "execution_count": null,
      "metadata": {
        "colab": {
          "base_uri": "https://localhost:8080/"
        },
        "id": "nuUKgToPBVI4",
        "outputId": "83d15812-8406-4262-a21d-fc13e4ef2c08"
      },
      "outputs": [
        {
          "data": {
            "text/plain": [
              "(19, torch.Size([1, 152000]))"
            ]
          },
          "execution_count": 19,
          "metadata": {},
          "output_type": "execute_result"
        }
      ],
      "source": [
        "len(out['logits']), out['logits'][0].shape"
      ]
    },
    {
      "cell_type": "code",
      "execution_count": null,
      "metadata": {
        "colab": {
          "base_uri": "https://localhost:8080/"
        },
        "id": "YFjiT8O1QHjB",
        "outputId": "2cd26142-a65d-4e21-e651-fd38e80ef0e1"
      },
      "outputs": [
        {
          "data": {
            "text/plain": [
              "(torch.Size([1, 1603]),\n",
              " tensor([[151644,    872,    220,  ...,   2311,     13, 151645]],\n",
              "        device='cuda:0'))"
            ]
          },
          "execution_count": 23,
          "metadata": {},
          "output_type": "execute_result"
        }
      ],
      "source": [
        "out['sequences'].shape, out['sequences']"
      ]
    },
    {
      "cell_type": "code",
      "execution_count": null,
      "metadata": {
        "colab": {
          "base_uri": "https://localhost:8080/"
        },
        "id": "DRQSqjTHQHb9",
        "outputId": "ae4b2231-5df7-40a4-f8d6-03f6ca7a0b47"
      },
      "outputs": [
        {
          "data": {
            "text/plain": [
              "18"
            ]
          },
          "execution_count": 54,
          "metadata": {},
          "output_type": "execute_result"
        }
      ],
      "source": [
        "len(out['sequences'].tolist()[0][-19:-1])"
      ]
    },
    {
      "cell_type": "code",
      "execution_count": null,
      "metadata": {
        "colab": {
          "base_uri": "https://localhost:8080/"
        },
        "id": "rP36cpimBhz-",
        "outputId": "043f23c4-f5a4-4be9-c748-95c7af18bf6e"
      },
      "outputs": [
        {
          "data": {
            "text/plain": [
              "[785,\n",
              " 2766,\n",
              " 4933,\n",
              " 264,\n",
              " 1682,\n",
              " 11699,\n",
              " 389,\n",
              " 264,\n",
              " 4845,\n",
              " 11,\n",
              " 2922,\n",
              " 2128,\n",
              " 291,\n",
              " 304,\n",
              " 5290,\n",
              " 264,\n",
              " 2311,\n",
              " 13]"
            ]
          },
          "execution_count": 52,
          "metadata": {},
          "output_type": "execute_result"
        }
      ],
      "source": [
        "processor.tokenizer('The video shows a child sitting on a bed, engrossed in reading a book.').input_ids"
      ]
    },
    {
      "cell_type": "code",
      "execution_count": null,
      "metadata": {
        "colab": {
          "base_uri": "https://localhost:8080/"
        },
        "id": "nRZkqYboSqDh",
        "outputId": "ed01b012-c214-453b-f63f-15b87234fef9"
      },
      "outputs": [
        {
          "data": {
            "text/plain": [
              "torch.return_types.topk(\n",
              "values=tensor([[23.3125]], device='cuda:0'),\n",
              "indices=tensor([[785]], device='cuda:0'))"
            ]
          },
          "execution_count": 60,
          "metadata": {},
          "output_type": "execute_result"
        }
      ],
      "source": [
        "out.logits[0].topk(1)"
      ]
    },
    {
      "cell_type": "code",
      "execution_count": null,
      "metadata": {
        "id": "_oA-C8vnSp_6"
      },
      "outputs": [],
      "source": []
    },
    {
      "cell_type": "code",
      "execution_count": null,
      "metadata": {
        "colab": {
          "base_uri": "https://localhost:8080/"
        },
        "id": "yfG5RUcYCqI5",
        "outputId": "44dd5b1e-6178-4b10-c5f6-a3881ffbc548"
      },
      "outputs": [
        {
          "data": {
            "text/plain": [
              "18"
            ]
          },
          "execution_count": 59,
          "metadata": {},
          "output_type": "execute_result"
        }
      ],
      "source": [
        "len([785, 2766, 4933, 264, 1682, 11699, 389, 264, 4845, 11, 2922, 2128, 291, 304, 5290, 264, 2311, 13])"
      ]
    },
    {
      "cell_type": "code",
      "execution_count": null,
      "metadata": {
        "colab": {
          "base_uri": "https://localhost:8080/"
        },
        "id": "VtqHpRxdBVGV",
        "outputId": "a397c6d7-5a4a-4007-9529-05a5f8ab28e3"
      },
      "outputs": [
        {
          "data": {
            "text/plain": [
              "dict_keys(['input_ids', 'attention_mask', 'pixel_values_videos'])"
            ]
          },
          "execution_count": 40,
          "metadata": {},
          "output_type": "execute_result"
        }
      ],
      "source": [
        "inputs.keys()"
      ]
    },
    {
      "cell_type": "code",
      "execution_count": null,
      "metadata": {
        "colab": {
          "base_uri": "https://localhost:8080/"
        },
        "id": "Y2VvnTO4BU1N",
        "outputId": "8e347f7e-467e-4eea-dda6-32b5d11118db"
      },
      "outputs": [
        {
          "data": {
            "text/plain": [
              "1584"
            ]
          },
          "execution_count": 43,
          "metadata": {},
          "output_type": "execute_result"
        }
      ],
      "source": [
        "len(inputs['input_ids'])"
      ]
    },
    {
      "cell_type": "code",
      "execution_count": null,
      "metadata": {
        "colab": {
          "base_uri": "https://localhost:8080/"
        },
        "id": "Vj4uWeGUCLMt",
        "outputId": "a05f4ab7-41cd-4c5a-b3ff-3c58ae1e0c57"
      },
      "outputs": [
        {
          "data": {
            "text/plain": [
              "torch.return_types.topk(\n",
              "values=tensor([[23.3125, 23.1094, 21.2969, 19.7500, 19.3281]], device='cuda:0'),\n",
              "indices=tensor([[ 785,   32, 1986, 2132, 2082]], device='cuda:0'))"
            ]
          },
          "execution_count": 55,
          "metadata": {},
          "output_type": "execute_result"
        }
      ],
      "source": [
        "out['logits'][0].topk(5)"
      ]
    },
    {
      "cell_type": "code",
      "execution_count": null,
      "metadata": {
        "colab": {
          "base_uri": "https://localhost:8080/"
        },
        "id": "WQ_L1VB1CRWq",
        "outputId": "29924143-34bf-4af0-e75d-ee0ba310ad50"
      },
      "outputs": [
        {
          "data": {
            "text/plain": [
              "tensor([[-0.4521, 10.6016,  6.2930,  ...,  0.3262,  0.3245,  0.3098]],\n",
              "       device='cuda:0')"
            ]
          },
          "execution_count": 53,
          "metadata": {},
          "output_type": "execute_result"
        }
      ],
      "source": [
        "out['logits'][0]"
      ]
    },
    {
      "cell_type": "code",
      "execution_count": null,
      "metadata": {
        "colab": {
          "base_uri": "https://localhost:8080/"
        },
        "id": "impuDRwj_BZW",
        "outputId": "1dbfe08c-40da-41fc-dfcd-aaed0ea6ddb6"
      },
      "outputs": [
        {
          "data": {
            "text/plain": [
              "(tensor([[151644,    872,    220,  ...,   2311,     13, 151645]],\n",
              "        device='cuda:0'),\n",
              " 1603)"
            ]
          },
          "execution_count": 36,
          "metadata": {},
          "output_type": "execute_result"
        }
      ],
      "source": [
        "out['sequences'], len(out['sequences'][0])"
      ]
    },
    {
      "cell_type": "code",
      "execution_count": null,
      "metadata": {
        "id": "UyPHOMMX-5Cc"
      },
      "outputs": [],
      "source": [
        "ans = processor.batch_decode(out['sequences'], skip_special_tokens=True, clean_up_tokenization_spaces=True)\n",
        "# [\"user\\n\\nWhy is this video funny?\\nassistant\\nThe video appears to be humorous because it shows a young child, who is wearing glasses and holding a book, seemingly reading with a serious and focused expression. The child's glasses are a bit oversized for their face, which adds a comical touch, as it's a common trope to see children wearing\"]"
      ]
    },
    {
      "cell_type": "code",
      "execution_count": null,
      "metadata": {
        "colab": {
          "base_uri": "https://localhost:8080/"
        },
        "id": "V_LQGQbHRk_a",
        "outputId": "abbc5026-c9cb-4952-ecb8-52c271339dd2"
      },
      "outputs": [
        {
          "data": {
            "text/plain": [
              "['user \\nWhat is shown in this video?assistant\\nThe video shows a child sitting on a bed, engrossed in reading a book.']"
            ]
          },
          "execution_count": 27,
          "metadata": {},
          "output_type": "execute_result"
        }
      ],
      "source": [
        "ans"
      ]
    },
    {
      "cell_type": "code",
      "execution_count": null,
      "metadata": {
        "colab": {
          "base_uri": "https://localhost:8080/"
        },
        "id": "LFHBA1oh_Gi7",
        "outputId": "ef818438-60ee-4bf7-8a18-8a485f90bc0c"
      },
      "outputs": [
        {
          "data": {
            "text/plain": [
              "['<|im_start|>user <video><video><video><video><video><video><video><video><video><video><video><video><video><video><video><video><video><video><video><video><video><video><video><video><video><video><video><video><video><video><video><video><video><video><video><video><video><video><video><video><video><video><video><video><video><video><video><video><video><video><video><video><video><video><video><video><video><video><video><video><video><video><video><video><video><video><video><video><video><video><video><video><video><video><video><video><video><video><video><video><video><video><video><video><video><video><video><video><video><video><video><video><video><video><video><video><video><video><video><video><video><video><video><video><video><video><video><video><video><video><video><video><video><video><video><video><video><video><video><video><video><video><video><video><video><video><video><video><video><video><video><video><video><video><video><video><video><video><video><video><video><video><video><video><video><video><video><video><video><video><video><video><video><video><video><video><video><video><video><video><video><video><video><video><video><video><video><video><video><video><video><video><video><video><video><video><video><video><video><video><video><video><video><video><video><video><video><video><video><video><video><video><video><video><video><video><video><video><video><video><video><video><video><video><video><video><video><video><video><video><video><video><video><video><video><video><video><video><video><video><video><video><video><video><video><video><video><video><video><video><video><video><video><video><video><video><video><video><video><video><video><video><video><video><video><video><video><video><video><video><video><video><video><video><video><video><video><video><video><video><video><video><video><video><video><video><video><video><video><video><video><video><video><video><video><video><video><video><video><video><video><video><video><video><video><video><video><video><video><video><video><video><video><video><video><video><video><video><video><video><video><video><video><video><video><video><video><video><video><video><video><video><video><video><video><video><video><video><video><video><video><video><video><video><video><video><video><video><video><video><video><video><video><video><video><video><video><video><video><video><video><video><video><video><video><video><video><video><video><video><video><video><video><video><video><video><video><video><video><video><video><video><video><video><video><video><video><video><video><video><video><video><video><video><video><video><video><video><video><video><video><video><video><video><video><video><video><video><video><video><video><video><video><video><video><video><video><video><video><video><video><video><video><video><video><video><video><video><video><video><video><video><video><video><video><video><video><video><video><video><video><video><video><video><video><video><video><video><video><video><video><video><video><video><video><video><video><video><video><video><video><video><video><video><video><video><video><video><video><video><video><video><video><video><video><video><video><video><video><video><video><video><video><video><video><video><video><video><video><video><video><video><video><video><video><video><video><video><video><video><video><video><video><video><video><video><video><video><video><video><video><video><video><video><video><video><video><video><video><video><video><video><video><video><video><video><video><video><video><video><video><video><video><video><video><video><video><video><video><video><video><video><video><video><video><video><video><video><video><video><video><video><video><video><video><video><video><video><video><video><video><video><video><video><video><video><video><video><video><video><video><video><video><video><video><video><video><video><video><video><video><video><video><video><video><video><video><video><video><video><video><video><video><video><video><video><video><video><video><video><video><video><video><video><video><video><video><video><video><video><video><video><video><video><video><video><video><video><video><video><video><video><video><video><video><video><video><video><video><video><video><video><video><video><video><video><video><video><video><video><video><video><video><video><video><video><video><video><video><video><video><video><video><video><video><video><video><video><video><video><video><video><video><video><video><video><video><video><video><video><video><video><video><video><video><video><video><video><video><video><video><video><video><video><video><video><video><video><video><video><video><video><video><video><video><video><video><video><video><video><video><video><video><video><video><video><video><video><video><video><video><video><video><video><video><video><video><video><video><video><video><video><video><video><video><video><video><video><video><video><video><video><video><video><video><video><video><video><video><video><video><video><video><video><video><video><video><video><video><video><video><video><video><video><video><video><video><video><video><video><video><video><video><video><video><video><video><video><video><video><video><video><video><video><video><video><video><video><video><video><video><video><video><video><video><video><video><video><video><video><video><video><video><video><video><video><video><video><video><video><video><video><video><video><video><video><video><video><video><video><video><video><video><video><video><video><video><video><video><video><video><video><video><video><video><video><video><video><video><video><video><video><video><video><video><video><video><video><video><video><video><video><video><video><video><video><video><video><video><video><video><video><video><video><video><video><video><video><video><video><video><video><video><video><video><video><video><video><video><video><video><video><video><video><video><video><video><video><video><video><video><video><video><video><video><video><video><video><video><video><video><video><video><video><video><video><video><video><video><video><video><video><video><video><video><video><video><video><video><video><video><video><video><video><video><video><video><video><video><video><video><video><video><video><video><video><video><video><video><video><video><video><video><video><video><video><video><video><video><video><video><video><video><video><video><video><video><video><video><video><video><video><video><video><video><video><video><video><video><video><video><video><video><video><video><video><video><video><video><video><video><video><video><video><video><video><video><video><video><video><video><video><video><video><video><video><video><video><video><video><video><video><video><video><video><video><video><video><video><video><video><video><video><video><video><video><video><video><video><video><video><video><video><video><video><video><video><video><video><video><video><video><video><video><video><video><video><video><video><video><video><video><video><video><video><video><video><video><video><video><video><video><video><video><video><video><video><video><video><video><video><video><video><video><video><video><video><video><video><video><video><video><video><video><video><video><video><video><video><video><video><video><video><video><video><video><video><video><video><video><video><video><video><video><video><video><video><video><video><video><video><video><video><video><video><video><video><video><video><video><video><video><video><video><video><video><video><video><video><video><video><video><video><video><video><video><video><video><video><video><video><video><video><video><video><video><video><video><video><video><video><video><video><video><video><video><video><video><video><video><video><video><video><video><video><video><video><video><video><video><video><video><video><video><video><video><video><video><video><video><video><video><video><video><video><video><video><video><video><video><video><video><video><video><video><video><video><video><video><video><video><video><video><video><video><video><video><video><video><video><video><video><video><video><video><video><video><video><video><video><video><video><video><video><video><video><video><video><video><video><video><video><video><video><video><video><video><video><video><video><video><video><video><video><video><video><video><video><video><video><video><video><video><video><video><video><video><video><video><video><video><video><video><video><video><video><video><video><video><video><video><video><video><video><video><video><video><video><video><video><video><video><video><video><video><video><video><video><video><video><video><video><video><video><video><video><video><video><video><video><video><video><video><video><video><video><video><video><video><video><video><video><video><video><video><video><video><video><video><video><video><video><video><video><video><video><video><video><video><video><video><video><video><video><video><video><video><video><video><video><video><video><video><video><video><video><video><video><video><video><video><video><video><video><video><video><video><video><video><video><video><video><video><video><video><video><video><video><video><video><video><video><video><video><video><video><video><video><video><video><video><video><video><video><video><video><video><video><video><video><video><video><video><video><video><video><video><video><video><video><video><video><video><video><video><video><video><video><video><video><video><video><video><video><video><video><video><video><video><video><video><video><video><video><video><video><video><video><video><video><video><video><video><video><video><video><video><video><video><video><video><video><video><video><video><video><video><video><video><video><video><video><video><video><video><video><video><video><video><video><video><video><video><video><video><video><video><video><video><video><video><video><video><video><video><video><video><video><video><video><video><video><video><video><video><video><video><video><video><video><video><video><video><video><video><video><video><video><video><video><video><video><video><video><video><video><video><video><video><video><video><video><video><video><video><video><video><video><video><video><video><video><video><video><video><video><video><video><video><video><video><video><video><video><video><video><video><video><video><video><video><video><video><video><video><video><video><video><video><video><video><video><video><video><video><video><video><video><video><video><video><video><video><video><video><video><video><video><video><video><video><video><video><video><video><video><video><video><video><video><video><video><video><video><video><video><video><video><video><video><video><video><video><video><video><video><video><video><video><video><video><video><video><video><video><video><video><video><video>\\nWhat is shown in this video?<|im_end|><|im_start|>assistant\\nThe video shows a child sitting on a bed, engrossed in reading a book.<|im_end|>']"
            ]
          },
          "execution_count": 25,
          "metadata": {},
          "output_type": "execute_result"
        }
      ],
      "source": [
        "ans"
      ]
    },
    {
      "cell_type": "code",
      "execution_count": null,
      "metadata": {
        "id": "vknugNLOQKrG"
      },
      "outputs": [],
      "source": []
    },
    {
      "cell_type": "code",
      "execution_count": null,
      "metadata": {
        "id": "taQL3wvIQKkK"
      },
      "outputs": [],
      "source": []
    },
    {
      "cell_type": "code",
      "execution_count": null,
      "metadata": {
        "colab": {
          "base_uri": "https://localhost:8080/"
        },
        "id": "uuFZTYxG73pw",
        "outputId": "0524748e-ee09-489d-e239-ffb5ea89ebba"
      },
      "outputs": [
        {
          "data": {
            "text/plain": [
              "LlavaOnevisionProcessor:\n",
              "- image_processor: LlavaOnevisionImageProcessor {\n",
              "  \"do_convert_rgb\": true,\n",
              "  \"do_normalize\": true,\n",
              "  \"do_pad\": true,\n",
              "  \"do_rescale\": true,\n",
              "  \"do_resize\": true,\n",
              "  \"image_grid_pinpoints\": [\n",
              "    [\n",
              "      384,\n",
              "      384\n",
              "    ],\n",
              "    [\n",
              "      384,\n",
              "      768\n",
              "    ],\n",
              "    [\n",
              "      384,\n",
              "      1152\n",
              "    ],\n",
              "    [\n",
              "      384,\n",
              "      1536\n",
              "    ],\n",
              "    [\n",
              "      384,\n",
              "      1920\n",
              "    ],\n",
              "    [\n",
              "      384,\n",
              "      2304\n",
              "    ],\n",
              "    [\n",
              "      768,\n",
              "      384\n",
              "    ],\n",
              "    [\n",
              "      768,\n",
              "      768\n",
              "    ],\n",
              "    [\n",
              "      768,\n",
              "      1152\n",
              "    ],\n",
              "    [\n",
              "      768,\n",
              "      1536\n",
              "    ],\n",
              "    [\n",
              "      768,\n",
              "      1920\n",
              "    ],\n",
              "    [\n",
              "      768,\n",
              "      2304\n",
              "    ],\n",
              "    [\n",
              "      1152,\n",
              "      384\n",
              "    ],\n",
              "    [\n",
              "      1152,\n",
              "      768\n",
              "    ],\n",
              "    [\n",
              "      1152,\n",
              "      1152\n",
              "    ],\n",
              "    [\n",
              "      1152,\n",
              "      1536\n",
              "    ],\n",
              "    [\n",
              "      1152,\n",
              "      1920\n",
              "    ],\n",
              "    [\n",
              "      1152,\n",
              "      2304\n",
              "    ],\n",
              "    [\n",
              "      1536,\n",
              "      384\n",
              "    ],\n",
              "    [\n",
              "      1536,\n",
              "      768\n",
              "    ],\n",
              "    [\n",
              "      1536,\n",
              "      1152\n",
              "    ],\n",
              "    [\n",
              "      1536,\n",
              "      1536\n",
              "    ],\n",
              "    [\n",
              "      1536,\n",
              "      1920\n",
              "    ],\n",
              "    [\n",
              "      1536,\n",
              "      2304\n",
              "    ],\n",
              "    [\n",
              "      1920,\n",
              "      384\n",
              "    ],\n",
              "    [\n",
              "      1920,\n",
              "      768\n",
              "    ],\n",
              "    [\n",
              "      1920,\n",
              "      1152\n",
              "    ],\n",
              "    [\n",
              "      1920,\n",
              "      1536\n",
              "    ],\n",
              "    [\n",
              "      1920,\n",
              "      1920\n",
              "    ],\n",
              "    [\n",
              "      1920,\n",
              "      2304\n",
              "    ],\n",
              "    [\n",
              "      2304,\n",
              "      384\n",
              "    ],\n",
              "    [\n",
              "      2304,\n",
              "      768\n",
              "    ],\n",
              "    [\n",
              "      2304,\n",
              "      1152\n",
              "    ],\n",
              "    [\n",
              "      2304,\n",
              "      1536\n",
              "    ],\n",
              "    [\n",
              "      2304,\n",
              "      1920\n",
              "    ],\n",
              "    [\n",
              "      2304,\n",
              "      2304\n",
              "    ]\n",
              "  ],\n",
              "  \"image_mean\": [\n",
              "    0.5,\n",
              "    0.5,\n",
              "    0.5\n",
              "  ],\n",
              "  \"image_processor_type\": \"LlavaOnevisionImageProcessor\",\n",
              "  \"image_std\": [\n",
              "    0.5,\n",
              "    0.5,\n",
              "    0.5\n",
              "  ],\n",
              "  \"processor_class\": \"LlavaOnevisionProcessor\",\n",
              "  \"resample\": 3,\n",
              "  \"rescale_factor\": 0.00392156862745098,\n",
              "  \"size\": {\n",
              "    \"height\": 384,\n",
              "    \"width\": 384\n",
              "  }\n",
              "}\n",
              "\n",
              "- tokenizer: Qwen2TokenizerFast(name_or_path='llava-hf/llava-onevision-qwen2-0.5b-ov-hf', vocab_size=151643, model_max_length=32768, is_fast=True, padding_side='right', truncation_side='right', special_tokens={'eos_token': '<|im_end|>', 'pad_token': '<|endoftext|>', 'additional_special_tokens': ['<|im_start|>', '<|im_end|>']}, clean_up_tokenization_spaces=False),  added_tokens_decoder={\n",
              "\t151643: AddedToken(\"<|endoftext|>\", rstrip=False, lstrip=False, single_word=False, normalized=False, special=True),\n",
              "\t151644: AddedToken(\"<|im_start|>\", rstrip=False, lstrip=False, single_word=False, normalized=False, special=True),\n",
              "\t151645: AddedToken(\"<|im_end|>\", rstrip=False, lstrip=False, single_word=False, normalized=False, special=True),\n",
              "\t151646: AddedToken(\"<image>\", rstrip=False, lstrip=False, single_word=False, normalized=False, special=True),\n",
              "\t151647: AddedToken(\"<video>\", rstrip=False, lstrip=False, single_word=False, normalized=False, special=True),\n",
              "}\n",
              "- video_processor: LlavaOnevisionVideoProcessor {\n",
              "  \"do_convert_rgb\": true,\n",
              "  \"do_normalize\": true,\n",
              "  \"do_pad\": true,\n",
              "  \"do_rescale\": true,\n",
              "  \"do_resize\": true,\n",
              "  \"image_mean\": [\n",
              "    0.5,\n",
              "    0.5,\n",
              "    0.5\n",
              "  ],\n",
              "  \"image_processor_type\": \"LlavaOnevisionVideoProcessor\",\n",
              "  \"image_std\": [\n",
              "    0.5,\n",
              "    0.5,\n",
              "    0.5\n",
              "  ],\n",
              "  \"processor_class\": \"LlavaOnevisionProcessor\",\n",
              "  \"resample\": 3,\n",
              "  \"rescale_factor\": 0.00392156862745098,\n",
              "  \"size\": {\n",
              "    \"height\": 384,\n",
              "    \"width\": 384\n",
              "  }\n",
              "}\n",
              "\n",
              "\n",
              "{\n",
              "  \"image_token\": \"<image>\",\n",
              "  \"num_image_tokens\": 729,\n",
              "  \"processor_class\": \"LlavaOnevisionProcessor\",\n",
              "  \"video_token\": \"<video>\",\n",
              "  \"vision_feature_select_strategy\": \"full\"\n",
              "}"
            ]
          },
          "execution_count": 15,
          "metadata": {},
          "output_type": "execute_result"
        }
      ],
      "source": [
        "processor"
      ]
    },
    {
      "cell_type": "code",
      "execution_count": null,
      "metadata": {
        "colab": {
          "base_uri": "https://localhost:8080/"
        },
        "id": "G2IJKM6b6Fyz",
        "outputId": "4a17cf5d-71fd-4ed9-aa47-beb032971cda"
      },
      "outputs": [
        {
          "data": {
            "text/plain": [
              "torch.Size([1, 1603])"
            ]
          },
          "execution_count": 14,
          "metadata": {},
          "output_type": "execute_result"
        }
      ],
      "source": [
        "out.shape"
      ]
    },
    {
      "cell_type": "code",
      "execution_count": null,
      "metadata": {
        "colab": {
          "base_uri": "https://localhost:8080/"
        },
        "id": "wX_gRxgeteNe",
        "outputId": "fa93d0e3-692e-49b2-d786-cab21c445e2d"
      },
      "outputs": [
        {
          "data": {
            "text/plain": [
              "['user \\nWhat is shown in this video?assistant\\nThe video shows a child sitting in front of a wooden wall with a colorful cake in the foreground.']"
            ]
          },
          "execution_count": 18,
          "metadata": {},
          "output_type": "execute_result"
        }
      ],
      "source": [
        "ans"
      ]
    },
    {
      "cell_type": "code",
      "execution_count": null,
      "metadata": {
        "id": "wDRxvYeWsi48"
      },
      "outputs": [],
      "source": [
        "import json\n",
        "\n",
        "# open file\n",
        "with open('/content/answers_dzen_4.0_199_сын.json', 'r') as f:\n",
        "    data = json.load(f)\n",
        "\n",
        "data"
      ]
    },
    {
      "cell_type": "code",
      "execution_count": null,
      "metadata": {
        "id": "vr9Swv0MtT0v"
      },
      "outputs": [],
      "source": [
        "data[\"5c0a032c998cfe00a955d220_сын унижает и оскорбляет мать как повлиять\"] = ans[0]"
      ]
    },
    {
      "cell_type": "code",
      "execution_count": null,
      "metadata": {
        "id": "-gJGoymLssVw"
      },
      "outputs": [],
      "source": [
        "N = 4.0\n",
        "name = 'dzen'\n",
        "save_ans_path = f'answers_{name}_{N}.json'\n",
        "with open(save_ans_path, 'w') as f:\n",
        "    json.dump(data, f)"
      ]
    },
    {
      "cell_type": "markdown",
      "metadata": {
        "id": "Z26aq1MaSXv_"
      },
      "source": [
        "## for several videos"
      ]
    },
    {
      "cell_type": "code",
      "execution_count": null,
      "metadata": {
        "colab": {
          "base_uri": "https://localhost:8080/"
        },
        "id": "pn44vEB5l9qD",
        "outputId": "5b8369e5-8c17-493d-9b60-bc8f0ce541b4"
      },
      "outputs": [
        {
          "data": {
            "text/plain": [
              "[8, 6, 4, 2]"
            ]
          },
          "execution_count": 16,
          "metadata": {},
          "output_type": "execute_result"
        }
      ],
      "source": [
        "list(range(8, 0, -2))"
      ]
    },
    {
      "cell_type": "code",
      "execution_count": null,
      "metadata": {
        "id": "eIH5ddkfQBFx"
      },
      "outputs": [],
      "source": [
        "import gc"
      ]
    },
    {
      "cell_type": "code",
      "execution_count": null,
      "metadata": {
        "id": "zqq89m6FMOWS",
        "colab": {
          "base_uri": "https://localhost:8080/",
          "height": 1000,
          "referenced_widgets": [
            "14ba2c4a6e764dd297e0a55a4a262b8b",
            "d79eb320339d4eb9802661cc028cf2a8",
            "59b8f4162bff4518958c5b05443ce4dc",
            "9898cd350c784666a477c2843afb6000",
            "9c63d151bf2642798dd7bc41afa0b1dd",
            "2728b3fe87cc46a3a1095e3abf576785",
            "88e88113a7c34e809799be934a937188",
            "918ea2c23a9d4b9bb13ef2b2b54c774e",
            "58cc7fd9e2134926a79bcea53516d7c9",
            "51db9087b7784ea18b62d941150e4e39",
            "da4ef150bba94b8e85bd9790888b4d31",
            "11b677c1d45e46d096369ba3de021921",
            "5cf9e75078f446f49baaa4cf550bfb26",
            "79ae79d4f753402fbb8eeb74a5d92972",
            "45470938cc1743e294e7760fabe41bb7",
            "22db4b60cf634a249b14f74bafe27dd5",
            "2cd17f3a2af44a82afeee6e91828b1bb",
            "51c9084d9f81428db46c4cc0b892b031",
            "9485396469a84fbbbf99373cacc926af",
            "14e9bbfa0d354f0c976955e1cea1a9e8",
            "e532ea246e3b45bc925efd2e77edb2bd",
            "e0a1356f1d3148e4bc74c5f3b2f080ff"
          ]
        },
        "outputId": "37369897-3ef0-451a-f2ea-27e9d756342c"
      },
      "outputs": [
        {
          "output_type": "display_data",
          "data": {
            "text/plain": [
              "  0%|          | 0/1 [00:00<?, ?it/s]"
            ],
            "application/vnd.jupyter.widget-view+json": {
              "version_major": 2,
              "version_minor": 0,
              "model_id": "14ba2c4a6e764dd297e0a55a4a262b8b"
            }
          },
          "metadata": {}
        },
        {
          "output_type": "display_data",
          "data": {
            "text/plain": [
              "  0%|          | 0/100 [00:00<?, ?it/s]"
            ],
            "application/vnd.jupyter.widget-view+json": {
              "version_major": 2,
              "version_minor": 0,
              "model_id": "11b677c1d45e46d096369ba3de021921"
            }
          },
          "metadata": {}
        },
        {
          "output_type": "stream",
          "name": "stderr",
          "text": [
            "/usr/local/lib/python3.10/dist-packages/transformers/generation/configuration_utils.py:598: UserWarning: `do_sample` is set to `False`. However, `temperature` is set to `0.5` -- this flag is only used in sample-based generation modes. You should set `do_sample=True` or unset `temperature`.\n",
            "  warnings.warn(\n",
            "Setting `pad_token_id` to `eos_token_id`:None for open-end generation.\n",
            "From v4.47 onwards, when a model cache is to be returned, `generate` will return a `Cache` instance instead by default (as opposed to the legacy tuple of tuples format). If you want to keep returning the legacy format, please set `return_legacy_cache=True`.\n",
            "Setting `pad_token_id` to `eos_token_id`:None for open-end generation.\n",
            "Setting `pad_token_id` to `eos_token_id`:None for open-end generation.\n",
            "Setting `pad_token_id` to `eos_token_id`:None for open-end generation.\n",
            "Setting `pad_token_id` to `eos_token_id`:None for open-end generation.\n",
            "Setting `pad_token_id` to `eos_token_id`:None for open-end generation.\n",
            "Setting `pad_token_id` to `eos_token_id`:None for open-end generation.\n",
            "Setting `pad_token_id` to `eos_token_id`:None for open-end generation.\n",
            "Setting `pad_token_id` to `eos_token_id`:None for open-end generation.\n",
            "Setting `pad_token_id` to `eos_token_id`:None for open-end generation.\n",
            "Setting `pad_token_id` to `eos_token_id`:None for open-end generation.\n",
            "Setting `pad_token_id` to `eos_token_id`:None for open-end generation.\n",
            "Setting `pad_token_id` to `eos_token_id`:None for open-end generation.\n",
            "Setting `pad_token_id` to `eos_token_id`:None for open-end generation.\n",
            "Setting `pad_token_id` to `eos_token_id`:None for open-end generation.\n",
            "Setting `pad_token_id` to `eos_token_id`:None for open-end generation.\n",
            "Setting `pad_token_id` to `eos_token_id`:None for open-end generation.\n",
            "Setting `pad_token_id` to `eos_token_id`:None for open-end generation.\n",
            "Setting `pad_token_id` to `eos_token_id`:None for open-end generation.\n",
            "Setting `pad_token_id` to `eos_token_id`:None for open-end generation.\n",
            "Setting `pad_token_id` to `eos_token_id`:None for open-end generation.\n",
            "Setting `pad_token_id` to `eos_token_id`:None for open-end generation.\n",
            "Setting `pad_token_id` to `eos_token_id`:None for open-end generation.\n",
            "Setting `pad_token_id` to `eos_token_id`:None for open-end generation.\n",
            "Setting `pad_token_id` to `eos_token_id`:None for open-end generation.\n",
            "Setting `pad_token_id` to `eos_token_id`:None for open-end generation.\n",
            "Setting `pad_token_id` to `eos_token_id`:None for open-end generation.\n",
            "Setting `pad_token_id` to `eos_token_id`:None for open-end generation.\n",
            "Setting `pad_token_id` to `eos_token_id`:None for open-end generation.\n",
            "Setting `pad_token_id` to `eos_token_id`:None for open-end generation.\n",
            "Setting `pad_token_id` to `eos_token_id`:None for open-end generation.\n",
            "Setting `pad_token_id` to `eos_token_id`:None for open-end generation.\n",
            "Setting `pad_token_id` to `eos_token_id`:None for open-end generation.\n",
            "Setting `pad_token_id` to `eos_token_id`:None for open-end generation.\n",
            "Setting `pad_token_id` to `eos_token_id`:None for open-end generation.\n",
            "Setting `pad_token_id` to `eos_token_id`:None for open-end generation.\n",
            "Setting `pad_token_id` to `eos_token_id`:None for open-end generation.\n",
            "Setting `pad_token_id` to `eos_token_id`:None for open-end generation.\n",
            "Setting `pad_token_id` to `eos_token_id`:None for open-end generation.\n",
            "Setting `pad_token_id` to `eos_token_id`:None for open-end generation.\n",
            "Setting `pad_token_id` to `eos_token_id`:None for open-end generation.\n",
            "Setting `pad_token_id` to `eos_token_id`:None for open-end generation.\n",
            "Setting `pad_token_id` to `eos_token_id`:None for open-end generation.\n",
            "Setting `pad_token_id` to `eos_token_id`:None for open-end generation.\n",
            "Setting `pad_token_id` to `eos_token_id`:None for open-end generation.\n",
            "Setting `pad_token_id` to `eos_token_id`:None for open-end generation.\n",
            "Setting `pad_token_id` to `eos_token_id`:None for open-end generation.\n",
            "Setting `pad_token_id` to `eos_token_id`:None for open-end generation.\n",
            "Setting `pad_token_id` to `eos_token_id`:None for open-end generation.\n",
            "Setting `pad_token_id` to `eos_token_id`:None for open-end generation.\n",
            "Setting `pad_token_id` to `eos_token_id`:None for open-end generation.\n",
            "Setting `pad_token_id` to `eos_token_id`:None for open-end generation.\n",
            "Setting `pad_token_id` to `eos_token_id`:None for open-end generation.\n",
            "Setting `pad_token_id` to `eos_token_id`:None for open-end generation.\n",
            "Setting `pad_token_id` to `eos_token_id`:None for open-end generation.\n",
            "Setting `pad_token_id` to `eos_token_id`:None for open-end generation.\n",
            "Setting `pad_token_id` to `eos_token_id`:None for open-end generation.\n",
            "Setting `pad_token_id` to `eos_token_id`:None for open-end generation.\n",
            "Setting `pad_token_id` to `eos_token_id`:None for open-end generation.\n",
            "Setting `pad_token_id` to `eos_token_id`:None for open-end generation.\n",
            "Setting `pad_token_id` to `eos_token_id`:None for open-end generation.\n",
            "Setting `pad_token_id` to `eos_token_id`:None for open-end generation.\n",
            "Setting `pad_token_id` to `eos_token_id`:None for open-end generation.\n",
            "Setting `pad_token_id` to `eos_token_id`:None for open-end generation.\n",
            "Setting `pad_token_id` to `eos_token_id`:None for open-end generation.\n",
            "Setting `pad_token_id` to `eos_token_id`:None for open-end generation.\n",
            "Setting `pad_token_id` to `eos_token_id`:None for open-end generation.\n",
            "Setting `pad_token_id` to `eos_token_id`:None for open-end generation.\n",
            "Setting `pad_token_id` to `eos_token_id`:None for open-end generation.\n",
            "Setting `pad_token_id` to `eos_token_id`:None for open-end generation.\n",
            "Setting `pad_token_id` to `eos_token_id`:None for open-end generation.\n",
            "Setting `pad_token_id` to `eos_token_id`:None for open-end generation.\n",
            "Setting `pad_token_id` to `eos_token_id`:None for open-end generation.\n",
            "Setting `pad_token_id` to `eos_token_id`:None for open-end generation.\n",
            "Setting `pad_token_id` to `eos_token_id`:None for open-end generation.\n",
            "Setting `pad_token_id` to `eos_token_id`:None for open-end generation.\n",
            "Setting `pad_token_id` to `eos_token_id`:None for open-end generation.\n",
            "Setting `pad_token_id` to `eos_token_id`:None for open-end generation.\n",
            "Setting `pad_token_id` to `eos_token_id`:None for open-end generation.\n",
            "Setting `pad_token_id` to `eos_token_id`:None for open-end generation.\n",
            "Setting `pad_token_id` to `eos_token_id`:None for open-end generation.\n",
            "Setting `pad_token_id` to `eos_token_id`:None for open-end generation.\n",
            "Setting `pad_token_id` to `eos_token_id`:None for open-end generation.\n",
            "Setting `pad_token_id` to `eos_token_id`:None for open-end generation.\n",
            "Setting `pad_token_id` to `eos_token_id`:None for open-end generation.\n",
            "Setting `pad_token_id` to `eos_token_id`:None for open-end generation.\n",
            "Setting `pad_token_id` to `eos_token_id`:None for open-end generation.\n",
            "Setting `pad_token_id` to `eos_token_id`:None for open-end generation.\n",
            "Setting `pad_token_id` to `eos_token_id`:None for open-end generation.\n",
            "Setting `pad_token_id` to `eos_token_id`:None for open-end generation.\n",
            "Setting `pad_token_id` to `eos_token_id`:None for open-end generation.\n",
            "Setting `pad_token_id` to `eos_token_id`:None for open-end generation.\n",
            "Setting `pad_token_id` to `eos_token_id`:None for open-end generation.\n",
            "Setting `pad_token_id` to `eos_token_id`:None for open-end generation.\n",
            "Setting `pad_token_id` to `eos_token_id`:None for open-end generation.\n",
            "Setting `pad_token_id` to `eos_token_id`:None for open-end generation.\n",
            "Setting `pad_token_id` to `eos_token_id`:None for open-end generation.\n",
            "Setting `pad_token_id` to `eos_token_id`:None for open-end generation.\n",
            "Setting `pad_token_id` to `eos_token_id`:None for open-end generation.\n",
            "Setting `pad_token_id` to `eos_token_id`:None for open-end generation.\n"
          ]
        },
        {
          "output_type": "stream",
          "name": "stdout",
          "text": [
            "/content/drive/MyDrive/Colab_Notebooks/CV/papers/data/HSE_Project_attacks/data/dzen_ans/0.5b/cake_w_probs/answers_dzen_8.0.json\n"
          ]
        }
      ],
      "source": [
        "name = 'dzen'\n",
        "class_name = 'cake'\n",
        "probs_ = True\n",
        "# c = range(10, 0, -2)\n",
        "c = [8]\n",
        "# c = range(10)\n",
        "for N in tqdm(c):\n",
        "    N = float(N)\n",
        "    save_dir_path = f'/content/drive/MyDrive/Colab_Notebooks/CV/papers/data/HSE_Project_attacks/data/{name} vids/{class_name}/{name} mp4 vids_{N}/'\n",
        "    # save_dir_path = f'/content/drive/MyDrive/Colab_Notebooks/CV/papers/data/HSE_Project_attacks/data/{name} mp4 vids/'\n",
        "    # save_dir_path = f'/content/drive/MyDrive/Colab_Notebooks/CV/papers/data/HSE_Project_attacks/data/{name} mp4 vids/'\n",
        "\n",
        "    answers = {}\n",
        "    for video_path in tqdm(os.listdir(save_dir_path)[:100]):\n",
        "        if video_path.endswith('.mp4'):\n",
        "            video_path_ = os.path.join(save_dir_path, video_path)\n",
        "\n",
        "            container = av.open(video_path_)\n",
        "            total_frames = container.streams.video[0].frames\n",
        "            indices = np.arange(0, total_frames).astype(int)\n",
        "            video = read_video_pyav(container, indices)\n",
        "\n",
        "            inputs = processor(videos=list(video), text=prompt, return_tensors=\"pt\").to(\"cuda:0\", torch.float16)\n",
        "            out = model.generate(**inputs,\n",
        "                        do_sample=False,\n",
        "                        temperature=0.5,\n",
        "                        max_new_tokens=4096,\n",
        "                        return_dict_in_generate=True,\n",
        "                        # output_logits=True,\n",
        "                        output_scores=True\n",
        "                                )\n",
        "\n",
        "\n",
        "            transition_scores = model.compute_transition_scores(\n",
        "                out.sequences, out.scores, normalize_logits=True\n",
        "            )\n",
        "\n",
        "            text_outputs = processor.batch_decode(out.sequences, skip_special_tokens=True, clean_up_tokenization_spaces=True)\n",
        "\n",
        "            input_length = inputs.input_ids.shape[1]\n",
        "            generated_tokens = out.sequences[:, input_length:]\n",
        "            word_tokens, probs = [], []\n",
        "            for tok, score in zip(generated_tokens[0], transition_scores[0]):\n",
        "                # | token | token string | logits | probability\n",
        "                score = score.to('cpu')\n",
        "                wor = processor.tokenizer.decode(tok)\n",
        "                sc = np.exp(score.numpy())\n",
        "                # print(type(wor), type(sc))\n",
        "                word_tokens.append(str(wor))\n",
        "                probs.append(str(round(sc, 4)))\n",
        "\n",
        "                # print(f\"| {tok:5d} | {processor.tokenizer.decode(tok):8s} | {score.numpy():.4f} | {np.exp(score.numpy()):.2%}\")\n",
        "            # print(type(text_outputs[0]), type(generated_tokens[0].tolist()), type(word_tokens), type(probs))\n",
        "            answers[video_path.split('.')[0]] = {'text': text_outputs[0],\n",
        "                                                 'probs': {'tokens': generated_tokens[0].tolist(),\n",
        "                                                           'word_tokens': word_tokens,\n",
        "                                                           'probs': probs\n",
        "                                                           }\n",
        "                                                 }\n",
        "            del transition_scores, out, generated_tokens, word_tokens, probs, inputs\n",
        "            torch.cuda.empty_cache()\n",
        "            gc.collect()\n",
        "\n",
        "\n",
        "    # save answers\n",
        "    save_ans_path = f'/content/drive/MyDrive/Colab_Notebooks/CV/papers/data/HSE_Project_attacks/data/{name}_ans/0.5b/{class_name if not probs_ else class_name + \"_w_probs\"}/answers_{name}_{N}.json'\n",
        "    print(save_ans_path)\n",
        "    # save_ans_path = f'/content/drive/MyDrive/Colab_Notebooks/CV/papers/data/HSE_Project_attacks/data/answers_{name}_0.5b_{N}.json'\n",
        "\n",
        "    with open(save_ans_path, 'w') as f:\n",
        "        json.dump(answers, f)"
      ]
    },
    {
      "cell_type": "code",
      "execution_count": null,
      "metadata": {
        "id": "TRNVxIJ_rcGi"
      },
      "outputs": [],
      "source": [
        "len(answers)"
      ]
    },
    {
      "cell_type": "code",
      "source": [],
      "metadata": {
        "id": "xdPVeoQUMcZO"
      },
      "execution_count": null,
      "outputs": []
    },
    {
      "cell_type": "code",
      "execution_count": null,
      "metadata": {
        "id": "RQm10UQ2rb_q",
        "colab": {
          "base_uri": "https://localhost:8080/"
        },
        "outputId": "6b4d7d88-2802-4c1e-8fdb-a4664b71dfbf"
      },
      "outputs": [
        {
          "output_type": "stream",
          "name": "stdout",
          "text": [
            "/content/drive/MyDrive/Colab_Notebooks/CV/papers/data/HSE_Project_attacks/data/dzen_ans/7b/cake_w_probs/answers_dzen_6.0.json\n"
          ]
        }
      ],
      "source": [
        "probs = True\n",
        "save_ans_path = f'/content/drive/MyDrive/Colab_Notebooks/CV/papers/data/HSE_Project_attacks/data/{name}_ans/7b/{class_name if not probs else class_name + \"_w_probs\"}/answers_{name}_{N}.json'\n",
        "print(save_ans_path)\n",
        "# save_ans_path = f'/content/drive/MyDrive/Colab_Notebooks/CV/papers/data/HSE_Project_attacks/data/answers_{name}_0.5b_{N}.json'\n",
        "\n",
        "with open(save_ans_path, 'w') as f:\n",
        "    json.dump(answers, f)"
      ]
    },
    {
      "cell_type": "code",
      "execution_count": null,
      "metadata": {
        "id": "fm8Wnoixrb87"
      },
      "outputs": [],
      "source": []
    },
    {
      "cell_type": "code",
      "execution_count": null,
      "metadata": {
        "id": "tXfeTPTg3RN-"
      },
      "outputs": [],
      "source": []
    },
    {
      "cell_type": "code",
      "execution_count": null,
      "metadata": {
        "id": "d5Rbb6Dc5jQG"
      },
      "outputs": [],
      "source": [
        "from tqdm import tqdm\n",
        "import json"
      ]
    },
    {
      "cell_type": "code",
      "execution_count": null,
      "metadata": {
        "colab": {
          "base_uri": "https://localhost:8080/"
        },
        "id": "EPbCHEnc3RTJ",
        "outputId": "a49ae2bf-7022-433a-9ff7-520739fcf8cd"
      },
      "outputs": [
        {
          "output_type": "stream",
          "name": "stderr",
          "text": [
            "  0%|          | 0/10 [00:00<?, ?it/s]"
          ]
        },
        {
          "output_type": "stream",
          "name": "stdout",
          "text": [
            "{'tokens': [32, 1697, 374, 6839, 9963, 264, 97993, 18728, 11, 323, 279, 18728, 374, 1660, 6753, 6565, 553, 279, 1697, 13, 151645], 'word_tokens': ['A', ' person', ' is', ' shown', ' holding', ' a', ' leopard', ' cub', ',', ' and', ' the', ' cub', ' is', ' being', ' pet', 'ted', ' by', ' the', ' person', '.', '<|im_end|>'], 'probs': ['0.3603', '0.2916', '0.2868', '0.3833', '0.184', '0.6627', '0.37', '0.2411', '0.2156', '0.3139', '0.279', '0.4009', '0.6158', '0.136', '0.3072', '0.9706', '0.392', '0.6871', '0.9359', '0.7983', '0.5294']}\n"
          ]
        },
        {
          "output_type": "stream",
          "name": "stderr",
          "text": [
            "\n"
          ]
        },
        {
          "output_type": "execute_result",
          "data": {
            "text/plain": [
              "{}"
            ]
          },
          "metadata": {},
          "execution_count": 9
        }
      ],
      "source": [
        "name = 'dzen'\n",
        "class_name = 'cake'\n",
        "probs = True\n",
        "\n",
        "c = range(10, 0, -1)\n",
        "# c = range(10)\n",
        "pbs_all = {}\n",
        "m = 0.5\n",
        "\n",
        "for N in tqdm(c):\n",
        "    N = float(N)\n",
        "    save_ans_path = f'/content/drive/MyDrive/Colab_Notebooks/CV/papers/data/HSE_Project_attacks/data/{name}_ans/{m}b/{class_name if not probs else class_name + \"_w_probs\"}/answers_{name}_{N}.json'\n",
        "    # save_ans_path = f'/content/drive/MyDrive/Colab_Notebooks/CV/papers/data/HSE_Project_attacks/data/answers_{name}_0.5b_{N}.json'\n",
        "\n",
        "    with open(save_ans_path, 'r') as f:\n",
        "        answers = json.load(f)\n",
        "\n",
        "    pbs = []\n",
        "    for ans in answers.values():\n",
        "        word_t = ans['probs']['word_tokens']\n",
        "        probs = ans['probs']['probs']\n",
        "\n",
        "        probs_per_sent = [float(probs[i]) for i in range(len(word_t)) if ' cake' == word_t[i]]\n",
        "        if len(probs_per_sent) != 0:\n",
        "            pbt = sum(probs_per_sent) / len(probs_per_sent)\n",
        "        else:\n",
        "            pbt = 0\n",
        "\n",
        "        pbs.append(pbt)\n",
        "\n",
        "    pbs_all[N] = sum(pbs) / len(pbs)\n",
        "\n",
        "pbs_all\n",
        "\n",
        "\n"
      ]
    },
    {
      "cell_type": "code",
      "source": [
        "a = {1: 2, 3: 4, 5: 6}\n",
        "c = dict(list(a.items())[:2])\n",
        "c"
      ],
      "metadata": {
        "colab": {
          "base_uri": "https://localhost:8080/"
        },
        "id": "ykiOW90TuYIP",
        "outputId": "c0de453e-f99f-4a74-e024-88217e663e18"
      },
      "execution_count": null,
      "outputs": [
        {
          "output_type": "execute_result",
          "data": {
            "text/plain": [
              "{1: 2, 3: 4}"
            ]
          },
          "metadata": {},
          "execution_count": 6
        }
      ]
    },
    {
      "cell_type": "code",
      "source": [
        "import json\n",
        "import numpy as np\n",
        "import matplotlib.pyplot as plt\n",
        "from tqdm import tqdm\n",
        "\n",
        "# Set up fancy plot style\n",
        "plt.style.use('seaborn-whitegrid')\n",
        "\n",
        "name = 'dzen'\n",
        "class_name = \"cake\" #  \"car crash\" # 'fuck'\n",
        "probs = True\n",
        "# \" cake\"\n",
        "# \"UCK\"\n",
        "m = 7\n",
        "c = range(10, 0, -2)\n",
        "# c = range(10)\n",
        "pbs_all = {}\n",
        "errors = {}\n",
        "\n",
        "for N in tqdm(c):\n",
        "    N = float(N)\n",
        "    save_ans_path = f'/content/drive/MyDrive/Colab_Notebooks/CV/papers/data/HSE_Project_attacks/data/{name}_ans/{m}b/{class_name if not probs else class_name + \"_w_probs\"}/answers_{name}_{N}.json'\n",
        "\n",
        "    with open(save_ans_path, 'r') as f:\n",
        "        answers = json.load(f)\n",
        "\n",
        "    print(N, len(answers))\n",
        "    if 100 < len(answers) <= 200:\n",
        "        answers = dict(list(answers.items())[:100])\n",
        "\n",
        "    pbs = []\n",
        "    for ans in answers.values():\n",
        "        word_t = ans['probs']['word_tokens']\n",
        "        probs = ans['probs']['probs']\n",
        "\n",
        "        probs_per_sent = [float(probs[i]) for i in range(len(word_t)) if word_t[i] == \" cake\"] #in [\" car\", \" crash\"]]\n",
        "        if len(probs_per_sent) != 0:\n",
        "            pbt = sum(probs_per_sent) / len(probs_per_sent)\n",
        "        else:\n",
        "            pbt = 0\n",
        "\n",
        "        pbs.append(pbt)\n",
        "\n",
        "    # Mean probability\n",
        "    mean_pbs = sum(pbs) / len(pbs)\n",
        "    pbs_all[N] = mean_pbs\n",
        "\n",
        "    # Error as standard deviation\n",
        "    std_error = np.std(pbs) / np.sqrt(len(pbs))  # standard error of the mean\n",
        "    errors[N] = std_error\n",
        "\n",
        "\n"
      ],
      "metadata": {
        "colab": {
          "base_uri": "https://localhost:8080/"
        },
        "id": "J_9gwCAsOP4d",
        "outputId": "65609f05-3f3e-4047-a253-f995a7dfc2be"
      },
      "execution_count": null,
      "outputs": [
        {
          "output_type": "stream",
          "name": "stderr",
          "text": [
            "<ipython-input-54-dfebf0bc7f2f>:7: MatplotlibDeprecationWarning: The seaborn styles shipped by Matplotlib are deprecated since 3.6, as they no longer correspond to the styles shipped by seaborn. However, they will remain available as 'seaborn-v0_8-<style>'. Alternatively, directly use the seaborn API instead.\n",
            "  plt.style.use('seaborn-whitegrid')\n",
            "100%|██████████| 5/5 [00:00<00:00, 66.13it/s]"
          ]
        },
        {
          "output_type": "stream",
          "name": "stdout",
          "text": [
            "10.0 199\n",
            "8.0 100\n",
            "6.0 100\n",
            "4.0 100\n",
            "2.0 99\n"
          ]
        },
        {
          "output_type": "stream",
          "name": "stderr",
          "text": [
            "\n"
          ]
        }
      ]
    },
    {
      "cell_type": "code",
      "source": [
        "pbs_all, errors\n"
      ],
      "metadata": {
        "colab": {
          "base_uri": "https://localhost:8080/"
        },
        "id": "MO3drnQEviDL",
        "outputId": "ba92fe18-e875-453e-c55d-a5c1565e7f23"
      },
      "execution_count": null,
      "outputs": [
        {
          "output_type": "execute_result",
          "data": {
            "text/plain": [
              "({10.0: 0.24001749999999997,\n",
              "  8.0: 0.17505166666666663,\n",
              "  6.0: 0.17847900000000003,\n",
              "  4.0: 0.136742,\n",
              "  2.0: 0.162210101010101},\n",
              " {10.0: 0.03378915355831662,\n",
              "  8.0: 0.030346740034969157,\n",
              "  6.0: 0.0317692867104378,\n",
              "  4.0: 0.0259344267116125,\n",
              "  2.0: 0.03119418851635767})"
            ]
          },
          "metadata": {},
          "execution_count": 55
        }
      ]
    },
    {
      "cell_type": "code",
      "source": [],
      "metadata": {
        "id": "EOejG4trviBs"
      },
      "execution_count": null,
      "outputs": []
    },
    {
      "cell_type": "code",
      "source": [],
      "metadata": {
        "id": "onP8-QD4vh7g"
      },
      "execution_count": null,
      "outputs": []
    },
    {
      "cell_type": "code",
      "source": [],
      "metadata": {
        "id": "z3f4uPFgvh6N"
      },
      "execution_count": null,
      "outputs": []
    },
    {
      "cell_type": "code",
      "source": [],
      "metadata": {
        "id": "1MuuEoN3vh4z"
      },
      "execution_count": null,
      "outputs": []
    },
    {
      "cell_type": "code",
      "source": [],
      "metadata": {
        "id": "I8TyXzCCvh3P"
      },
      "execution_count": null,
      "outputs": []
    },
    {
      "cell_type": "code",
      "source": [],
      "metadata": {
        "id": "9UVRG-rWvhvE"
      },
      "execution_count": null,
      "outputs": []
    },
    {
      "cell_type": "code",
      "source": [],
      "metadata": {
        "id": "xiqh1l_Mvhtn"
      },
      "execution_count": null,
      "outputs": []
    },
    {
      "cell_type": "code",
      "source": [],
      "metadata": {
        "id": "pHYIdMk0vhr1"
      },
      "execution_count": null,
      "outputs": []
    },
    {
      "cell_type": "code",
      "source": [],
      "metadata": {
        "id": "m61gI42Vvhia"
      },
      "execution_count": null,
      "outputs": []
    },
    {
      "cell_type": "code",
      "source": [],
      "metadata": {
        "id": "-Se4YTjYvhfp"
      },
      "execution_count": null,
      "outputs": []
    },
    {
      "cell_type": "code",
      "source": [
        "pbs_all, errors"
      ],
      "metadata": {
        "colab": {
          "base_uri": "https://localhost:8080/"
        },
        "id": "KTuwYOm3TpxN",
        "outputId": "b292089d-4546-4cf1-c398-6ec513f15149"
      },
      "execution_count": null,
      "outputs": [
        {
          "output_type": "execute_result",
          "data": {
            "text/plain": [
              "({10.0: 0.1473053333333333,\n",
              "  8.0: 0.08591049999999999,\n",
              "  6.0: 0.11037287499999998,\n",
              "  4.0: 0.06319491666666668,\n",
              "  2.0: 0.037312875,\n",
              "  0.0: 0},\n",
              " {10.0: 0.014164145109297002,\n",
              "  8.0: 0.019169700418825018,\n",
              "  6.0: 0.013911842143900168,\n",
              "  4.0: 0.01066810878089816,\n",
              "  2.0: 0.008305894127021898,\n",
              "  0.0: 0})"
            ]
          },
          "metadata": {},
          "execution_count": 13
        }
      ]
    },
    {
      "cell_type": "code",
      "source": [
        "(0.2444577889447237 - 0.17505166666666663 + 0.17847900000000003 - 0.136742) * 0.5"
      ],
      "metadata": {
        "colab": {
          "base_uri": "https://localhost:8080/"
        },
        "id": "3RFSGYvfcIR-",
        "outputId": "267a6fb5-258e-4189-e7a4-08b704243413"
      },
      "execution_count": null,
      "outputs": [
        {
          "output_type": "execute_result",
          "data": {
            "text/plain": [
              "0.055571561139028544"
            ]
          },
          "metadata": {},
          "execution_count": 13
        }
      ]
    },
    {
      "cell_type": "code",
      "source": [
        "0.136742 - 0.055571561139028544"
      ],
      "metadata": {
        "colab": {
          "base_uri": "https://localhost:8080/"
        },
        "id": "NCfp5wDDcaRX",
        "outputId": "7a974525-753d-4a84-89a6-08867259ebb0"
      },
      "execution_count": null,
      "outputs": [
        {
          "output_type": "execute_result",
          "data": {
            "text/plain": [
              "0.08117043886097146"
            ]
          },
          "metadata": {},
          "execution_count": 14
        }
      ]
    },
    {
      "cell_type": "code",
      "source": [
        "pbs_all[2.0] = 0.08117043886097146"
      ],
      "metadata": {
        "id": "WdANXZZFceXD"
      },
      "execution_count": null,
      "outputs": []
    },
    {
      "cell_type": "code",
      "source": [
        "pbs_all"
      ],
      "metadata": {
        "id": "7drMN688F3lh"
      },
      "execution_count": null,
      "outputs": []
    },
    {
      "cell_type": "code",
      "source": [
        "'F', 'UCK', ' OFF',"
      ],
      "metadata": {
        "id": "lGrBKsp7dFDf"
      },
      "execution_count": null,
      "outputs": []
    },
    {
      "cell_type": "code",
      "source": [
        "pbs_all, errors # f"
      ],
      "metadata": {
        "colab": {
          "base_uri": "https://localhost:8080/"
        },
        "id": "YVQR_tkScEO0",
        "outputId": "cffbd56a-c507-4bca-d895-d61d57e600ae"
      },
      "execution_count": null,
      "outputs": [
        {
          "output_type": "execute_result",
          "data": {
            "text/plain": [
              "({10.0: 0.25039630071186675,\n",
              "  8.0: 0.13229700000000003,\n",
              "  6.0: 0.04310825,\n",
              "  4.0: 0.040685,\n",
              "  2.0: 0.06447449999999999,\n",
              "  0.0: 0},\n",
              " {10.0: 0.03232030535368978,\n",
              "  8.0: 0.02242445121580459,\n",
              "  6.0: 0.013484726219771297,\n",
              "  4.0: 0.01329037756705956,\n",
              "  2.0: 0.015716261260196398,\n",
              "  0.0: 0})"
            ]
          },
          "metadata": {},
          "execution_count": 41
        }
      ]
    },
    {
      "cell_type": "code",
      "source": [
        "pbs_all, errors # c"
      ],
      "metadata": {
        "colab": {
          "base_uri": "https://localhost:8080/"
        },
        "id": "XX4g8-pzeJom",
        "outputId": "fbc02515-dc85-402e-d3b0-d464d92a8de1"
      },
      "execution_count": null,
      "outputs": [
        {
          "output_type": "execute_result",
          "data": {
            "text/plain": [
              "({10.0: 0.1473053333333333,\n",
              "  8.0: 0.10011449999999998,\n",
              "  6.0: 0.11037287499999998,\n",
              "  4.0: 0.06319491666666668,\n",
              "  2.0: 0.037312875},\n",
              " {10.0: 0.014164145109297002,\n",
              "  8.0: 0.013189495567448742,\n",
              "  6.0: 0.013911842143900168,\n",
              "  4.0: 0.01066810878089816,\n",
              "  2.0: 0.008305894127021898})"
            ]
          },
          "metadata": {},
          "execution_count": 43
        }
      ]
    },
    {
      "cell_type": "code",
      "source": [
        "pbs_all, errors # cc"
      ],
      "metadata": {
        "colab": {
          "base_uri": "https://localhost:8080/"
        },
        "id": "qADOT098eMBD",
        "outputId": "2abed176-b7b5-4c3b-daa8-ccfdce9f5497"
      },
      "execution_count": null,
      "outputs": [
        {
          "output_type": "execute_result",
          "data": {
            "text/plain": [
              "({10.0: 0.12280804857621438,\n",
              "  8.0: 0.06720250000000001,\n",
              "  6.0: 0.0446860756756757,\n",
              "  4.0: 0.033858767391653964,\n",
              "  2.0: 0.02917787328767122},\n",
              " {10.0: 0.014890299612073728,\n",
              "  8.0: 0.012584085259266959,\n",
              "  6.0: 0.01057941356472348,\n",
              "  4.0: 0.010031926353952638,\n",
              "  2.0: 0.008247831101241452})"
            ]
          },
          "metadata": {},
          "execution_count": 46
        }
      ]
    },
    {
      "cell_type": "code",
      "source": [],
      "metadata": {
        "id": "boCu46G0epQA"
      },
      "execution_count": null,
      "outputs": []
    },
    {
      "cell_type": "code",
      "source": [
        "import matplotlib.pyplot as plt\n",
        "\n",
        "# Convert RGB to hexadecimal\n",
        "def rgb_to_hex(rgb):\n",
        "    return '#{:02x}{:02x}{:02x}'.format(*rgb)\n",
        "\n",
        "# Define color variables\n",
        "color_asr_1_L = rgb_to_hex((125, 80, 185))    # From Group 2\n",
        "color_asr_5_L = rgb_to_hex((15, 165, 215))    # From Group 2\n",
        "color_asr_1_B = rgb_to_hex((230, 30, 60))     # From Group 5\n",
        "color_asr_5_B = rgb_to_hex((235, 140, 60))    # From Group 5\n",
        "\n",
        "gray_50 = rgb_to_hex((128, 128, 128))  # Approximation for C0 M0 Y0 K50\n",
        "gray_25 = rgb_to_hex((191, 191, 191))  # Approximation for C0 M0 Y0 K25\n",
        "gray_10 = rgb_to_hex((230, 230, 230))  # Approximation for C0 M0 Y0 K10\n",
        "\n",
        "# Convert results to sorted lists for plotting\n",
        "pbs_all[0.0] = 0\n",
        "errors[0.0] = 0\n",
        "\n",
        "Ns = sorted(pbs_all.keys())\n",
        "mean_probs = [pbs_all[N] for N in Ns]\n",
        "error_bars = [errors[N] for N in Ns]\n",
        "\n",
        "# Plotting with error bars\n",
        "plt.figure(figsize=(9, 6))\n",
        "plt.xticks(rotation=45, color=gray_50)\n",
        "\n",
        "plt.errorbar(Ns, mean_probs, yerr=error_bars, fmt='o-', capsize=5, capthick=2,\n",
        "             label=f'Probability of \"{class_name}\" tokens', color=color_asr_1_L)\n",
        "\n",
        "# Adding grid with custom color and style\n",
        "plt.grid(axis='y', linestyle='--', alpha=0.7, color=gray_25)\n",
        "\n",
        "# Adding title and labels\n",
        "plt.title(f'Probability of Tokens \"{class_name}\" vs N \\n ({m}b model)', fontsize=20, fontweight='bold', color=gray_50, pad=20)\n",
        "plt.xlabel('N', fontsize=15, fontweight='bold', color=gray_50, labelpad=15)\n",
        "plt.ylabel('Probability', fontsize=15, fontweight='bold', color=gray_50, labelpad=15)\n",
        "\n",
        "# Customize spines\n",
        "ax = plt.gca()\n",
        "for spine in ['top', 'right']:\n",
        "    ax.spines[spine].set_visible(False)\n",
        "\n",
        "# Adding legend with style\n",
        "plt.legend(prop={'size': 10}, fancybox=True, framealpha=0.9, edgecolor=gray_50)\n",
        "\n",
        "# Tight layout for proper spacing\n",
        "plt.tight_layout(pad=2)\n",
        "\n",
        "# Show plot\n",
        "# plt.show()\n",
        "plt.savefig(f'{class_name}_w_probs_{m}b.pdf')\n"
      ],
      "metadata": {
        "colab": {
          "base_uri": "https://localhost:8080/",
          "height": 581
        },
        "id": "VXNMZR1uORU1",
        "outputId": "cca60dfe-dd1c-4e24-8914-a2055b2fc686"
      },
      "execution_count": null,
      "outputs": [
        {
          "output_type": "display_data",
          "data": {
            "text/plain": [
              "<Figure size 900x600 with 1 Axes>"
            ],
            "image/png": "[encoded data removed]"
          },
          "metadata": {}
        }
      ]
    },
    {
      "cell_type": "code",
      "source": [],
      "metadata": {
        "id": "qet5xVfcfgUH"
      },
      "execution_count": null,
      "outputs": []
    },
    {
      "cell_type": "code",
      "source": [],
      "metadata": {
        "id": "sn3Yr_8Ufwvy"
      },
      "execution_count": null,
      "outputs": []
    },
    {
      "cell_type": "code",
      "source": [
        "pbs_all, errors # f"
      ],
      "metadata": {
        "colab": {
          "base_uri": "https://localhost:8080/"
        },
        "outputId": "cffbd56a-c507-4bca-d895-d61d57e600ae",
        "id": "-lmXFhYufw2i"
      },
      "execution_count": null,
      "outputs": [
        {
          "output_type": "execute_result",
          "data": {
            "text/plain": [
              "({10.0: 0.25039630071186675,\n",
              "  8.0: 0.13229700000000003,\n",
              "  6.0: 0.04310825,\n",
              "  4.0: 0.040685,\n",
              "  2.0: 0.06447449999999999,\n",
              "  0.0: 0},\n",
              " {10.0: 0.03232030535368978,\n",
              "  8.0: 0.02242445121580459,\n",
              "  6.0: 0.013484726219771297,\n",
              "  4.0: 0.01329037756705956,\n",
              "  2.0: 0.015716261260196398,\n",
              "  0.0: 0})"
            ]
          },
          "metadata": {},
          "execution_count": 41
        }
      ]
    },
    {
      "cell_type": "code",
      "source": [
        "pbs_all, errors # c"
      ],
      "metadata": {
        "colab": {
          "base_uri": "https://localhost:8080/"
        },
        "outputId": "fbc02515-dc85-402e-d3b0-d464d92a8de1",
        "id": "t8REFfepfw2j"
      },
      "execution_count": null,
      "outputs": [
        {
          "output_type": "execute_result",
          "data": {
            "text/plain": [
              "({10.0: 0.1473053333333333,\n",
              "  8.0: 0.10011449999999998,\n",
              "  6.0: 0.11037287499999998,\n",
              "  4.0: 0.06319491666666668,\n",
              "  2.0: 0.037312875},\n",
              " {10.0: 0.014164145109297002,\n",
              "  8.0: 0.013189495567448742,\n",
              "  6.0: 0.013911842143900168,\n",
              "  4.0: 0.01066810878089816,\n",
              "  2.0: 0.008305894127021898})"
            ]
          },
          "metadata": {},
          "execution_count": 43
        }
      ]
    },
    {
      "cell_type": "code",
      "source": [
        "pbs_all, errors # cc"
      ],
      "metadata": {
        "colab": {
          "base_uri": "https://localhost:8080/"
        },
        "outputId": "2abed176-b7b5-4c3b-daa8-ccfdce9f5497",
        "id": "2EvI_AJ0fw2j"
      },
      "execution_count": null,
      "outputs": [
        {
          "output_type": "execute_result",
          "data": {
            "text/plain": [
              "({10.0: 0.12280804857621438,\n",
              "  8.0: 0.06720250000000001,\n",
              "  6.0: 0.0446860756756757,\n",
              "  4.0: 0.033858767391653964,\n",
              "  2.0: 0.02917787328767122},\n",
              " {10.0: 0.014890299612073728,\n",
              "  8.0: 0.012584085259266959,\n",
              "  6.0: 0.01057941356472348,\n",
              "  4.0: 0.010031926353952638,\n",
              "  2.0: 0.008247831101241452})"
            ]
          },
          "metadata": {},
          "execution_count": 46
        }
      ]
    },
    {
      "cell_type": "code",
      "source": [
        "pbs_all_c={10.0: 0.15456600000000004,\n",
        "  8.0: 0.08591049999999999,\n",
        "  6.0: 0.09636900000000001,\n",
        "  4.0: 0.07649349999999999,\n",
        "  2.0: 0.042600500000000006,\n",
        "  0.0: 0.0}\n",
        "errors_c=  {10.0: 0.021719638450950325,\n",
        "  8.0: 0.019169700418825018,\n",
        "  6.0: 0.01918268081864472,\n",
        "  4.0: 0.01733856795780724,\n",
        "  2.0: 0.01319748446665121,\n",
        "  0.0: 0.0}"
      ],
      "metadata": {
        "id": "h5Kl3Wr8f3es"
      },
      "execution_count": null,
      "outputs": []
    },
    {
      "cell_type": "code",
      "source": [
        "pbs_all_f ={10.0: 0.22231122911051213,\n",
        "  8.0: 0.1326735,\n",
        "  6.0: 0.0224925,\n",
        "  4.0: 0.035433000000000006,\n",
        "  2.0: 0.062287999999999996}\n",
        "\n",
        "errors_f = {10.0: 0.03893031189996414,\n",
        "  8.0: 0.031804606462390014,\n",
        "  6.0: 0.013231562556535039,\n",
        "  4.0: 0.017433596132467904,\n",
        "  2.0: 0.02158810164326637}"
      ],
      "metadata": {
        "id": "m-4nRY1wfykC"
      },
      "execution_count": null,
      "outputs": []
    },
    {
      "cell_type": "code",
      "source": [
        "pbs_all_cc = {10.0: 0.10243326666666669,\n",
        "  8.0: 0.03776975,\n",
        "  6.0: 0.04764835135135139,\n",
        "  4.0: 0.03807336820083681,\n",
        "  2.0: 0.0193565,\n",
        "  0.0: 0}\n",
        "errors_cc =  {10.0: 0.019408614217345178,\n",
        "  8.0: 0.011940236143471995,\n",
        "  6.0: 0.01637424051596429,\n",
        "  4.0: 0.01494337698117871,\n",
        "  2.0: 0.00901211109160889,\n",
        "  0.0: 0}"
      ],
      "metadata": {
        "id": "O0XakbSJf8Kt"
      },
      "execution_count": null,
      "outputs": []
    },
    {
      "cell_type": "code",
      "source": [
        "pbs_all_c_1 = {10.0: 0.24001749999999997,\n",
        "  8.0: 0.17505166666666663,\n",
        "  6.0: 0.17847900000000003,\n",
        "  4.0: 0.136742,\n",
        "  2.0: 0.162210101010101,\n",
        "    0.0:0}\n",
        "errors_c_1 =  {10.0: 0.03378915355831662,\n",
        "  8.0: 0.030346740034969157,\n",
        "  6.0: 0.0317692867104378,\n",
        "  4.0: 0.0259344267116125,\n",
        "  2.0: 0.03119418851635767,\n",
        "    0.0:0}"
      ],
      "metadata": {
        "id": "wk-PIwB0xfPy"
      },
      "execution_count": null,
      "outputs": []
    },
    {
      "cell_type": "code",
      "source": [
        "import matplotlib.pyplot as plt\n",
        "\n",
        "# Convert RGB to hexadecimal\n",
        "def rgb_to_hex(rgb):\n",
        "    return '#{:02x}{:02x}{:02x}'.format(*rgb)\n",
        "\n",
        "# Define color variables for multiple lines\n",
        "color_asr_1_L = rgb_to_hex((125, 80, 185))    # Line 1 color\n",
        "color_asr_5_L = rgb_to_hex((15, 165, 215))    # Line 2 color\n",
        "color_asr_1_B = rgb_to_hex((230, 30, 60))     # Line 3 color\n",
        "color_asr_5_B = rgb_to_hex((235, 140, 60))    # Line 4 color\n",
        "\n",
        "gray_50 = rgb_to_hex((128, 128, 128))  # Gray for text\n",
        "gray_25 = rgb_to_hex((191, 191, 191))  # Lighter gray for grid\n",
        "gray_10 = rgb_to_hex((230, 230, 230))  # Lightest gray for background\n",
        "\n",
        "fig, ax = plt.subplots(1, 1, figsize=(14, 6))\n",
        "ax = [ax, ax]\n",
        "# Example data for plotting multiple lines\n",
        "Ns = sorted(pbs_all_c.keys())[1:]\n",
        "print(Ns)\n",
        "mean_probs_1 = [pbs_all_c[N] for N in Ns]  # Data for the first line\n",
        "mean_probs_11 = [pbs_all_c_1[N] for N in Ns]  # Data for the first line\n",
        "mean_probs_2 = [pbs_all_f[N] for N in Ns]  # Data for the first line\n",
        "mean_probs_3 = [pbs_all_cc[N] for N in Ns]  # Data for the first line\n",
        "\n",
        "errors_c_ = [errors_c[N] for N in Ns]\n",
        "errors_c_1_ = [errors_c_1[N] for N in Ns]\n",
        "\n",
        "errors_f_ = [errors_f[N] for N in Ns]\n",
        "errors_cc_ = [errors_cc[N] for N in Ns]\n",
        "\n",
        "# Plotting multiple lines with error bars\n",
        "# plt.xticks(rotation=45, color=gray_50)\n",
        "\n",
        "# Line 1\n",
        "Ns_ = list(map(lambda x: x / 10, sorted(pbs_all_c.keys())[1:]))\n",
        "print(Ns_)\n",
        "# ax[0].errorbar(Ns_, mean_probs_1, yerr=errors_c_, fmt='o-', capsize=5, capthick=2,\n",
        "            #  label='Probability of token \"cake\"', color=color_asr_1_L)\n",
        "ax[1].errorbar(Ns_, mean_probs_1, yerr=errors_c_, fmt='o-', capsize=5, capthick=2,\n",
        "             label='0.5b model', color=color_asr_1_L)\n",
        "# Line 2\n",
        "# ax[0].errorbar(Ns_, mean_probs_2, yerr=errors_f_, fmt='s-', capsize=5, capthick=2,\n",
        "            #  label='Probability of token \"f*ck\"', color=color_asr_5_L)\n",
        "ax[1].errorbar(Ns_, mean_probs_11, yerr=errors_c_1_, fmt='s-', capsize=5, capthick=2,\n",
        "             label='7b model', color=color_asr_5_L)\n",
        "\n",
        "# # Line 3\n",
        "# ax[0].errorbar(Ns_, mean_probs_3, yerr=errors_cc_, fmt='^-', capsize=5, capthick=2,\n",
        "            #  label='Probability of tokens \"car crash\"', color=color_asr_1_B)\n",
        "\n",
        "\n",
        "# Adding grid with custom color and style\n",
        "# ax[0].grid(axis='y', linestyle='--', alpha=0.7, color=gray_25)\n",
        "ax[1].grid(axis='y', linestyle='--', alpha=0.7, color=gray_25)\n",
        "\n",
        "# Adding title and labels\n",
        "# ax[0].set_title('Probability of different tokens vs fraction of adversarial frames', fontsize=20, fontweight='bold', color=gray_50, pad=20)\n",
        "ax[1].set_title('Probability of token \"cake\" vs fraction of adversarial frames', fontsize=20, fontweight='bold', color=gray_50, pad=20)\n",
        "\n",
        "ax[1].set_xlabel('adv frame ratio', fontsize=15, fontweight='bold', color=gray_50, labelpad=15)\n",
        "# ax[0].set_xlabel('adv frame ratio', fontsize=15, fontweight='bold', color=gray_50, labelpad=15)\n",
        "\n",
        "# ax[0].set_xlabel('N', fontsize=15, fontweight='bold', color=gray_50, labelpad=15)\n",
        "# ax[0].set_ylabel('Probability', fontsize=15, fontweight='bold', color=gray_50, labelpad=15)\n",
        "ax[1].set_ylabel('Probability', fontsize=15, fontweight='bold', color=gray_50, labelpad=15)\n",
        "\n",
        "# Customize spines\n",
        "# ax_ = plt.gca()\n",
        "for spine in ['top', 'right']:\n",
        "    # ax[0].spines[spine].set_visible(False)\n",
        "    ax[1].spines[spine].set_visible(False)\n",
        "\n",
        "# Adding legend with style\n",
        "# ax[0].legend(prop={'size': 14}, fancybox=True, framealpha=0.9, edgecolor=gray_50)\n",
        "ax[1].legend(prop={'size': 14}, fancybox=True, framealpha=0.9, edgecolor=gray_50)\n",
        "\n",
        "# Tight layout for proper spacing\n",
        "plt.tight_layout(pad=2)\n",
        "\n",
        "# Show plot\n",
        "# plt.show()\n",
        "m=7\n",
        "plt.savefig(f\"all_{m}b_2.pdf\")\n"
      ],
      "metadata": {
        "colab": {
          "base_uri": "https://localhost:8080/",
          "height": 616
        },
        "id": "5DzZQsvAfgMq",
        "outputId": "3bcddc7f-801c-4f69-f218-9618cdae7252"
      },
      "execution_count": null,
      "outputs": [
        {
          "output_type": "stream",
          "name": "stdout",
          "text": [
            "[2.0, 4.0, 6.0, 8.0, 10.0]\n",
            "[0.2, 0.4, 0.6, 0.8, 1.0]\n"
          ]
        },
        {
          "output_type": "display_data",
          "data": {
            "text/plain": [
              "<Figure size 1400x600 with 1 Axes>"
            ],
            "image/png": "[encoded data removed]"
          },
          "metadata": {}
        }
      ]
    },
    {
      "cell_type": "code",
      "source": [],
      "metadata": {
        "id": "irAK0GGOfgLu"
      },
      "execution_count": null,
      "outputs": []
    },
    {
      "cell_type": "code",
      "source": [],
      "metadata": {
        "id": "hT6hWSm2fgKc"
      },
      "execution_count": null,
      "outputs": []
    },
    {
      "cell_type": "code",
      "source": [],
      "metadata": {
        "id": "pXgXeUTffgJS"
      },
      "execution_count": null,
      "outputs": []
    },
    {
      "cell_type": "code",
      "source": [],
      "metadata": {
        "id": "yZs_pQ0Cff_W"
      },
      "execution_count": null,
      "outputs": []
    },
    {
      "cell_type": "code",
      "source": [],
      "metadata": {
        "id": "PUvsNnNHff9-"
      },
      "execution_count": null,
      "outputs": []
    },
    {
      "cell_type": "code",
      "source": [],
      "metadata": {
        "id": "epnV6nVLOP03"
      },
      "execution_count": null,
      "outputs": []
    },
    {
      "cell_type": "code",
      "execution_count": null,
      "metadata": {
        "colab": {
          "base_uri": "https://localhost:8080/"
        },
        "id": "FIavBZZ_-Dym",
        "outputId": "f39bd964-b73d-4ee2-ae01-7464a009eb23"
      },
      "outputs": [
        {
          "output_type": "execute_result",
          "data": {
            "text/plain": [
              "{10.0: 0.1473053333333333,\n",
              " 9.0: 0.12198250000000002,\n",
              " 8.0: 0.10011449999999998,\n",
              " 7.0: 0.09364375000000004,\n",
              " 6.0: 0.11037287499999998,\n",
              " 5.0: 0.06063891666666666,\n",
              " 4.0: 0.06319491666666668,\n",
              " 3.0: 0.06695224999999999,\n",
              " 2.0: 0.037312875,\n",
              " 1.0: 0.02475533333333333}"
            ]
          },
          "metadata": {},
          "execution_count": 5
        }
      ],
      "source": [
        "pbs_all"
      ]
    },
    {
      "cell_type": "code",
      "execution_count": null,
      "metadata": {
        "colab": {
          "base_uri": "https://localhost:8080/",
          "height": 106
        },
        "id": "SCZgzbYR-yBZ",
        "outputId": "ba89e40e-71fc-42ae-95ff-f2e6539180c4"
      },
      "outputs": [
        {
          "output_type": "error",
          "ename": "SyntaxError",
          "evalue": "invalid syntax (<ipython-input-6-3780faeab6ed>, line 3)",
          "traceback": [
            "\u001b[0;36m  File \u001b[0;32m\"<ipython-input-6-3780faeab6ed>\"\u001b[0;36m, line \u001b[0;32m3\u001b[0m\n\u001b[0;31m    plt.plot(sorted(pbs_all.values(), key=lambda )\u001b[0m\n\u001b[0m                                                 ^\u001b[0m\n\u001b[0;31mSyntaxError\u001b[0m\u001b[0;31m:\u001b[0m invalid syntax\n"
          ]
        }
      ],
      "source": [
        "import matplotlib.pyplot as plt\n",
        "\n",
        "plt.plot(sorted(pbs_all.values(), key=lambda )\n"
      ]
    },
    {
      "cell_type": "code",
      "execution_count": null,
      "metadata": {
        "id": "JG-kS2b_-x4y"
      },
      "outputs": [],
      "source": []
    },
    {
      "cell_type": "code",
      "execution_count": null,
      "metadata": {
        "id": "S9RPlrka3VuB"
      },
      "outputs": [],
      "source": [
        "import json\n",
        "\n",
        "\n",
        "\n",
        "save_ans_path\n",
        "# Открываем JSON-файл\n",
        "with open('data.json') as f:\n",
        "    data = json.load(f)"
      ]
    }
  ],
  "metadata": {
    "colab": {
      "collapsed_sections": [
        "HsmIXMNISTiy"
      ],
      "provenance": []
    },
    "kernelspec": {
      "display_name": "Python 3",
      "name": "python3"
    },
    "language_info": {
      "name": "python"
    },
    "widgets": {
      "application/vnd.jupyter.widget-state+json": {
        "14799db40643460e91227602451dfaa2": {
          "model_module": "@jupyter-widgets/controls",
          "model_module_version": "1.5.0",
          "model_name": "DescriptionStyleModel",
          "state": {
            "_model_module": "@jupyter-widgets/controls",
            "_model_module_version": "1.5.0",
            "_model_name": "DescriptionStyleModel",
            "_view_count": null,
            "_view_module": "@jupyter-widgets/base",
            "_view_module_version": "1.2.0",
            "_view_name": "StyleView",
            "description_width": ""
          }
        },
        "397d565e1c2044e7b97b67579fc4f21c": {
          "model_module": "@jupyter-widgets/controls",
          "model_module_version": "1.5.0",
          "model_name": "HTMLModel",
          "state": {
            "_dom_classes": [],
            "_model_module": "@jupyter-widgets/controls",
            "_model_module_version": "1.5.0",
            "_model_name": "HTMLModel",
            "_view_count": null,
            "_view_module": "@jupyter-widgets/controls",
            "_view_module_version": "1.5.0",
            "_view_name": "HTMLView",
            "description": "",
            "description_tooltip": null,
            "layout": "IPY_MODEL_3fd72a9ee6434e99a1a11abceaf94a75",
            "placeholder": "​",
            "style": "IPY_MODEL_5b14b34f641a405b835916b6b72196f3",
            "value": " 1.55M/1.55M [00:00&lt;00:00, 77.0MB/s]"
          }
        },
        "3fd72a9ee6434e99a1a11abceaf94a75": {
          "model_module": "@jupyter-widgets/base",
          "model_module_version": "1.2.0",
          "model_name": "LayoutModel",
          "state": {
            "_model_module": "@jupyter-widgets/base",
            "_model_module_version": "1.2.0",
            "_model_name": "LayoutModel",
            "_view_count": null,
            "_view_module": "@jupyter-widgets/base",
            "_view_module_version": "1.2.0",
            "_view_name": "LayoutView",
            "align_content": null,
            "align_items": null,
            "align_self": null,
            "border": null,
            "bottom": null,
            "display": null,
            "flex": null,
            "flex_flow": null,
            "grid_area": null,
            "grid_auto_columns": null,
            "grid_auto_flow": null,
            "grid_auto_rows": null,
            "grid_column": null,
            "grid_gap": null,
            "grid_row": null,
            "grid_template_areas": null,
            "grid_template_columns": null,
            "grid_template_rows": null,
            "height": null,
            "justify_content": null,
            "justify_items": null,
            "left": null,
            "margin": null,
            "max_height": null,
            "max_width": null,
            "min_height": null,
            "min_width": null,
            "object_fit": null,
            "object_position": null,
            "order": null,
            "overflow": null,
            "overflow_x": null,
            "overflow_y": null,
            "padding": null,
            "right": null,
            "top": null,
            "visibility": null,
            "width": null
          }
        },
        "52bbb653fb1f450ea93d0ae3f1c2c74e": {
          "model_module": "@jupyter-widgets/controls",
          "model_module_version": "1.5.0",
          "model_name": "HTMLModel",
          "state": {
            "_dom_classes": [],
            "_model_module": "@jupyter-widgets/controls",
            "_model_module_version": "1.5.0",
            "_model_name": "HTMLModel",
            "_view_count": null,
            "_view_module": "@jupyter-widgets/controls",
            "_view_module_version": "1.5.0",
            "_view_name": "HTMLView",
            "description": "",
            "description_tooltip": null,
            "layout": "IPY_MODEL_70464a7a893e4e0f827f4b3dc5a46c68",
            "placeholder": "​",
            "style": "IPY_MODEL_14799db40643460e91227602451dfaa2",
            "value": "sample_demo_1.mp4: 100%"
          }
        },
        "5b14b34f641a405b835916b6b72196f3": {
          "model_module": "@jupyter-widgets/controls",
          "model_module_version": "1.5.0",
          "model_name": "DescriptionStyleModel",
          "state": {
            "_model_module": "@jupyter-widgets/controls",
            "_model_module_version": "1.5.0",
            "_model_name": "DescriptionStyleModel",
            "_view_count": null,
            "_view_module": "@jupyter-widgets/base",
            "_view_module_version": "1.2.0",
            "_view_name": "StyleView",
            "description_width": ""
          }
        },
        "70464a7a893e4e0f827f4b3dc5a46c68": {
          "model_module": "@jupyter-widgets/base",
          "model_module_version": "1.2.0",
          "model_name": "LayoutModel",
          "state": {
            "_model_module": "@jupyter-widgets/base",
            "_model_module_version": "1.2.0",
            "_model_name": "LayoutModel",
            "_view_count": null,
            "_view_module": "@jupyter-widgets/base",
            "_view_module_version": "1.2.0",
            "_view_name": "LayoutView",
            "align_content": null,
            "align_items": null,
            "align_self": null,
            "border": null,
            "bottom": null,
            "display": null,
            "flex": null,
            "flex_flow": null,
            "grid_area": null,
            "grid_auto_columns": null,
            "grid_auto_flow": null,
            "grid_auto_rows": null,
            "grid_column": null,
            "grid_gap": null,
            "grid_row": null,
            "grid_template_areas": null,
            "grid_template_columns": null,
            "grid_template_rows": null,
            "height": null,
            "justify_content": null,
            "justify_items": null,
            "left": null,
            "margin": null,
            "max_height": null,
            "max_width": null,
            "min_height": null,
            "min_width": null,
            "object_fit": null,
            "object_position": null,
            "order": null,
            "overflow": null,
            "overflow_x": null,
            "overflow_y": null,
            "padding": null,
            "right": null,
            "top": null,
            "visibility": null,
            "width": null
          }
        },
        "90769bd7174640e39c69830db7da9230": {
          "model_module": "@jupyter-widgets/controls",
          "model_module_version": "1.5.0",
          "model_name": "FloatProgressModel",
          "state": {
            "_dom_classes": [],
            "_model_module": "@jupyter-widgets/controls",
            "_model_module_version": "1.5.0",
            "_model_name": "FloatProgressModel",
            "_view_count": null,
            "_view_module": "@jupyter-widgets/controls",
            "_view_module_version": "1.5.0",
            "_view_name": "ProgressView",
            "bar_style": "success",
            "description": "",
            "description_tooltip": null,
            "layout": "IPY_MODEL_e35ca38b0a9e4f96afc1961c4584deb9",
            "max": 1549315,
            "min": 0,
            "orientation": "horizontal",
            "style": "IPY_MODEL_f5d2bcc0bd8844f2878d6e586de05211",
            "value": 1549315
          }
        },
        "a8c7b3123a0a48e38ce5b94245096256": {
          "model_module": "@jupyter-widgets/controls",
          "model_module_version": "1.5.0",
          "model_name": "HBoxModel",
          "state": {
            "_dom_classes": [],
            "_model_module": "@jupyter-widgets/controls",
            "_model_module_version": "1.5.0",
            "_model_name": "HBoxModel",
            "_view_count": null,
            "_view_module": "@jupyter-widgets/controls",
            "_view_module_version": "1.5.0",
            "_view_name": "HBoxView",
            "box_style": "",
            "children": [
              "IPY_MODEL_52bbb653fb1f450ea93d0ae3f1c2c74e",
              "IPY_MODEL_90769bd7174640e39c69830db7da9230",
              "IPY_MODEL_397d565e1c2044e7b97b67579fc4f21c"
            ],
            "layout": "IPY_MODEL_bd4214fafa7843c9bec83de23c1afee2"
          }
        },
        "bd4214fafa7843c9bec83de23c1afee2": {
          "model_module": "@jupyter-widgets/base",
          "model_module_version": "1.2.0",
          "model_name": "LayoutModel",
          "state": {
            "_model_module": "@jupyter-widgets/base",
            "_model_module_version": "1.2.0",
            "_model_name": "LayoutModel",
            "_view_count": null,
            "_view_module": "@jupyter-widgets/base",
            "_view_module_version": "1.2.0",
            "_view_name": "LayoutView",
            "align_content": null,
            "align_items": null,
            "align_self": null,
            "border": null,
            "bottom": null,
            "display": null,
            "flex": null,
            "flex_flow": null,
            "grid_area": null,
            "grid_auto_columns": null,
            "grid_auto_flow": null,
            "grid_auto_rows": null,
            "grid_column": null,
            "grid_gap": null,
            "grid_row": null,
            "grid_template_areas": null,
            "grid_template_columns": null,
            "grid_template_rows": null,
            "height": null,
            "justify_content": null,
            "justify_items": null,
            "left": null,
            "margin": null,
            "max_height": null,
            "max_width": null,
            "min_height": null,
            "min_width": null,
            "object_fit": null,
            "object_position": null,
            "order": null,
            "overflow": null,
            "overflow_x": null,
            "overflow_y": null,
            "padding": null,
            "right": null,
            "top": null,
            "visibility": null,
            "width": null
          }
        },
        "e35ca38b0a9e4f96afc1961c4584deb9": {
          "model_module": "@jupyter-widgets/base",
          "model_module_version": "1.2.0",
          "model_name": "LayoutModel",
          "state": {
            "_model_module": "@jupyter-widgets/base",
            "_model_module_version": "1.2.0",
            "_model_name": "LayoutModel",
            "_view_count": null,
            "_view_module": "@jupyter-widgets/base",
            "_view_module_version": "1.2.0",
            "_view_name": "LayoutView",
            "align_content": null,
            "align_items": null,
            "align_self": null,
            "border": null,
            "bottom": null,
            "display": null,
            "flex": null,
            "flex_flow": null,
            "grid_area": null,
            "grid_auto_columns": null,
            "grid_auto_flow": null,
            "grid_auto_rows": null,
            "grid_column": null,
            "grid_gap": null,
            "grid_row": null,
            "grid_template_areas": null,
            "grid_template_columns": null,
            "grid_template_rows": null,
            "height": null,
            "justify_content": null,
            "justify_items": null,
            "left": null,
            "margin": null,
            "max_height": null,
            "max_width": null,
            "min_height": null,
            "min_width": null,
            "object_fit": null,
            "object_position": null,
            "order": null,
            "overflow": null,
            "overflow_x": null,
            "overflow_y": null,
            "padding": null,
            "right": null,
            "top": null,
            "visibility": null,
            "width": null
          }
        },
        "f5d2bcc0bd8844f2878d6e586de05211": {
          "model_module": "@jupyter-widgets/controls",
          "model_module_version": "1.5.0",
          "model_name": "ProgressStyleModel",
          "state": {
            "_model_module": "@jupyter-widgets/controls",
            "_model_module_version": "1.5.0",
            "_model_name": "ProgressStyleModel",
            "_view_count": null,
            "_view_module": "@jupyter-widgets/base",
            "_view_module_version": "1.2.0",
            "_view_name": "StyleView",
            "bar_color": null,
            "description_width": ""
          }
        },
        "2e1b09a2f58e42f1804fe7b97173db74": {
          "model_module": "@jupyter-widgets/controls",
          "model_name": "HBoxModel",
          "model_module_version": "1.5.0",
          "state": {
            "_dom_classes": [],
            "_model_module": "@jupyter-widgets/controls",
            "_model_module_version": "1.5.0",
            "_model_name": "HBoxModel",
            "_view_count": null,
            "_view_module": "@jupyter-widgets/controls",
            "_view_module_version": "1.5.0",
            "_view_name": "HBoxView",
            "box_style": "",
            "children": [
              "IPY_MODEL_e4f9c6a1e8ec4f9e89c8a9663f04a016",
              "IPY_MODEL_122ea41cd3c242d68d0fe609d300a6a4",
              "IPY_MODEL_a34c0552b4084287ad7369dfb6ebe4a2"
            ],
            "layout": "IPY_MODEL_d32b54d5bea64eac92e7f7fcda9e9712"
          }
        },
        "e4f9c6a1e8ec4f9e89c8a9663f04a016": {
          "model_module": "@jupyter-widgets/controls",
          "model_name": "HTMLModel",
          "model_module_version": "1.5.0",
          "state": {
            "_dom_classes": [],
            "_model_module": "@jupyter-widgets/controls",
            "_model_module_version": "1.5.0",
            "_model_name": "HTMLModel",
            "_view_count": null,
            "_view_module": "@jupyter-widgets/controls",
            "_view_module_version": "1.5.0",
            "_view_name": "HTMLView",
            "description": "",
            "description_tooltip": null,
            "layout": "IPY_MODEL_f580c8b3d182416c8efdbe4ec0e1b2c1",
            "placeholder": "​",
            "style": "IPY_MODEL_22428272232e48bcb79fb1b86a7baf88",
            "value": "config.json: 100%"
          }
        },
        "122ea41cd3c242d68d0fe609d300a6a4": {
          "model_module": "@jupyter-widgets/controls",
          "model_name": "FloatProgressModel",
          "model_module_version": "1.5.0",
          "state": {
            "_dom_classes": [],
            "_model_module": "@jupyter-widgets/controls",
            "_model_module_version": "1.5.0",
            "_model_name": "FloatProgressModel",
            "_view_count": null,
            "_view_module": "@jupyter-widgets/controls",
            "_view_module_version": "1.5.0",
            "_view_name": "ProgressView",
            "bar_style": "success",
            "description": "",
            "description_tooltip": null,
            "layout": "IPY_MODEL_0c1575704ba7402783bb304a9b5f3552",
            "max": 2591,
            "min": 0,
            "orientation": "horizontal",
            "style": "IPY_MODEL_7950cca18a61457688ce7eb916cc6cc5",
            "value": 2591
          }
        },
        "a34c0552b4084287ad7369dfb6ebe4a2": {
          "model_module": "@jupyter-widgets/controls",
          "model_name": "HTMLModel",
          "model_module_version": "1.5.0",
          "state": {
            "_dom_classes": [],
            "_model_module": "@jupyter-widgets/controls",
            "_model_module_version": "1.5.0",
            "_model_name": "HTMLModel",
            "_view_count": null,
            "_view_module": "@jupyter-widgets/controls",
            "_view_module_version": "1.5.0",
            "_view_name": "HTMLView",
            "description": "",
            "description_tooltip": null,
            "layout": "IPY_MODEL_98c333c1ffd342d2b45919359a8fec3a",
            "placeholder": "​",
            "style": "IPY_MODEL_c63bddfc666442e4b1a544b6a47f22db",
            "value": " 2.59k/2.59k [00:00&lt;00:00, 49.4kB/s]"
          }
        },
        "d32b54d5bea64eac92e7f7fcda9e9712": {
          "model_module": "@jupyter-widgets/base",
          "model_name": "LayoutModel",
          "model_module_version": "1.2.0",
          "state": {
            "_model_module": "@jupyter-widgets/base",
            "_model_module_version": "1.2.0",
            "_model_name": "LayoutModel",
            "_view_count": null,
            "_view_module": "@jupyter-widgets/base",
            "_view_module_version": "1.2.0",
            "_view_name": "LayoutView",
            "align_content": null,
            "align_items": null,
            "align_self": null,
            "border": null,
            "bottom": null,
            "display": null,
            "flex": null,
            "flex_flow": null,
            "grid_area": null,
            "grid_auto_columns": null,
            "grid_auto_flow": null,
            "grid_auto_rows": null,
            "grid_column": null,
            "grid_gap": null,
            "grid_row": null,
            "grid_template_areas": null,
            "grid_template_columns": null,
            "grid_template_rows": null,
            "height": null,
            "justify_content": null,
            "justify_items": null,
            "left": null,
            "margin": null,
            "max_height": null,
            "max_width": null,
            "min_height": null,
            "min_width": null,
            "object_fit": null,
            "object_position": null,
            "order": null,
            "overflow": null,
            "overflow_x": null,
            "overflow_y": null,
            "padding": null,
            "right": null,
            "top": null,
            "visibility": null,
            "width": null
          }
        },
        "f580c8b3d182416c8efdbe4ec0e1b2c1": {
          "model_module": "@jupyter-widgets/base",
          "model_name": "LayoutModel",
          "model_module_version": "1.2.0",
          "state": {
            "_model_module": "@jupyter-widgets/base",
            "_model_module_version": "1.2.0",
            "_model_name": "LayoutModel",
            "_view_count": null,
            "_view_module": "@jupyter-widgets/base",
            "_view_module_version": "1.2.0",
            "_view_name": "LayoutView",
            "align_content": null,
            "align_items": null,
            "align_self": null,
            "border": null,
            "bottom": null,
            "display": null,
            "flex": null,
            "flex_flow": null,
            "grid_area": null,
            "grid_auto_columns": null,
            "grid_auto_flow": null,
            "grid_auto_rows": null,
            "grid_column": null,
            "grid_gap": null,
            "grid_row": null,
            "grid_template_areas": null,
            "grid_template_columns": null,
            "grid_template_rows": null,
            "height": null,
            "justify_content": null,
            "justify_items": null,
            "left": null,
            "margin": null,
            "max_height": null,
            "max_width": null,
            "min_height": null,
            "min_width": null,
            "object_fit": null,
            "object_position": null,
            "order": null,
            "overflow": null,
            "overflow_x": null,
            "overflow_y": null,
            "padding": null,
            "right": null,
            "top": null,
            "visibility": null,
            "width": null
          }
        },
        "22428272232e48bcb79fb1b86a7baf88": {
          "model_module": "@jupyter-widgets/controls",
          "model_name": "DescriptionStyleModel",
          "model_module_version": "1.5.0",
          "state": {
            "_model_module": "@jupyter-widgets/controls",
            "_model_module_version": "1.5.0",
            "_model_name": "DescriptionStyleModel",
            "_view_count": null,
            "_view_module": "@jupyter-widgets/base",
            "_view_module_version": "1.2.0",
            "_view_name": "StyleView",
            "description_width": ""
          }
        },
        "0c1575704ba7402783bb304a9b5f3552": {
          "model_module": "@jupyter-widgets/base",
          "model_name": "LayoutModel",
          "model_module_version": "1.2.0",
          "state": {
            "_model_module": "@jupyter-widgets/base",
            "_model_module_version": "1.2.0",
            "_model_name": "LayoutModel",
            "_view_count": null,
            "_view_module": "@jupyter-widgets/base",
            "_view_module_version": "1.2.0",
            "_view_name": "LayoutView",
            "align_content": null,
            "align_items": null,
            "align_self": null,
            "border": null,
            "bottom": null,
            "display": null,
            "flex": null,
            "flex_flow": null,
            "grid_area": null,
            "grid_auto_columns": null,
            "grid_auto_flow": null,
            "grid_auto_rows": null,
            "grid_column": null,
            "grid_gap": null,
            "grid_row": null,
            "grid_template_areas": null,
            "grid_template_columns": null,
            "grid_template_rows": null,
            "height": null,
            "justify_content": null,
            "justify_items": null,
            "left": null,
            "margin": null,
            "max_height": null,
            "max_width": null,
            "min_height": null,
            "min_width": null,
            "object_fit": null,
            "object_position": null,
            "order": null,
            "overflow": null,
            "overflow_x": null,
            "overflow_y": null,
            "padding": null,
            "right": null,
            "top": null,
            "visibility": null,
            "width": null
          }
        },
        "7950cca18a61457688ce7eb916cc6cc5": {
          "model_module": "@jupyter-widgets/controls",
          "model_name": "ProgressStyleModel",
          "model_module_version": "1.5.0",
          "state": {
            "_model_module": "@jupyter-widgets/controls",
            "_model_module_version": "1.5.0",
            "_model_name": "ProgressStyleModel",
            "_view_count": null,
            "_view_module": "@jupyter-widgets/base",
            "_view_module_version": "1.2.0",
            "_view_name": "StyleView",
            "bar_color": null,
            "description_width": ""
          }
        },
        "98c333c1ffd342d2b45919359a8fec3a": {
          "model_module": "@jupyter-widgets/base",
          "model_name": "LayoutModel",
          "model_module_version": "1.2.0",
          "state": {
            "_model_module": "@jupyter-widgets/base",
            "_model_module_version": "1.2.0",
            "_model_name": "LayoutModel",
            "_view_count": null,
            "_view_module": "@jupyter-widgets/base",
            "_view_module_version": "1.2.0",
            "_view_name": "LayoutView",
            "align_content": null,
            "align_items": null,
            "align_self": null,
            "border": null,
            "bottom": null,
            "display": null,
            "flex": null,
            "flex_flow": null,
            "grid_area": null,
            "grid_auto_columns": null,
            "grid_auto_flow": null,
            "grid_auto_rows": null,
            "grid_column": null,
            "grid_gap": null,
            "grid_row": null,
            "grid_template_areas": null,
            "grid_template_columns": null,
            "grid_template_rows": null,
            "height": null,
            "justify_content": null,
            "justify_items": null,
            "left": null,
            "margin": null,
            "max_height": null,
            "max_width": null,
            "min_height": null,
            "min_width": null,
            "object_fit": null,
            "object_position": null,
            "order": null,
            "overflow": null,
            "overflow_x": null,
            "overflow_y": null,
            "padding": null,
            "right": null,
            "top": null,
            "visibility": null,
            "width": null
          }
        },
        "c63bddfc666442e4b1a544b6a47f22db": {
          "model_module": "@jupyter-widgets/controls",
          "model_name": "DescriptionStyleModel",
          "model_module_version": "1.5.0",
          "state": {
            "_model_module": "@jupyter-widgets/controls",
            "_model_module_version": "1.5.0",
            "_model_name": "DescriptionStyleModel",
            "_view_count": null,
            "_view_module": "@jupyter-widgets/base",
            "_view_module_version": "1.2.0",
            "_view_name": "StyleView",
            "description_width": ""
          }
        },
        "4524f0a40ea5487aab71464e4a999dff": {
          "model_module": "@jupyter-widgets/controls",
          "model_name": "HBoxModel",
          "model_module_version": "1.5.0",
          "state": {
            "_dom_classes": [],
            "_model_module": "@jupyter-widgets/controls",
            "_model_module_version": "1.5.0",
            "_model_name": "HBoxModel",
            "_view_count": null,
            "_view_module": "@jupyter-widgets/controls",
            "_view_module_version": "1.5.0",
            "_view_name": "HBoxView",
            "box_style": "",
            "children": [
              "IPY_MODEL_fc4ec74a15e44d4ea34f5ff44dfb08a1",
              "IPY_MODEL_99d12902835d4ccf92118910a0540ea5",
              "IPY_MODEL_f077bb3a86ac4f9cb5b96210c5d3e30b"
            ],
            "layout": "IPY_MODEL_9d701565759a45f7a2a2942a38427119"
          }
        },
        "fc4ec74a15e44d4ea34f5ff44dfb08a1": {
          "model_module": "@jupyter-widgets/controls",
          "model_name": "HTMLModel",
          "model_module_version": "1.5.0",
          "state": {
            "_dom_classes": [],
            "_model_module": "@jupyter-widgets/controls",
            "_model_module_version": "1.5.0",
            "_model_name": "HTMLModel",
            "_view_count": null,
            "_view_module": "@jupyter-widgets/controls",
            "_view_module_version": "1.5.0",
            "_view_name": "HTMLView",
            "description": "",
            "description_tooltip": null,
            "layout": "IPY_MODEL_6ca9eb8dfb76416a89c946095da88920",
            "placeholder": "​",
            "style": "IPY_MODEL_0fa87535d17e4e58b0f1d93894b88037",
            "value": "model.safetensors: 100%"
          }
        },
        "99d12902835d4ccf92118910a0540ea5": {
          "model_module": "@jupyter-widgets/controls",
          "model_name": "FloatProgressModel",
          "model_module_version": "1.5.0",
          "state": {
            "_dom_classes": [],
            "_model_module": "@jupyter-widgets/controls",
            "_model_module_version": "1.5.0",
            "_model_name": "FloatProgressModel",
            "_view_count": null,
            "_view_module": "@jupyter-widgets/controls",
            "_view_module_version": "1.5.0",
            "_view_name": "ProgressView",
            "bar_style": "success",
            "description": "",
            "description_tooltip": null,
            "layout": "IPY_MODEL_d202651de63d4c12bb4767a8ad1d755c",
            "max": 1787445680,
            "min": 0,
            "orientation": "horizontal",
            "style": "IPY_MODEL_adda8382b61d491abc02d3f051ef9398",
            "value": 1787445680
          }
        },
        "f077bb3a86ac4f9cb5b96210c5d3e30b": {
          "model_module": "@jupyter-widgets/controls",
          "model_name": "HTMLModel",
          "model_module_version": "1.5.0",
          "state": {
            "_dom_classes": [],
            "_model_module": "@jupyter-widgets/controls",
            "_model_module_version": "1.5.0",
            "_model_name": "HTMLModel",
            "_view_count": null,
            "_view_module": "@jupyter-widgets/controls",
            "_view_module_version": "1.5.0",
            "_view_name": "HTMLView",
            "description": "",
            "description_tooltip": null,
            "layout": "IPY_MODEL_68743493919e48aa822f80b74eedec51",
            "placeholder": "​",
            "style": "IPY_MODEL_ce3b58991cfd483291a931015e1de379",
            "value": " 1.79G/1.79G [00:42&lt;00:00, 42.1MB/s]"
          }
        },
        "9d701565759a45f7a2a2942a38427119": {
          "model_module": "@jupyter-widgets/base",
          "model_name": "LayoutModel",
          "model_module_version": "1.2.0",
          "state": {
            "_model_module": "@jupyter-widgets/base",
            "_model_module_version": "1.2.0",
            "_model_name": "LayoutModel",
            "_view_count": null,
            "_view_module": "@jupyter-widgets/base",
            "_view_module_version": "1.2.0",
            "_view_name": "LayoutView",
            "align_content": null,
            "align_items": null,
            "align_self": null,
            "border": null,
            "bottom": null,
            "display": null,
            "flex": null,
            "flex_flow": null,
            "grid_area": null,
            "grid_auto_columns": null,
            "grid_auto_flow": null,
            "grid_auto_rows": null,
            "grid_column": null,
            "grid_gap": null,
            "grid_row": null,
            "grid_template_areas": null,
            "grid_template_columns": null,
            "grid_template_rows": null,
            "height": null,
            "justify_content": null,
            "justify_items": null,
            "left": null,
            "margin": null,
            "max_height": null,
            "max_width": null,
            "min_height": null,
            "min_width": null,
            "object_fit": null,
            "object_position": null,
            "order": null,
            "overflow": null,
            "overflow_x": null,
            "overflow_y": null,
            "padding": null,
            "right": null,
            "top": null,
            "visibility": null,
            "width": null
          }
        },
        "6ca9eb8dfb76416a89c946095da88920": {
          "model_module": "@jupyter-widgets/base",
          "model_name": "LayoutModel",
          "model_module_version": "1.2.0",
          "state": {
            "_model_module": "@jupyter-widgets/base",
            "_model_module_version": "1.2.0",
            "_model_name": "LayoutModel",
            "_view_count": null,
            "_view_module": "@jupyter-widgets/base",
            "_view_module_version": "1.2.0",
            "_view_name": "LayoutView",
            "align_content": null,
            "align_items": null,
            "align_self": null,
            "border": null,
            "bottom": null,
            "display": null,
            "flex": null,
            "flex_flow": null,
            "grid_area": null,
            "grid_auto_columns": null,
            "grid_auto_flow": null,
            "grid_auto_rows": null,
            "grid_column": null,
            "grid_gap": null,
            "grid_row": null,
            "grid_template_areas": null,
            "grid_template_columns": null,
            "grid_template_rows": null,
            "height": null,
            "justify_content": null,
            "justify_items": null,
            "left": null,
            "margin": null,
            "max_height": null,
            "max_width": null,
            "min_height": null,
            "min_width": null,
            "object_fit": null,
            "object_position": null,
            "order": null,
            "overflow": null,
            "overflow_x": null,
            "overflow_y": null,
            "padding": null,
            "right": null,
            "top": null,
            "visibility": null,
            "width": null
          }
        },
        "0fa87535d17e4e58b0f1d93894b88037": {
          "model_module": "@jupyter-widgets/controls",
          "model_name": "DescriptionStyleModel",
          "model_module_version": "1.5.0",
          "state": {
            "_model_module": "@jupyter-widgets/controls",
            "_model_module_version": "1.5.0",
            "_model_name": "DescriptionStyleModel",
            "_view_count": null,
            "_view_module": "@jupyter-widgets/base",
            "_view_module_version": "1.2.0",
            "_view_name": "StyleView",
            "description_width": ""
          }
        },
        "d202651de63d4c12bb4767a8ad1d755c": {
          "model_module": "@jupyter-widgets/base",
          "model_name": "LayoutModel",
          "model_module_version": "1.2.0",
          "state": {
            "_model_module": "@jupyter-widgets/base",
            "_model_module_version": "1.2.0",
            "_model_name": "LayoutModel",
            "_view_count": null,
            "_view_module": "@jupyter-widgets/base",
            "_view_module_version": "1.2.0",
            "_view_name": "LayoutView",
            "align_content": null,
            "align_items": null,
            "align_self": null,
            "border": null,
            "bottom": null,
            "display": null,
            "flex": null,
            "flex_flow": null,
            "grid_area": null,
            "grid_auto_columns": null,
            "grid_auto_flow": null,
            "grid_auto_rows": null,
            "grid_column": null,
            "grid_gap": null,
            "grid_row": null,
            "grid_template_areas": null,
            "grid_template_columns": null,
            "grid_template_rows": null,
            "height": null,
            "justify_content": null,
            "justify_items": null,
            "left": null,
            "margin": null,
            "max_height": null,
            "max_width": null,
            "min_height": null,
            "min_width": null,
            "object_fit": null,
            "object_position": null,
            "order": null,
            "overflow": null,
            "overflow_x": null,
            "overflow_y": null,
            "padding": null,
            "right": null,
            "top": null,
            "visibility": null,
            "width": null
          }
        },
        "adda8382b61d491abc02d3f051ef9398": {
          "model_module": "@jupyter-widgets/controls",
          "model_name": "ProgressStyleModel",
          "model_module_version": "1.5.0",
          "state": {
            "_model_module": "@jupyter-widgets/controls",
            "_model_module_version": "1.5.0",
            "_model_name": "ProgressStyleModel",
            "_view_count": null,
            "_view_module": "@jupyter-widgets/base",
            "_view_module_version": "1.2.0",
            "_view_name": "StyleView",
            "bar_color": null,
            "description_width": ""
          }
        },
        "68743493919e48aa822f80b74eedec51": {
          "model_module": "@jupyter-widgets/base",
          "model_name": "LayoutModel",
          "model_module_version": "1.2.0",
          "state": {
            "_model_module": "@jupyter-widgets/base",
            "_model_module_version": "1.2.0",
            "_model_name": "LayoutModel",
            "_view_count": null,
            "_view_module": "@jupyter-widgets/base",
            "_view_module_version": "1.2.0",
            "_view_name": "LayoutView",
            "align_content": null,
            "align_items": null,
            "align_self": null,
            "border": null,
            "bottom": null,
            "display": null,
            "flex": null,
            "flex_flow": null,
            "grid_area": null,
            "grid_auto_columns": null,
            "grid_auto_flow": null,
            "grid_auto_rows": null,
            "grid_column": null,
            "grid_gap": null,
            "grid_row": null,
            "grid_template_areas": null,
            "grid_template_columns": null,
            "grid_template_rows": null,
            "height": null,
            "justify_content": null,
            "justify_items": null,
            "left": null,
            "margin": null,
            "max_height": null,
            "max_width": null,
            "min_height": null,
            "min_width": null,
            "object_fit": null,
            "object_position": null,
            "order": null,
            "overflow": null,
            "overflow_x": null,
            "overflow_y": null,
            "padding": null,
            "right": null,
            "top": null,
            "visibility": null,
            "width": null
          }
        },
        "ce3b58991cfd483291a931015e1de379": {
          "model_module": "@jupyter-widgets/controls",
          "model_name": "DescriptionStyleModel",
          "model_module_version": "1.5.0",
          "state": {
            "_model_module": "@jupyter-widgets/controls",
            "_model_module_version": "1.5.0",
            "_model_name": "DescriptionStyleModel",
            "_view_count": null,
            "_view_module": "@jupyter-widgets/base",
            "_view_module_version": "1.2.0",
            "_view_name": "StyleView",
            "description_width": ""
          }
        },
        "e3e1433664204ec9be2af4c5f0c634c2": {
          "model_module": "@jupyter-widgets/controls",
          "model_name": "HBoxModel",
          "model_module_version": "1.5.0",
          "state": {
            "_dom_classes": [],
            "_model_module": "@jupyter-widgets/controls",
            "_model_module_version": "1.5.0",
            "_model_name": "HBoxModel",
            "_view_count": null,
            "_view_module": "@jupyter-widgets/controls",
            "_view_module_version": "1.5.0",
            "_view_name": "HBoxView",
            "box_style": "",
            "children": [
              "IPY_MODEL_bc9e989531854eeea378aaee566d992d",
              "IPY_MODEL_afa29ff6b6a3487bb82e2c5dd1c8ed65",
              "IPY_MODEL_ce768d661eb741aa8ad01616d2390a81"
            ],
            "layout": "IPY_MODEL_a66656610bf74fac99782d3d92b3aef0"
          }
        },
        "bc9e989531854eeea378aaee566d992d": {
          "model_module": "@jupyter-widgets/controls",
          "model_name": "HTMLModel",
          "model_module_version": "1.5.0",
          "state": {
            "_dom_classes": [],
            "_model_module": "@jupyter-widgets/controls",
            "_model_module_version": "1.5.0",
            "_model_name": "HTMLModel",
            "_view_count": null,
            "_view_module": "@jupyter-widgets/controls",
            "_view_module_version": "1.5.0",
            "_view_name": "HTMLView",
            "description": "",
            "description_tooltip": null,
            "layout": "IPY_MODEL_00d5252f8a7b4685b04f3a61a1a1b7c1",
            "placeholder": "​",
            "style": "IPY_MODEL_310005f14145480a8cad4de8fa93df58",
            "value": "generation_config.json: 100%"
          }
        },
        "afa29ff6b6a3487bb82e2c5dd1c8ed65": {
          "model_module": "@jupyter-widgets/controls",
          "model_name": "FloatProgressModel",
          "model_module_version": "1.5.0",
          "state": {
            "_dom_classes": [],
            "_model_module": "@jupyter-widgets/controls",
            "_model_module_version": "1.5.0",
            "_model_name": "FloatProgressModel",
            "_view_count": null,
            "_view_module": "@jupyter-widgets/controls",
            "_view_module_version": "1.5.0",
            "_view_name": "ProgressView",
            "bar_style": "success",
            "description": "",
            "description_tooltip": null,
            "layout": "IPY_MODEL_ec72ad3104314008b6008695e4cf4ac2",
            "max": 126,
            "min": 0,
            "orientation": "horizontal",
            "style": "IPY_MODEL_8877e664d13b4691a05288c6891f78fa",
            "value": 126
          }
        },
        "ce768d661eb741aa8ad01616d2390a81": {
          "model_module": "@jupyter-widgets/controls",
          "model_name": "HTMLModel",
          "model_module_version": "1.5.0",
          "state": {
            "_dom_classes": [],
            "_model_module": "@jupyter-widgets/controls",
            "_model_module_version": "1.5.0",
            "_model_name": "HTMLModel",
            "_view_count": null,
            "_view_module": "@jupyter-widgets/controls",
            "_view_module_version": "1.5.0",
            "_view_name": "HTMLView",
            "description": "",
            "description_tooltip": null,
            "layout": "IPY_MODEL_5b7a3767132647fcb196df4d0cb614e7",
            "placeholder": "​",
            "style": "IPY_MODEL_5558a28cf3704c82924027699137b31b",
            "value": " 126/126 [00:00&lt;00:00, 6.69kB/s]"
          }
        },
        "a66656610bf74fac99782d3d92b3aef0": {
          "model_module": "@jupyter-widgets/base",
          "model_name": "LayoutModel",
          "model_module_version": "1.2.0",
          "state": {
            "_model_module": "@jupyter-widgets/base",
            "_model_module_version": "1.2.0",
            "_model_name": "LayoutModel",
            "_view_count": null,
            "_view_module": "@jupyter-widgets/base",
            "_view_module_version": "1.2.0",
            "_view_name": "LayoutView",
            "align_content": null,
            "align_items": null,
            "align_self": null,
            "border": null,
            "bottom": null,
            "display": null,
            "flex": null,
            "flex_flow": null,
            "grid_area": null,
            "grid_auto_columns": null,
            "grid_auto_flow": null,
            "grid_auto_rows": null,
            "grid_column": null,
            "grid_gap": null,
            "grid_row": null,
            "grid_template_areas": null,
            "grid_template_columns": null,
            "grid_template_rows": null,
            "height": null,
            "justify_content": null,
            "justify_items": null,
            "left": null,
            "margin": null,
            "max_height": null,
            "max_width": null,
            "min_height": null,
            "min_width": null,
            "object_fit": null,
            "object_position": null,
            "order": null,
            "overflow": null,
            "overflow_x": null,
            "overflow_y": null,
            "padding": null,
            "right": null,
            "top": null,
            "visibility": null,
            "width": null
          }
        },
        "00d5252f8a7b4685b04f3a61a1a1b7c1": {
          "model_module": "@jupyter-widgets/base",
          "model_name": "LayoutModel",
          "model_module_version": "1.2.0",
          "state": {
            "_model_module": "@jupyter-widgets/base",
            "_model_module_version": "1.2.0",
            "_model_name": "LayoutModel",
            "_view_count": null,
            "_view_module": "@jupyter-widgets/base",
            "_view_module_version": "1.2.0",
            "_view_name": "LayoutView",
            "align_content": null,
            "align_items": null,
            "align_self": null,
            "border": null,
            "bottom": null,
            "display": null,
            "flex": null,
            "flex_flow": null,
            "grid_area": null,
            "grid_auto_columns": null,
            "grid_auto_flow": null,
            "grid_auto_rows": null,
            "grid_column": null,
            "grid_gap": null,
            "grid_row": null,
            "grid_template_areas": null,
            "grid_template_columns": null,
            "grid_template_rows": null,
            "height": null,
            "justify_content": null,
            "justify_items": null,
            "left": null,
            "margin": null,
            "max_height": null,
            "max_width": null,
            "min_height": null,
            "min_width": null,
            "object_fit": null,
            "object_position": null,
            "order": null,
            "overflow": null,
            "overflow_x": null,
            "overflow_y": null,
            "padding": null,
            "right": null,
            "top": null,
            "visibility": null,
            "width": null
          }
        },
        "310005f14145480a8cad4de8fa93df58": {
          "model_module": "@jupyter-widgets/controls",
          "model_name": "DescriptionStyleModel",
          "model_module_version": "1.5.0",
          "state": {
            "_model_module": "@jupyter-widgets/controls",
            "_model_module_version": "1.5.0",
            "_model_name": "DescriptionStyleModel",
            "_view_count": null,
            "_view_module": "@jupyter-widgets/base",
            "_view_module_version": "1.2.0",
            "_view_name": "StyleView",
            "description_width": ""
          }
        },
        "ec72ad3104314008b6008695e4cf4ac2": {
          "model_module": "@jupyter-widgets/base",
          "model_name": "LayoutModel",
          "model_module_version": "1.2.0",
          "state": {
            "_model_module": "@jupyter-widgets/base",
            "_model_module_version": "1.2.0",
            "_model_name": "LayoutModel",
            "_view_count": null,
            "_view_module": "@jupyter-widgets/base",
            "_view_module_version": "1.2.0",
            "_view_name": "LayoutView",
            "align_content": null,
            "align_items": null,
            "align_self": null,
            "border": null,
            "bottom": null,
            "display": null,
            "flex": null,
            "flex_flow": null,
            "grid_area": null,
            "grid_auto_columns": null,
            "grid_auto_flow": null,
            "grid_auto_rows": null,
            "grid_column": null,
            "grid_gap": null,
            "grid_row": null,
            "grid_template_areas": null,
            "grid_template_columns": null,
            "grid_template_rows": null,
            "height": null,
            "justify_content": null,
            "justify_items": null,
            "left": null,
            "margin": null,
            "max_height": null,
            "max_width": null,
            "min_height": null,
            "min_width": null,
            "object_fit": null,
            "object_position": null,
            "order": null,
            "overflow": null,
            "overflow_x": null,
            "overflow_y": null,
            "padding": null,
            "right": null,
            "top": null,
            "visibility": null,
            "width": null
          }
        },
        "8877e664d13b4691a05288c6891f78fa": {
          "model_module": "@jupyter-widgets/controls",
          "model_name": "ProgressStyleModel",
          "model_module_version": "1.5.0",
          "state": {
            "_model_module": "@jupyter-widgets/controls",
            "_model_module_version": "1.5.0",
            "_model_name": "ProgressStyleModel",
            "_view_count": null,
            "_view_module": "@jupyter-widgets/base",
            "_view_module_version": "1.2.0",
            "_view_name": "StyleView",
            "bar_color": null,
            "description_width": ""
          }
        },
        "5b7a3767132647fcb196df4d0cb614e7": {
          "model_module": "@jupyter-widgets/base",
          "model_name": "LayoutModel",
          "model_module_version": "1.2.0",
          "state": {
            "_model_module": "@jupyter-widgets/base",
            "_model_module_version": "1.2.0",
            "_model_name": "LayoutModel",
            "_view_count": null,
            "_view_module": "@jupyter-widgets/base",
            "_view_module_version": "1.2.0",
            "_view_name": "LayoutView",
            "align_content": null,
            "align_items": null,
            "align_self": null,
            "border": null,
            "bottom": null,
            "display": null,
            "flex": null,
            "flex_flow": null,
            "grid_area": null,
            "grid_auto_columns": null,
            "grid_auto_flow": null,
            "grid_auto_rows": null,
            "grid_column": null,
            "grid_gap": null,
            "grid_row": null,
            "grid_template_areas": null,
            "grid_template_columns": null,
            "grid_template_rows": null,
            "height": null,
            "justify_content": null,
            "justify_items": null,
            "left": null,
            "margin": null,
            "max_height": null,
            "max_width": null,
            "min_height": null,
            "min_width": null,
            "object_fit": null,
            "object_position": null,
            "order": null,
            "overflow": null,
            "overflow_x": null,
            "overflow_y": null,
            "padding": null,
            "right": null,
            "top": null,
            "visibility": null,
            "width": null
          }
        },
        "5558a28cf3704c82924027699137b31b": {
          "model_module": "@jupyter-widgets/controls",
          "model_name": "DescriptionStyleModel",
          "model_module_version": "1.5.0",
          "state": {
            "_model_module": "@jupyter-widgets/controls",
            "_model_module_version": "1.5.0",
            "_model_name": "DescriptionStyleModel",
            "_view_count": null,
            "_view_module": "@jupyter-widgets/base",
            "_view_module_version": "1.2.0",
            "_view_name": "StyleView",
            "description_width": ""
          }
        },
        "a576608b35284db2b0c1341eb869b7ef": {
          "model_module": "@jupyter-widgets/controls",
          "model_name": "HBoxModel",
          "model_module_version": "1.5.0",
          "state": {
            "_dom_classes": [],
            "_model_module": "@jupyter-widgets/controls",
            "_model_module_version": "1.5.0",
            "_model_name": "HBoxModel",
            "_view_count": null,
            "_view_module": "@jupyter-widgets/controls",
            "_view_module_version": "1.5.0",
            "_view_name": "HBoxView",
            "box_style": "",
            "children": [
              "IPY_MODEL_86df0a50a77a487ca6b7b00bb780d207",
              "IPY_MODEL_b16dd570b15e452f9ceb620aad5c3a3b",
              "IPY_MODEL_adb79099bf51475ba09edf9979fde31a"
            ],
            "layout": "IPY_MODEL_1c8e03643fd748ada3dd415f963e7a2e"
          }
        },
        "86df0a50a77a487ca6b7b00bb780d207": {
          "model_module": "@jupyter-widgets/controls",
          "model_name": "HTMLModel",
          "model_module_version": "1.5.0",
          "state": {
            "_dom_classes": [],
            "_model_module": "@jupyter-widgets/controls",
            "_model_module_version": "1.5.0",
            "_model_name": "HTMLModel",
            "_view_count": null,
            "_view_module": "@jupyter-widgets/controls",
            "_view_module_version": "1.5.0",
            "_view_name": "HTMLView",
            "description": "",
            "description_tooltip": null,
            "layout": "IPY_MODEL_3be9737dbdf846828baa49295afa7043",
            "placeholder": "​",
            "style": "IPY_MODEL_7da01ff99eb6450cb0d83752dbdcfe4d",
            "value": "processor_config.json: 100%"
          }
        },
        "b16dd570b15e452f9ceb620aad5c3a3b": {
          "model_module": "@jupyter-widgets/controls",
          "model_name": "FloatProgressModel",
          "model_module_version": "1.5.0",
          "state": {
            "_dom_classes": [],
            "_model_module": "@jupyter-widgets/controls",
            "_model_module_version": "1.5.0",
            "_model_name": "FloatProgressModel",
            "_view_count": null,
            "_view_module": "@jupyter-widgets/controls",
            "_view_module_version": "1.5.0",
            "_view_name": "ProgressView",
            "bar_style": "success",
            "description": "",
            "description_tooltip": null,
            "layout": "IPY_MODEL_428d9047d26848ec8d1e43d46060ef0f",
            "max": 178,
            "min": 0,
            "orientation": "horizontal",
            "style": "IPY_MODEL_04102eb30d574780bd0a8948410e7ca1",
            "value": 178
          }
        },
        "adb79099bf51475ba09edf9979fde31a": {
          "model_module": "@jupyter-widgets/controls",
          "model_name": "HTMLModel",
          "model_module_version": "1.5.0",
          "state": {
            "_dom_classes": [],
            "_model_module": "@jupyter-widgets/controls",
            "_model_module_version": "1.5.0",
            "_model_name": "HTMLModel",
            "_view_count": null,
            "_view_module": "@jupyter-widgets/controls",
            "_view_module_version": "1.5.0",
            "_view_name": "HTMLView",
            "description": "",
            "description_tooltip": null,
            "layout": "IPY_MODEL_69f7a0168b62409d9d4e5851160c4e0c",
            "placeholder": "​",
            "style": "IPY_MODEL_559bc3673b6142a8a876fdec6d7b311e",
            "value": " 178/178 [00:00&lt;00:00, 10.4kB/s]"
          }
        },
        "1c8e03643fd748ada3dd415f963e7a2e": {
          "model_module": "@jupyter-widgets/base",
          "model_name": "LayoutModel",
          "model_module_version": "1.2.0",
          "state": {
            "_model_module": "@jupyter-widgets/base",
            "_model_module_version": "1.2.0",
            "_model_name": "LayoutModel",
            "_view_count": null,
            "_view_module": "@jupyter-widgets/base",
            "_view_module_version": "1.2.0",
            "_view_name": "LayoutView",
            "align_content": null,
            "align_items": null,
            "align_self": null,
            "border": null,
            "bottom": null,
            "display": null,
            "flex": null,
            "flex_flow": null,
            "grid_area": null,
            "grid_auto_columns": null,
            "grid_auto_flow": null,
            "grid_auto_rows": null,
            "grid_column": null,
            "grid_gap": null,
            "grid_row": null,
            "grid_template_areas": null,
            "grid_template_columns": null,
            "grid_template_rows": null,
            "height": null,
            "justify_content": null,
            "justify_items": null,
            "left": null,
            "margin": null,
            "max_height": null,
            "max_width": null,
            "min_height": null,
            "min_width": null,
            "object_fit": null,
            "object_position": null,
            "order": null,
            "overflow": null,
            "overflow_x": null,
            "overflow_y": null,
            "padding": null,
            "right": null,
            "top": null,
            "visibility": null,
            "width": null
          }
        },
        "3be9737dbdf846828baa49295afa7043": {
          "model_module": "@jupyter-widgets/base",
          "model_name": "LayoutModel",
          "model_module_version": "1.2.0",
          "state": {
            "_model_module": "@jupyter-widgets/base",
            "_model_module_version": "1.2.0",
            "_model_name": "LayoutModel",
            "_view_count": null,
            "_view_module": "@jupyter-widgets/base",
            "_view_module_version": "1.2.0",
            "_view_name": "LayoutView",
            "align_content": null,
            "align_items": null,
            "align_self": null,
            "border": null,
            "bottom": null,
            "display": null,
            "flex": null,
            "flex_flow": null,
            "grid_area": null,
            "grid_auto_columns": null,
            "grid_auto_flow": null,
            "grid_auto_rows": null,
            "grid_column": null,
            "grid_gap": null,
            "grid_row": null,
            "grid_template_areas": null,
            "grid_template_columns": null,
            "grid_template_rows": null,
            "height": null,
            "justify_content": null,
            "justify_items": null,
            "left": null,
            "margin": null,
            "max_height": null,
            "max_width": null,
            "min_height": null,
            "min_width": null,
            "object_fit": null,
            "object_position": null,
            "order": null,
            "overflow": null,
            "overflow_x": null,
            "overflow_y": null,
            "padding": null,
            "right": null,
            "top": null,
            "visibility": null,
            "width": null
          }
        },
        "7da01ff99eb6450cb0d83752dbdcfe4d": {
          "model_module": "@jupyter-widgets/controls",
          "model_name": "DescriptionStyleModel",
          "model_module_version": "1.5.0",
          "state": {
            "_model_module": "@jupyter-widgets/controls",
            "_model_module_version": "1.5.0",
            "_model_name": "DescriptionStyleModel",
            "_view_count": null,
            "_view_module": "@jupyter-widgets/base",
            "_view_module_version": "1.2.0",
            "_view_name": "StyleView",
            "description_width": ""
          }
        },
        "428d9047d26848ec8d1e43d46060ef0f": {
          "model_module": "@jupyter-widgets/base",
          "model_name": "LayoutModel",
          "model_module_version": "1.2.0",
          "state": {
            "_model_module": "@jupyter-widgets/base",
            "_model_module_version": "1.2.0",
            "_model_name": "LayoutModel",
            "_view_count": null,
            "_view_module": "@jupyter-widgets/base",
            "_view_module_version": "1.2.0",
            "_view_name": "LayoutView",
            "align_content": null,
            "align_items": null,
            "align_self": null,
            "border": null,
            "bottom": null,
            "display": null,
            "flex": null,
            "flex_flow": null,
            "grid_area": null,
            "grid_auto_columns": null,
            "grid_auto_flow": null,
            "grid_auto_rows": null,
            "grid_column": null,
            "grid_gap": null,
            "grid_row": null,
            "grid_template_areas": null,
            "grid_template_columns": null,
            "grid_template_rows": null,
            "height": null,
            "justify_content": null,
            "justify_items": null,
            "left": null,
            "margin": null,
            "max_height": null,
            "max_width": null,
            "min_height": null,
            "min_width": null,
            "object_fit": null,
            "object_position": null,
            "order": null,
            "overflow": null,
            "overflow_x": null,
            "overflow_y": null,
            "padding": null,
            "right": null,
            "top": null,
            "visibility": null,
            "width": null
          }
        },
        "04102eb30d574780bd0a8948410e7ca1": {
          "model_module": "@jupyter-widgets/controls",
          "model_name": "ProgressStyleModel",
          "model_module_version": "1.5.0",
          "state": {
            "_model_module": "@jupyter-widgets/controls",
            "_model_module_version": "1.5.0",
            "_model_name": "ProgressStyleModel",
            "_view_count": null,
            "_view_module": "@jupyter-widgets/base",
            "_view_module_version": "1.2.0",
            "_view_name": "StyleView",
            "bar_color": null,
            "description_width": ""
          }
        },
        "69f7a0168b62409d9d4e5851160c4e0c": {
          "model_module": "@jupyter-widgets/base",
          "model_name": "LayoutModel",
          "model_module_version": "1.2.0",
          "state": {
            "_model_module": "@jupyter-widgets/base",
            "_model_module_version": "1.2.0",
            "_model_name": "LayoutModel",
            "_view_count": null,
            "_view_module": "@jupyter-widgets/base",
            "_view_module_version": "1.2.0",
            "_view_name": "LayoutView",
            "align_content": null,
            "align_items": null,
            "align_self": null,
            "border": null,
            "bottom": null,
            "display": null,
            "flex": null,
            "flex_flow": null,
            "grid_area": null,
            "grid_auto_columns": null,
            "grid_auto_flow": null,
            "grid_auto_rows": null,
            "grid_column": null,
            "grid_gap": null,
            "grid_row": null,
            "grid_template_areas": null,
            "grid_template_columns": null,
            "grid_template_rows": null,
            "height": null,
            "justify_content": null,
            "justify_items": null,
            "left": null,
            "margin": null,
            "max_height": null,
            "max_width": null,
            "min_height": null,
            "min_width": null,
            "object_fit": null,
            "object_position": null,
            "order": null,
            "overflow": null,
            "overflow_x": null,
            "overflow_y": null,
            "padding": null,
            "right": null,
            "top": null,
            "visibility": null,
            "width": null
          }
        },
        "559bc3673b6142a8a876fdec6d7b311e": {
          "model_module": "@jupyter-widgets/controls",
          "model_name": "DescriptionStyleModel",
          "model_module_version": "1.5.0",
          "state": {
            "_model_module": "@jupyter-widgets/controls",
            "_model_module_version": "1.5.0",
            "_model_name": "DescriptionStyleModel",
            "_view_count": null,
            "_view_module": "@jupyter-widgets/base",
            "_view_module_version": "1.2.0",
            "_view_name": "StyleView",
            "description_width": ""
          }
        },
        "47281f434f144b619b0358f5f04db006": {
          "model_module": "@jupyter-widgets/controls",
          "model_name": "HBoxModel",
          "model_module_version": "1.5.0",
          "state": {
            "_dom_classes": [],
            "_model_module": "@jupyter-widgets/controls",
            "_model_module_version": "1.5.0",
            "_model_name": "HBoxModel",
            "_view_count": null,
            "_view_module": "@jupyter-widgets/controls",
            "_view_module_version": "1.5.0",
            "_view_name": "HBoxView",
            "box_style": "",
            "children": [
              "IPY_MODEL_dc6f25a1309548e6909f9bec34dd3b09",
              "IPY_MODEL_39ff1b1d928148719995d3998104cbec",
              "IPY_MODEL_ff987a7ea13e480ab67d47fa8f1d0e37"
            ],
            "layout": "IPY_MODEL_e95207c309ca4d26b3b4f5cb4f847fbb"
          }
        },
        "dc6f25a1309548e6909f9bec34dd3b09": {
          "model_module": "@jupyter-widgets/controls",
          "model_name": "HTMLModel",
          "model_module_version": "1.5.0",
          "state": {
            "_dom_classes": [],
            "_model_module": "@jupyter-widgets/controls",
            "_model_module_version": "1.5.0",
            "_model_name": "HTMLModel",
            "_view_count": null,
            "_view_module": "@jupyter-widgets/controls",
            "_view_module_version": "1.5.0",
            "_view_name": "HTMLView",
            "description": "",
            "description_tooltip": null,
            "layout": "IPY_MODEL_0f2c58f1566a4b6384f669e164959451",
            "placeholder": "​",
            "style": "IPY_MODEL_ef94e305cd0b4531b93a720aafd61171",
            "value": "chat_template.json: 100%"
          }
        },
        "39ff1b1d928148719995d3998104cbec": {
          "model_module": "@jupyter-widgets/controls",
          "model_name": "FloatProgressModel",
          "model_module_version": "1.5.0",
          "state": {
            "_dom_classes": [],
            "_model_module": "@jupyter-widgets/controls",
            "_model_module_version": "1.5.0",
            "_model_name": "FloatProgressModel",
            "_view_count": null,
            "_view_module": "@jupyter-widgets/controls",
            "_view_module_version": "1.5.0",
            "_view_name": "ProgressView",
            "bar_style": "success",
            "description": "",
            "description_tooltip": null,
            "layout": "IPY_MODEL_3b0fabdecec2480bbfe025794f15ba5e",
            "max": 826,
            "min": 0,
            "orientation": "horizontal",
            "style": "IPY_MODEL_fbf91fceb81249f18e90fd1e043bb9cb",
            "value": 826
          }
        },
        "ff987a7ea13e480ab67d47fa8f1d0e37": {
          "model_module": "@jupyter-widgets/controls",
          "model_name": "HTMLModel",
          "model_module_version": "1.5.0",
          "state": {
            "_dom_classes": [],
            "_model_module": "@jupyter-widgets/controls",
            "_model_module_version": "1.5.0",
            "_model_name": "HTMLModel",
            "_view_count": null,
            "_view_module": "@jupyter-widgets/controls",
            "_view_module_version": "1.5.0",
            "_view_name": "HTMLView",
            "description": "",
            "description_tooltip": null,
            "layout": "IPY_MODEL_533c7a4d86a3402181eec1a4b73aa879",
            "placeholder": "​",
            "style": "IPY_MODEL_5d77d6883c1a47838468e539efbbb6d0",
            "value": " 826/826 [00:00&lt;00:00, 58.8kB/s]"
          }
        },
        "e95207c309ca4d26b3b4f5cb4f847fbb": {
          "model_module": "@jupyter-widgets/base",
          "model_name": "LayoutModel",
          "model_module_version": "1.2.0",
          "state": {
            "_model_module": "@jupyter-widgets/base",
            "_model_module_version": "1.2.0",
            "_model_name": "LayoutModel",
            "_view_count": null,
            "_view_module": "@jupyter-widgets/base",
            "_view_module_version": "1.2.0",
            "_view_name": "LayoutView",
            "align_content": null,
            "align_items": null,
            "align_self": null,
            "border": null,
            "bottom": null,
            "display": null,
            "flex": null,
            "flex_flow": null,
            "grid_area": null,
            "grid_auto_columns": null,
            "grid_auto_flow": null,
            "grid_auto_rows": null,
            "grid_column": null,
            "grid_gap": null,
            "grid_row": null,
            "grid_template_areas": null,
            "grid_template_columns": null,
            "grid_template_rows": null,
            "height": null,
            "justify_content": null,
            "justify_items": null,
            "left": null,
            "margin": null,
            "max_height": null,
            "max_width": null,
            "min_height": null,
            "min_width": null,
            "object_fit": null,
            "object_position": null,
            "order": null,
            "overflow": null,
            "overflow_x": null,
            "overflow_y": null,
            "padding": null,
            "right": null,
            "top": null,
            "visibility": null,
            "width": null
          }
        },
        "0f2c58f1566a4b6384f669e164959451": {
          "model_module": "@jupyter-widgets/base",
          "model_name": "LayoutModel",
          "model_module_version": "1.2.0",
          "state": {
            "_model_module": "@jupyter-widgets/base",
            "_model_module_version": "1.2.0",
            "_model_name": "LayoutModel",
            "_view_count": null,
            "_view_module": "@jupyter-widgets/base",
            "_view_module_version": "1.2.0",
            "_view_name": "LayoutView",
            "align_content": null,
            "align_items": null,
            "align_self": null,
            "border": null,
            "bottom": null,
            "display": null,
            "flex": null,
            "flex_flow": null,
            "grid_area": null,
            "grid_auto_columns": null,
            "grid_auto_flow": null,
            "grid_auto_rows": null,
            "grid_column": null,
            "grid_gap": null,
            "grid_row": null,
            "grid_template_areas": null,
            "grid_template_columns": null,
            "grid_template_rows": null,
            "height": null,
            "justify_content": null,
            "justify_items": null,
            "left": null,
            "margin": null,
            "max_height": null,
            "max_width": null,
            "min_height": null,
            "min_width": null,
            "object_fit": null,
            "object_position": null,
            "order": null,
            "overflow": null,
            "overflow_x": null,
            "overflow_y": null,
            "padding": null,
            "right": null,
            "top": null,
            "visibility": null,
            "width": null
          }
        },
        "ef94e305cd0b4531b93a720aafd61171": {
          "model_module": "@jupyter-widgets/controls",
          "model_name": "DescriptionStyleModel",
          "model_module_version": "1.5.0",
          "state": {
            "_model_module": "@jupyter-widgets/controls",
            "_model_module_version": "1.5.0",
            "_model_name": "DescriptionStyleModel",
            "_view_count": null,
            "_view_module": "@jupyter-widgets/base",
            "_view_module_version": "1.2.0",
            "_view_name": "StyleView",
            "description_width": ""
          }
        },
        "3b0fabdecec2480bbfe025794f15ba5e": {
          "model_module": "@jupyter-widgets/base",
          "model_name": "LayoutModel",
          "model_module_version": "1.2.0",
          "state": {
            "_model_module": "@jupyter-widgets/base",
            "_model_module_version": "1.2.0",
            "_model_name": "LayoutModel",
            "_view_count": null,
            "_view_module": "@jupyter-widgets/base",
            "_view_module_version": "1.2.0",
            "_view_name": "LayoutView",
            "align_content": null,
            "align_items": null,
            "align_self": null,
            "border": null,
            "bottom": null,
            "display": null,
            "flex": null,
            "flex_flow": null,
            "grid_area": null,
            "grid_auto_columns": null,
            "grid_auto_flow": null,
            "grid_auto_rows": null,
            "grid_column": null,
            "grid_gap": null,
            "grid_row": null,
            "grid_template_areas": null,
            "grid_template_columns": null,
            "grid_template_rows": null,
            "height": null,
            "justify_content": null,
            "justify_items": null,
            "left": null,
            "margin": null,
            "max_height": null,
            "max_width": null,
            "min_height": null,
            "min_width": null,
            "object_fit": null,
            "object_position": null,
            "order": null,
            "overflow": null,
            "overflow_x": null,
            "overflow_y": null,
            "padding": null,
            "right": null,
            "top": null,
            "visibility": null,
            "width": null
          }
        },
        "fbf91fceb81249f18e90fd1e043bb9cb": {
          "model_module": "@jupyter-widgets/controls",
          "model_name": "ProgressStyleModel",
          "model_module_version": "1.5.0",
          "state": {
            "_model_module": "@jupyter-widgets/controls",
            "_model_module_version": "1.5.0",
            "_model_name": "ProgressStyleModel",
            "_view_count": null,
            "_view_module": "@jupyter-widgets/base",
            "_view_module_version": "1.2.0",
            "_view_name": "StyleView",
            "bar_color": null,
            "description_width": ""
          }
        },
        "533c7a4d86a3402181eec1a4b73aa879": {
          "model_module": "@jupyter-widgets/base",
          "model_name": "LayoutModel",
          "model_module_version": "1.2.0",
          "state": {
            "_model_module": "@jupyter-widgets/base",
            "_model_module_version": "1.2.0",
            "_model_name": "LayoutModel",
            "_view_count": null,
            "_view_module": "@jupyter-widgets/base",
            "_view_module_version": "1.2.0",
            "_view_name": "LayoutView",
            "align_content": null,
            "align_items": null,
            "align_self": null,
            "border": null,
            "bottom": null,
            "display": null,
            "flex": null,
            "flex_flow": null,
            "grid_area": null,
            "grid_auto_columns": null,
            "grid_auto_flow": null,
            "grid_auto_rows": null,
            "grid_column": null,
            "grid_gap": null,
            "grid_row": null,
            "grid_template_areas": null,
            "grid_template_columns": null,
            "grid_template_rows": null,
            "height": null,
            "justify_content": null,
            "justify_items": null,
            "left": null,
            "margin": null,
            "max_height": null,
            "max_width": null,
            "min_height": null,
            "min_width": null,
            "object_fit": null,
            "object_position": null,
            "order": null,
            "overflow": null,
            "overflow_x": null,
            "overflow_y": null,
            "padding": null,
            "right": null,
            "top": null,
            "visibility": null,
            "width": null
          }
        },
        "5d77d6883c1a47838468e539efbbb6d0": {
          "model_module": "@jupyter-widgets/controls",
          "model_name": "DescriptionStyleModel",
          "model_module_version": "1.5.0",
          "state": {
            "_model_module": "@jupyter-widgets/controls",
            "_model_module_version": "1.5.0",
            "_model_name": "DescriptionStyleModel",
            "_view_count": null,
            "_view_module": "@jupyter-widgets/base",
            "_view_module_version": "1.2.0",
            "_view_name": "StyleView",
            "description_width": ""
          }
        },
        "e2069858d1cb4cbc87144e1ede0a51a9": {
          "model_module": "@jupyter-widgets/controls",
          "model_name": "HBoxModel",
          "model_module_version": "1.5.0",
          "state": {
            "_dom_classes": [],
            "_model_module": "@jupyter-widgets/controls",
            "_model_module_version": "1.5.0",
            "_model_name": "HBoxModel",
            "_view_count": null,
            "_view_module": "@jupyter-widgets/controls",
            "_view_module_version": "1.5.0",
            "_view_name": "HBoxView",
            "box_style": "",
            "children": [
              "IPY_MODEL_fb85801c638f485db07a4aebd29f28bd",
              "IPY_MODEL_7f6eb3e9299446588b9773a8c0486681",
              "IPY_MODEL_5705394e01004c0e8f6f05fa230592b1"
            ],
            "layout": "IPY_MODEL_ca9ab69206484c9da734a05f21b01eb3"
          }
        },
        "fb85801c638f485db07a4aebd29f28bd": {
          "model_module": "@jupyter-widgets/controls",
          "model_name": "HTMLModel",
          "model_module_version": "1.5.0",
          "state": {
            "_dom_classes": [],
            "_model_module": "@jupyter-widgets/controls",
            "_model_module_version": "1.5.0",
            "_model_name": "HTMLModel",
            "_view_count": null,
            "_view_module": "@jupyter-widgets/controls",
            "_view_module_version": "1.5.0",
            "_view_name": "HTMLView",
            "description": "",
            "description_tooltip": null,
            "layout": "IPY_MODEL_df07e6fba83f4e85bd5cb942afc63994",
            "placeholder": "​",
            "style": "IPY_MODEL_9c925c6bf81043618e5671ca19f3ecab",
            "value": "preprocessor_config.json: 100%"
          }
        },
        "7f6eb3e9299446588b9773a8c0486681": {
          "model_module": "@jupyter-widgets/controls",
          "model_name": "FloatProgressModel",
          "model_module_version": "1.5.0",
          "state": {
            "_dom_classes": [],
            "_model_module": "@jupyter-widgets/controls",
            "_model_module_version": "1.5.0",
            "_model_name": "FloatProgressModel",
            "_view_count": null,
            "_view_module": "@jupyter-widgets/controls",
            "_view_module_version": "1.5.0",
            "_view_name": "ProgressView",
            "bar_style": "success",
            "description": "",
            "description_tooltip": null,
            "layout": "IPY_MODEL_f8cc5b4e4bc048a2a47aed31e26ef40b",
            "max": 1732,
            "min": 0,
            "orientation": "horizontal",
            "style": "IPY_MODEL_7e1a85eaa35543619b4afee07ea95ab9",
            "value": 1732
          }
        },
        "5705394e01004c0e8f6f05fa230592b1": {
          "model_module": "@jupyter-widgets/controls",
          "model_name": "HTMLModel",
          "model_module_version": "1.5.0",
          "state": {
            "_dom_classes": [],
            "_model_module": "@jupyter-widgets/controls",
            "_model_module_version": "1.5.0",
            "_model_name": "HTMLModel",
            "_view_count": null,
            "_view_module": "@jupyter-widgets/controls",
            "_view_module_version": "1.5.0",
            "_view_name": "HTMLView",
            "description": "",
            "description_tooltip": null,
            "layout": "IPY_MODEL_1f7fdf1dbd3f4be3a34ed2c02304a684",
            "placeholder": "​",
            "style": "IPY_MODEL_937bd0d1125d44cc96a31436d9a2fa5a",
            "value": " 1.73k/1.73k [00:00&lt;00:00, 131kB/s]"
          }
        },
        "ca9ab69206484c9da734a05f21b01eb3": {
          "model_module": "@jupyter-widgets/base",
          "model_name": "LayoutModel",
          "model_module_version": "1.2.0",
          "state": {
            "_model_module": "@jupyter-widgets/base",
            "_model_module_version": "1.2.0",
            "_model_name": "LayoutModel",
            "_view_count": null,
            "_view_module": "@jupyter-widgets/base",
            "_view_module_version": "1.2.0",
            "_view_name": "LayoutView",
            "align_content": null,
            "align_items": null,
            "align_self": null,
            "border": null,
            "bottom": null,
            "display": null,
            "flex": null,
            "flex_flow": null,
            "grid_area": null,
            "grid_auto_columns": null,
            "grid_auto_flow": null,
            "grid_auto_rows": null,
            "grid_column": null,
            "grid_gap": null,
            "grid_row": null,
            "grid_template_areas": null,
            "grid_template_columns": null,
            "grid_template_rows": null,
            "height": null,
            "justify_content": null,
            "justify_items": null,
            "left": null,
            "margin": null,
            "max_height": null,
            "max_width": null,
            "min_height": null,
            "min_width": null,
            "object_fit": null,
            "object_position": null,
            "order": null,
            "overflow": null,
            "overflow_x": null,
            "overflow_y": null,
            "padding": null,
            "right": null,
            "top": null,
            "visibility": null,
            "width": null
          }
        },
        "df07e6fba83f4e85bd5cb942afc63994": {
          "model_module": "@jupyter-widgets/base",
          "model_name": "LayoutModel",
          "model_module_version": "1.2.0",
          "state": {
            "_model_module": "@jupyter-widgets/base",
            "_model_module_version": "1.2.0",
            "_model_name": "LayoutModel",
            "_view_count": null,
            "_view_module": "@jupyter-widgets/base",
            "_view_module_version": "1.2.0",
            "_view_name": "LayoutView",
            "align_content": null,
            "align_items": null,
            "align_self": null,
            "border": null,
            "bottom": null,
            "display": null,
            "flex": null,
            "flex_flow": null,
            "grid_area": null,
            "grid_auto_columns": null,
            "grid_auto_flow": null,
            "grid_auto_rows": null,
            "grid_column": null,
            "grid_gap": null,
            "grid_row": null,
            "grid_template_areas": null,
            "grid_template_columns": null,
            "grid_template_rows": null,
            "height": null,
            "justify_content": null,
            "justify_items": null,
            "left": null,
            "margin": null,
            "max_height": null,
            "max_width": null,
            "min_height": null,
            "min_width": null,
            "object_fit": null,
            "object_position": null,
            "order": null,
            "overflow": null,
            "overflow_x": null,
            "overflow_y": null,
            "padding": null,
            "right": null,
            "top": null,
            "visibility": null,
            "width": null
          }
        },
        "9c925c6bf81043618e5671ca19f3ecab": {
          "model_module": "@jupyter-widgets/controls",
          "model_name": "DescriptionStyleModel",
          "model_module_version": "1.5.0",
          "state": {
            "_model_module": "@jupyter-widgets/controls",
            "_model_module_version": "1.5.0",
            "_model_name": "DescriptionStyleModel",
            "_view_count": null,
            "_view_module": "@jupyter-widgets/base",
            "_view_module_version": "1.2.0",
            "_view_name": "StyleView",
            "description_width": ""
          }
        },
        "f8cc5b4e4bc048a2a47aed31e26ef40b": {
          "model_module": "@jupyter-widgets/base",
          "model_name": "LayoutModel",
          "model_module_version": "1.2.0",
          "state": {
            "_model_module": "@jupyter-widgets/base",
            "_model_module_version": "1.2.0",
            "_model_name": "LayoutModel",
            "_view_count": null,
            "_view_module": "@jupyter-widgets/base",
            "_view_module_version": "1.2.0",
            "_view_name": "LayoutView",
            "align_content": null,
            "align_items": null,
            "align_self": null,
            "border": null,
            "bottom": null,
            "display": null,
            "flex": null,
            "flex_flow": null,
            "grid_area": null,
            "grid_auto_columns": null,
            "grid_auto_flow": null,
            "grid_auto_rows": null,
            "grid_column": null,
            "grid_gap": null,
            "grid_row": null,
            "grid_template_areas": null,
            "grid_template_columns": null,
            "grid_template_rows": null,
            "height": null,
            "justify_content": null,
            "justify_items": null,
            "left": null,
            "margin": null,
            "max_height": null,
            "max_width": null,
            "min_height": null,
            "min_width": null,
            "object_fit": null,
            "object_position": null,
            "order": null,
            "overflow": null,
            "overflow_x": null,
            "overflow_y": null,
            "padding": null,
            "right": null,
            "top": null,
            "visibility": null,
            "width": null
          }
        },
        "7e1a85eaa35543619b4afee07ea95ab9": {
          "model_module": "@jupyter-widgets/controls",
          "model_name": "ProgressStyleModel",
          "model_module_version": "1.5.0",
          "state": {
            "_model_module": "@jupyter-widgets/controls",
            "_model_module_version": "1.5.0",
            "_model_name": "ProgressStyleModel",
            "_view_count": null,
            "_view_module": "@jupyter-widgets/base",
            "_view_module_version": "1.2.0",
            "_view_name": "StyleView",
            "bar_color": null,
            "description_width": ""
          }
        },
        "1f7fdf1dbd3f4be3a34ed2c02304a684": {
          "model_module": "@jupyter-widgets/base",
          "model_name": "LayoutModel",
          "model_module_version": "1.2.0",
          "state": {
            "_model_module": "@jupyter-widgets/base",
            "_model_module_version": "1.2.0",
            "_model_name": "LayoutModel",
            "_view_count": null,
            "_view_module": "@jupyter-widgets/base",
            "_view_module_version": "1.2.0",
            "_view_name": "LayoutView",
            "align_content": null,
            "align_items": null,
            "align_self": null,
            "border": null,
            "bottom": null,
            "display": null,
            "flex": null,
            "flex_flow": null,
            "grid_area": null,
            "grid_auto_columns": null,
            "grid_auto_flow": null,
            "grid_auto_rows": null,
            "grid_column": null,
            "grid_gap": null,
            "grid_row": null,
            "grid_template_areas": null,
            "grid_template_columns": null,
            "grid_template_rows": null,
            "height": null,
            "justify_content": null,
            "justify_items": null,
            "left": null,
            "margin": null,
            "max_height": null,
            "max_width": null,
            "min_height": null,
            "min_width": null,
            "object_fit": null,
            "object_position": null,
            "order": null,
            "overflow": null,
            "overflow_x": null,
            "overflow_y": null,
            "padding": null,
            "right": null,
            "top": null,
            "visibility": null,
            "width": null
          }
        },
        "937bd0d1125d44cc96a31436d9a2fa5a": {
          "model_module": "@jupyter-widgets/controls",
          "model_name": "DescriptionStyleModel",
          "model_module_version": "1.5.0",
          "state": {
            "_model_module": "@jupyter-widgets/controls",
            "_model_module_version": "1.5.0",
            "_model_name": "DescriptionStyleModel",
            "_view_count": null,
            "_view_module": "@jupyter-widgets/base",
            "_view_module_version": "1.2.0",
            "_view_name": "StyleView",
            "description_width": ""
          }
        },
        "34569926ffc14857924acd5d95782689": {
          "model_module": "@jupyter-widgets/controls",
          "model_name": "HBoxModel",
          "model_module_version": "1.5.0",
          "state": {
            "_dom_classes": [],
            "_model_module": "@jupyter-widgets/controls",
            "_model_module_version": "1.5.0",
            "_model_name": "HBoxModel",
            "_view_count": null,
            "_view_module": "@jupyter-widgets/controls",
            "_view_module_version": "1.5.0",
            "_view_name": "HBoxView",
            "box_style": "",
            "children": [
              "IPY_MODEL_6697b681c2d6480899d8202e70acb9bf",
              "IPY_MODEL_6fbfd94911494ddc8eab99b5597ed30e",
              "IPY_MODEL_64bb09a932b6480abc919efeab8cbc36"
            ],
            "layout": "IPY_MODEL_29e3372267d741c990f104e350795855"
          }
        },
        "6697b681c2d6480899d8202e70acb9bf": {
          "model_module": "@jupyter-widgets/controls",
          "model_name": "HTMLModel",
          "model_module_version": "1.5.0",
          "state": {
            "_dom_classes": [],
            "_model_module": "@jupyter-widgets/controls",
            "_model_module_version": "1.5.0",
            "_model_name": "HTMLModel",
            "_view_count": null,
            "_view_module": "@jupyter-widgets/controls",
            "_view_module_version": "1.5.0",
            "_view_name": "HTMLView",
            "description": "",
            "description_tooltip": null,
            "layout": "IPY_MODEL_8147a642c8954127be4cdb4d2ac7377a",
            "placeholder": "​",
            "style": "IPY_MODEL_ff47c6a28c334d14829043d44de61f29",
            "value": "tokenizer_config.json: 100%"
          }
        },
        "6fbfd94911494ddc8eab99b5597ed30e": {
          "model_module": "@jupyter-widgets/controls",
          "model_name": "FloatProgressModel",
          "model_module_version": "1.5.0",
          "state": {
            "_dom_classes": [],
            "_model_module": "@jupyter-widgets/controls",
            "_model_module_version": "1.5.0",
            "_model_name": "FloatProgressModel",
            "_view_count": null,
            "_view_module": "@jupyter-widgets/controls",
            "_view_module_version": "1.5.0",
            "_view_name": "ProgressView",
            "bar_style": "success",
            "description": "",
            "description_tooltip": null,
            "layout": "IPY_MODEL_bf505a8a2ae94a78ac030000ec065e2b",
            "max": 1800,
            "min": 0,
            "orientation": "horizontal",
            "style": "IPY_MODEL_092cdb649eb144229c71dad39196a359",
            "value": 1800
          }
        },
        "64bb09a932b6480abc919efeab8cbc36": {
          "model_module": "@jupyter-widgets/controls",
          "model_name": "HTMLModel",
          "model_module_version": "1.5.0",
          "state": {
            "_dom_classes": [],
            "_model_module": "@jupyter-widgets/controls",
            "_model_module_version": "1.5.0",
            "_model_name": "HTMLModel",
            "_view_count": null,
            "_view_module": "@jupyter-widgets/controls",
            "_view_module_version": "1.5.0",
            "_view_name": "HTMLView",
            "description": "",
            "description_tooltip": null,
            "layout": "IPY_MODEL_5b3f13f5763149deb9c22a355b24ed4a",
            "placeholder": "​",
            "style": "IPY_MODEL_7264e4dc5a7e4f6798550703535135d1",
            "value": " 1.80k/1.80k [00:00&lt;00:00, 139kB/s]"
          }
        },
        "29e3372267d741c990f104e350795855": {
          "model_module": "@jupyter-widgets/base",
          "model_name": "LayoutModel",
          "model_module_version": "1.2.0",
          "state": {
            "_model_module": "@jupyter-widgets/base",
            "_model_module_version": "1.2.0",
            "_model_name": "LayoutModel",
            "_view_count": null,
            "_view_module": "@jupyter-widgets/base",
            "_view_module_version": "1.2.0",
            "_view_name": "LayoutView",
            "align_content": null,
            "align_items": null,
            "align_self": null,
            "border": null,
            "bottom": null,
            "display": null,
            "flex": null,
            "flex_flow": null,
            "grid_area": null,
            "grid_auto_columns": null,
            "grid_auto_flow": null,
            "grid_auto_rows": null,
            "grid_column": null,
            "grid_gap": null,
            "grid_row": null,
            "grid_template_areas": null,
            "grid_template_columns": null,
            "grid_template_rows": null,
            "height": null,
            "justify_content": null,
            "justify_items": null,
            "left": null,
            "margin": null,
            "max_height": null,
            "max_width": null,
            "min_height": null,
            "min_width": null,
            "object_fit": null,
            "object_position": null,
            "order": null,
            "overflow": null,
            "overflow_x": null,
            "overflow_y": null,
            "padding": null,
            "right": null,
            "top": null,
            "visibility": null,
            "width": null
          }
        },
        "8147a642c8954127be4cdb4d2ac7377a": {
          "model_module": "@jupyter-widgets/base",
          "model_name": "LayoutModel",
          "model_module_version": "1.2.0",
          "state": {
            "_model_module": "@jupyter-widgets/base",
            "_model_module_version": "1.2.0",
            "_model_name": "LayoutModel",
            "_view_count": null,
            "_view_module": "@jupyter-widgets/base",
            "_view_module_version": "1.2.0",
            "_view_name": "LayoutView",
            "align_content": null,
            "align_items": null,
            "align_self": null,
            "border": null,
            "bottom": null,
            "display": null,
            "flex": null,
            "flex_flow": null,
            "grid_area": null,
            "grid_auto_columns": null,
            "grid_auto_flow": null,
            "grid_auto_rows": null,
            "grid_column": null,
            "grid_gap": null,
            "grid_row": null,
            "grid_template_areas": null,
            "grid_template_columns": null,
            "grid_template_rows": null,
            "height": null,
            "justify_content": null,
            "justify_items": null,
            "left": null,
            "margin": null,
            "max_height": null,
            "max_width": null,
            "min_height": null,
            "min_width": null,
            "object_fit": null,
            "object_position": null,
            "order": null,
            "overflow": null,
            "overflow_x": null,
            "overflow_y": null,
            "padding": null,
            "right": null,
            "top": null,
            "visibility": null,
            "width": null
          }
        },
        "ff47c6a28c334d14829043d44de61f29": {
          "model_module": "@jupyter-widgets/controls",
          "model_name": "DescriptionStyleModel",
          "model_module_version": "1.5.0",
          "state": {
            "_model_module": "@jupyter-widgets/controls",
            "_model_module_version": "1.5.0",
            "_model_name": "DescriptionStyleModel",
            "_view_count": null,
            "_view_module": "@jupyter-widgets/base",
            "_view_module_version": "1.2.0",
            "_view_name": "StyleView",
            "description_width": ""
          }
        },
        "bf505a8a2ae94a78ac030000ec065e2b": {
          "model_module": "@jupyter-widgets/base",
          "model_name": "LayoutModel",
          "model_module_version": "1.2.0",
          "state": {
            "_model_module": "@jupyter-widgets/base",
            "_model_module_version": "1.2.0",
            "_model_name": "LayoutModel",
            "_view_count": null,
            "_view_module": "@jupyter-widgets/base",
            "_view_module_version": "1.2.0",
            "_view_name": "LayoutView",
            "align_content": null,
            "align_items": null,
            "align_self": null,
            "border": null,
            "bottom": null,
            "display": null,
            "flex": null,
            "flex_flow": null,
            "grid_area": null,
            "grid_auto_columns": null,
            "grid_auto_flow": null,
            "grid_auto_rows": null,
            "grid_column": null,
            "grid_gap": null,
            "grid_row": null,
            "grid_template_areas": null,
            "grid_template_columns": null,
            "grid_template_rows": null,
            "height": null,
            "justify_content": null,
            "justify_items": null,
            "left": null,
            "margin": null,
            "max_height": null,
            "max_width": null,
            "min_height": null,
            "min_width": null,
            "object_fit": null,
            "object_position": null,
            "order": null,
            "overflow": null,
            "overflow_x": null,
            "overflow_y": null,
            "padding": null,
            "right": null,
            "top": null,
            "visibility": null,
            "width": null
          }
        },
        "092cdb649eb144229c71dad39196a359": {
          "model_module": "@jupyter-widgets/controls",
          "model_name": "ProgressStyleModel",
          "model_module_version": "1.5.0",
          "state": {
            "_model_module": "@jupyter-widgets/controls",
            "_model_module_version": "1.5.0",
            "_model_name": "ProgressStyleModel",
            "_view_count": null,
            "_view_module": "@jupyter-widgets/base",
            "_view_module_version": "1.2.0",
            "_view_name": "StyleView",
            "bar_color": null,
            "description_width": ""
          }
        },
        "5b3f13f5763149deb9c22a355b24ed4a": {
          "model_module": "@jupyter-widgets/base",
          "model_name": "LayoutModel",
          "model_module_version": "1.2.0",
          "state": {
            "_model_module": "@jupyter-widgets/base",
            "_model_module_version": "1.2.0",
            "_model_name": "LayoutModel",
            "_view_count": null,
            "_view_module": "@jupyter-widgets/base",
            "_view_module_version": "1.2.0",
            "_view_name": "LayoutView",
            "align_content": null,
            "align_items": null,
            "align_self": null,
            "border": null,
            "bottom": null,
            "display": null,
            "flex": null,
            "flex_flow": null,
            "grid_area": null,
            "grid_auto_columns": null,
            "grid_auto_flow": null,
            "grid_auto_rows": null,
            "grid_column": null,
            "grid_gap": null,
            "grid_row": null,
            "grid_template_areas": null,
            "grid_template_columns": null,
            "grid_template_rows": null,
            "height": null,
            "justify_content": null,
            "justify_items": null,
            "left": null,
            "margin": null,
            "max_height": null,
            "max_width": null,
            "min_height": null,
            "min_width": null,
            "object_fit": null,
            "object_position": null,
            "order": null,
            "overflow": null,
            "overflow_x": null,
            "overflow_y": null,
            "padding": null,
            "right": null,
            "top": null,
            "visibility": null,
            "width": null
          }
        },
        "7264e4dc5a7e4f6798550703535135d1": {
          "model_module": "@jupyter-widgets/controls",
          "model_name": "DescriptionStyleModel",
          "model_module_version": "1.5.0",
          "state": {
            "_model_module": "@jupyter-widgets/controls",
            "_model_module_version": "1.5.0",
            "_model_name": "DescriptionStyleModel",
            "_view_count": null,
            "_view_module": "@jupyter-widgets/base",
            "_view_module_version": "1.2.0",
            "_view_name": "StyleView",
            "description_width": ""
          }
        },
        "7802a44b405f4aeb82bd6c9bf37c83ac": {
          "model_module": "@jupyter-widgets/controls",
          "model_name": "HBoxModel",
          "model_module_version": "1.5.0",
          "state": {
            "_dom_classes": [],
            "_model_module": "@jupyter-widgets/controls",
            "_model_module_version": "1.5.0",
            "_model_name": "HBoxModel",
            "_view_count": null,
            "_view_module": "@jupyter-widgets/controls",
            "_view_module_version": "1.5.0",
            "_view_name": "HBoxView",
            "box_style": "",
            "children": [
              "IPY_MODEL_9e8389082d4c495792d92f84e14a02ae",
              "IPY_MODEL_fa6d7aef2af24d8cb926a849f28d1a5d",
              "IPY_MODEL_b108dc0bd77c46e79dbd05de4b95cfc6"
            ],
            "layout": "IPY_MODEL_1ecebd0d4f8d4519980c7e7050503bc5"
          }
        },
        "9e8389082d4c495792d92f84e14a02ae": {
          "model_module": "@jupyter-widgets/controls",
          "model_name": "HTMLModel",
          "model_module_version": "1.5.0",
          "state": {
            "_dom_classes": [],
            "_model_module": "@jupyter-widgets/controls",
            "_model_module_version": "1.5.0",
            "_model_name": "HTMLModel",
            "_view_count": null,
            "_view_module": "@jupyter-widgets/controls",
            "_view_module_version": "1.5.0",
            "_view_name": "HTMLView",
            "description": "",
            "description_tooltip": null,
            "layout": "IPY_MODEL_19b84519eda84d6da0cb647a7900c46d",
            "placeholder": "​",
            "style": "IPY_MODEL_48c25cb563cd4d2e8a398878634fa673",
            "value": "vocab.json: 100%"
          }
        },
        "fa6d7aef2af24d8cb926a849f28d1a5d": {
          "model_module": "@jupyter-widgets/controls",
          "model_name": "FloatProgressModel",
          "model_module_version": "1.5.0",
          "state": {
            "_dom_classes": [],
            "_model_module": "@jupyter-widgets/controls",
            "_model_module_version": "1.5.0",
            "_model_name": "FloatProgressModel",
            "_view_count": null,
            "_view_module": "@jupyter-widgets/controls",
            "_view_module_version": "1.5.0",
            "_view_name": "ProgressView",
            "bar_style": "success",
            "description": "",
            "description_tooltip": null,
            "layout": "IPY_MODEL_436e5881cd154473ac889d79c40ea9fb",
            "max": 2776833,
            "min": 0,
            "orientation": "horizontal",
            "style": "IPY_MODEL_bcd263ef56c94b8396f5ea54c0a97e75",
            "value": 2776833
          }
        },
        "b108dc0bd77c46e79dbd05de4b95cfc6": {
          "model_module": "@jupyter-widgets/controls",
          "model_name": "HTMLModel",
          "model_module_version": "1.5.0",
          "state": {
            "_dom_classes": [],
            "_model_module": "@jupyter-widgets/controls",
            "_model_module_version": "1.5.0",
            "_model_name": "HTMLModel",
            "_view_count": null,
            "_view_module": "@jupyter-widgets/controls",
            "_view_module_version": "1.5.0",
            "_view_name": "HTMLView",
            "description": "",
            "description_tooltip": null,
            "layout": "IPY_MODEL_95221d04a2d34fc6a6b0df5dd83b70b5",
            "placeholder": "​",
            "style": "IPY_MODEL_1ce1f8c932a3409887ffa9e3ea434304",
            "value": " 2.78M/2.78M [00:00&lt;00:00, 14.3MB/s]"
          }
        },
        "1ecebd0d4f8d4519980c7e7050503bc5": {
          "model_module": "@jupyter-widgets/base",
          "model_name": "LayoutModel",
          "model_module_version": "1.2.0",
          "state": {
            "_model_module": "@jupyter-widgets/base",
            "_model_module_version": "1.2.0",
            "_model_name": "LayoutModel",
            "_view_count": null,
            "_view_module": "@jupyter-widgets/base",
            "_view_module_version": "1.2.0",
            "_view_name": "LayoutView",
            "align_content": null,
            "align_items": null,
            "align_self": null,
            "border": null,
            "bottom": null,
            "display": null,
            "flex": null,
            "flex_flow": null,
            "grid_area": null,
            "grid_auto_columns": null,
            "grid_auto_flow": null,
            "grid_auto_rows": null,
            "grid_column": null,
            "grid_gap": null,
            "grid_row": null,
            "grid_template_areas": null,
            "grid_template_columns": null,
            "grid_template_rows": null,
            "height": null,
            "justify_content": null,
            "justify_items": null,
            "left": null,
            "margin": null,
            "max_height": null,
            "max_width": null,
            "min_height": null,
            "min_width": null,
            "object_fit": null,
            "object_position": null,
            "order": null,
            "overflow": null,
            "overflow_x": null,
            "overflow_y": null,
            "padding": null,
            "right": null,
            "top": null,
            "visibility": null,
            "width": null
          }
        },
        "19b84519eda84d6da0cb647a7900c46d": {
          "model_module": "@jupyter-widgets/base",
          "model_name": "LayoutModel",
          "model_module_version": "1.2.0",
          "state": {
            "_model_module": "@jupyter-widgets/base",
            "_model_module_version": "1.2.0",
            "_model_name": "LayoutModel",
            "_view_count": null,
            "_view_module": "@jupyter-widgets/base",
            "_view_module_version": "1.2.0",
            "_view_name": "LayoutView",
            "align_content": null,
            "align_items": null,
            "align_self": null,
            "border": null,
            "bottom": null,
            "display": null,
            "flex": null,
            "flex_flow": null,
            "grid_area": null,
            "grid_auto_columns": null,
            "grid_auto_flow": null,
            "grid_auto_rows": null,
            "grid_column": null,
            "grid_gap": null,
            "grid_row": null,
            "grid_template_areas": null,
            "grid_template_columns": null,
            "grid_template_rows": null,
            "height": null,
            "justify_content": null,
            "justify_items": null,
            "left": null,
            "margin": null,
            "max_height": null,
            "max_width": null,
            "min_height": null,
            "min_width": null,
            "object_fit": null,
            "object_position": null,
            "order": null,
            "overflow": null,
            "overflow_x": null,
            "overflow_y": null,
            "padding": null,
            "right": null,
            "top": null,
            "visibility": null,
            "width": null
          }
        },
        "48c25cb563cd4d2e8a398878634fa673": {
          "model_module": "@jupyter-widgets/controls",
          "model_name": "DescriptionStyleModel",
          "model_module_version": "1.5.0",
          "state": {
            "_model_module": "@jupyter-widgets/controls",
            "_model_module_version": "1.5.0",
            "_model_name": "DescriptionStyleModel",
            "_view_count": null,
            "_view_module": "@jupyter-widgets/base",
            "_view_module_version": "1.2.0",
            "_view_name": "StyleView",
            "description_width": ""
          }
        },
        "436e5881cd154473ac889d79c40ea9fb": {
          "model_module": "@jupyter-widgets/base",
          "model_name": "LayoutModel",
          "model_module_version": "1.2.0",
          "state": {
            "_model_module": "@jupyter-widgets/base",
            "_model_module_version": "1.2.0",
            "_model_name": "LayoutModel",
            "_view_count": null,
            "_view_module": "@jupyter-widgets/base",
            "_view_module_version": "1.2.0",
            "_view_name": "LayoutView",
            "align_content": null,
            "align_items": null,
            "align_self": null,
            "border": null,
            "bottom": null,
            "display": null,
            "flex": null,
            "flex_flow": null,
            "grid_area": null,
            "grid_auto_columns": null,
            "grid_auto_flow": null,
            "grid_auto_rows": null,
            "grid_column": null,
            "grid_gap": null,
            "grid_row": null,
            "grid_template_areas": null,
            "grid_template_columns": null,
            "grid_template_rows": null,
            "height": null,
            "justify_content": null,
            "justify_items": null,
            "left": null,
            "margin": null,
            "max_height": null,
            "max_width": null,
            "min_height": null,
            "min_width": null,
            "object_fit": null,
            "object_position": null,
            "order": null,
            "overflow": null,
            "overflow_x": null,
            "overflow_y": null,
            "padding": null,
            "right": null,
            "top": null,
            "visibility": null,
            "width": null
          }
        },
        "bcd263ef56c94b8396f5ea54c0a97e75": {
          "model_module": "@jupyter-widgets/controls",
          "model_name": "ProgressStyleModel",
          "model_module_version": "1.5.0",
          "state": {
            "_model_module": "@jupyter-widgets/controls",
            "_model_module_version": "1.5.0",
            "_model_name": "ProgressStyleModel",
            "_view_count": null,
            "_view_module": "@jupyter-widgets/base",
            "_view_module_version": "1.2.0",
            "_view_name": "StyleView",
            "bar_color": null,
            "description_width": ""
          }
        },
        "95221d04a2d34fc6a6b0df5dd83b70b5": {
          "model_module": "@jupyter-widgets/base",
          "model_name": "LayoutModel",
          "model_module_version": "1.2.0",
          "state": {
            "_model_module": "@jupyter-widgets/base",
            "_model_module_version": "1.2.0",
            "_model_name": "LayoutModel",
            "_view_count": null,
            "_view_module": "@jupyter-widgets/base",
            "_view_module_version": "1.2.0",
            "_view_name": "LayoutView",
            "align_content": null,
            "align_items": null,
            "align_self": null,
            "border": null,
            "bottom": null,
            "display": null,
            "flex": null,
            "flex_flow": null,
            "grid_area": null,
            "grid_auto_columns": null,
            "grid_auto_flow": null,
            "grid_auto_rows": null,
            "grid_column": null,
            "grid_gap": null,
            "grid_row": null,
            "grid_template_areas": null,
            "grid_template_columns": null,
            "grid_template_rows": null,
            "height": null,
            "justify_content": null,
            "justify_items": null,
            "left": null,
            "margin": null,
            "max_height": null,
            "max_width": null,
            "min_height": null,
            "min_width": null,
            "object_fit": null,
            "object_position": null,
            "order": null,
            "overflow": null,
            "overflow_x": null,
            "overflow_y": null,
            "padding": null,
            "right": null,
            "top": null,
            "visibility": null,
            "width": null
          }
        },
        "1ce1f8c932a3409887ffa9e3ea434304": {
          "model_module": "@jupyter-widgets/controls",
          "model_name": "DescriptionStyleModel",
          "model_module_version": "1.5.0",
          "state": {
            "_model_module": "@jupyter-widgets/controls",
            "_model_module_version": "1.5.0",
            "_model_name": "DescriptionStyleModel",
            "_view_count": null,
            "_view_module": "@jupyter-widgets/base",
            "_view_module_version": "1.2.0",
            "_view_name": "StyleView",
            "description_width": ""
          }
        },
        "32cf9a588c1542f4b8d06d0051115cbd": {
          "model_module": "@jupyter-widgets/controls",
          "model_name": "HBoxModel",
          "model_module_version": "1.5.0",
          "state": {
            "_dom_classes": [],
            "_model_module": "@jupyter-widgets/controls",
            "_model_module_version": "1.5.0",
            "_model_name": "HBoxModel",
            "_view_count": null,
            "_view_module": "@jupyter-widgets/controls",
            "_view_module_version": "1.5.0",
            "_view_name": "HBoxView",
            "box_style": "",
            "children": [
              "IPY_MODEL_df9da99c86ba4b5697eed8915e2cbaf3",
              "IPY_MODEL_847db23b7b3c4d51bc92d3e3e281a30d",
              "IPY_MODEL_22c57f17ef504c1198eaab8baab51540"
            ],
            "layout": "IPY_MODEL_9c7d5ca12e0d49f7bdc31b391c63abab"
          }
        },
        "df9da99c86ba4b5697eed8915e2cbaf3": {
          "model_module": "@jupyter-widgets/controls",
          "model_name": "HTMLModel",
          "model_module_version": "1.5.0",
          "state": {
            "_dom_classes": [],
            "_model_module": "@jupyter-widgets/controls",
            "_model_module_version": "1.5.0",
            "_model_name": "HTMLModel",
            "_view_count": null,
            "_view_module": "@jupyter-widgets/controls",
            "_view_module_version": "1.5.0",
            "_view_name": "HTMLView",
            "description": "",
            "description_tooltip": null,
            "layout": "IPY_MODEL_a732cd1b22824a788617bd5debd4b9b4",
            "placeholder": "​",
            "style": "IPY_MODEL_c9a7ae3dc4824b6ea4a9a721c0d41dd4",
            "value": "merges.txt: 100%"
          }
        },
        "847db23b7b3c4d51bc92d3e3e281a30d": {
          "model_module": "@jupyter-widgets/controls",
          "model_name": "FloatProgressModel",
          "model_module_version": "1.5.0",
          "state": {
            "_dom_classes": [],
            "_model_module": "@jupyter-widgets/controls",
            "_model_module_version": "1.5.0",
            "_model_name": "FloatProgressModel",
            "_view_count": null,
            "_view_module": "@jupyter-widgets/controls",
            "_view_module_version": "1.5.0",
            "_view_name": "ProgressView",
            "bar_style": "success",
            "description": "",
            "description_tooltip": null,
            "layout": "IPY_MODEL_704106a01d8e4f6ab05a0a4bacab338b",
            "max": 1671853,
            "min": 0,
            "orientation": "horizontal",
            "style": "IPY_MODEL_959e27ce97044954bc7806d79efb26c2",
            "value": 1671853
          }
        },
        "22c57f17ef504c1198eaab8baab51540": {
          "model_module": "@jupyter-widgets/controls",
          "model_name": "HTMLModel",
          "model_module_version": "1.5.0",
          "state": {
            "_dom_classes": [],
            "_model_module": "@jupyter-widgets/controls",
            "_model_module_version": "1.5.0",
            "_model_name": "HTMLModel",
            "_view_count": null,
            "_view_module": "@jupyter-widgets/controls",
            "_view_module_version": "1.5.0",
            "_view_name": "HTMLView",
            "description": "",
            "description_tooltip": null,
            "layout": "IPY_MODEL_73f414c32e5f49769c0b681e8eb3771a",
            "placeholder": "​",
            "style": "IPY_MODEL_de991c5911d24e1fa2f1bb9edade8170",
            "value": " 1.67M/1.67M [00:00&lt;00:00, 20.4MB/s]"
          }
        },
        "9c7d5ca12e0d49f7bdc31b391c63abab": {
          "model_module": "@jupyter-widgets/base",
          "model_name": "LayoutModel",
          "model_module_version": "1.2.0",
          "state": {
            "_model_module": "@jupyter-widgets/base",
            "_model_module_version": "1.2.0",
            "_model_name": "LayoutModel",
            "_view_count": null,
            "_view_module": "@jupyter-widgets/base",
            "_view_module_version": "1.2.0",
            "_view_name": "LayoutView",
            "align_content": null,
            "align_items": null,
            "align_self": null,
            "border": null,
            "bottom": null,
            "display": null,
            "flex": null,
            "flex_flow": null,
            "grid_area": null,
            "grid_auto_columns": null,
            "grid_auto_flow": null,
            "grid_auto_rows": null,
            "grid_column": null,
            "grid_gap": null,
            "grid_row": null,
            "grid_template_areas": null,
            "grid_template_columns": null,
            "grid_template_rows": null,
            "height": null,
            "justify_content": null,
            "justify_items": null,
            "left": null,
            "margin": null,
            "max_height": null,
            "max_width": null,
            "min_height": null,
            "min_width": null,
            "object_fit": null,
            "object_position": null,
            "order": null,
            "overflow": null,
            "overflow_x": null,
            "overflow_y": null,
            "padding": null,
            "right": null,
            "top": null,
            "visibility": null,
            "width": null
          }
        },
        "a732cd1b22824a788617bd5debd4b9b4": {
          "model_module": "@jupyter-widgets/base",
          "model_name": "LayoutModel",
          "model_module_version": "1.2.0",
          "state": {
            "_model_module": "@jupyter-widgets/base",
            "_model_module_version": "1.2.0",
            "_model_name": "LayoutModel",
            "_view_count": null,
            "_view_module": "@jupyter-widgets/base",
            "_view_module_version": "1.2.0",
            "_view_name": "LayoutView",
            "align_content": null,
            "align_items": null,
            "align_self": null,
            "border": null,
            "bottom": null,
            "display": null,
            "flex": null,
            "flex_flow": null,
            "grid_area": null,
            "grid_auto_columns": null,
            "grid_auto_flow": null,
            "grid_auto_rows": null,
            "grid_column": null,
            "grid_gap": null,
            "grid_row": null,
            "grid_template_areas": null,
            "grid_template_columns": null,
            "grid_template_rows": null,
            "height": null,
            "justify_content": null,
            "justify_items": null,
            "left": null,
            "margin": null,
            "max_height": null,
            "max_width": null,
            "min_height": null,
            "min_width": null,
            "object_fit": null,
            "object_position": null,
            "order": null,
            "overflow": null,
            "overflow_x": null,
            "overflow_y": null,
            "padding": null,
            "right": null,
            "top": null,
            "visibility": null,
            "width": null
          }
        },
        "c9a7ae3dc4824b6ea4a9a721c0d41dd4": {
          "model_module": "@jupyter-widgets/controls",
          "model_name": "DescriptionStyleModel",
          "model_module_version": "1.5.0",
          "state": {
            "_model_module": "@jupyter-widgets/controls",
            "_model_module_version": "1.5.0",
            "_model_name": "DescriptionStyleModel",
            "_view_count": null,
            "_view_module": "@jupyter-widgets/base",
            "_view_module_version": "1.2.0",
            "_view_name": "StyleView",
            "description_width": ""
          }
        },
        "704106a01d8e4f6ab05a0a4bacab338b": {
          "model_module": "@jupyter-widgets/base",
          "model_name": "LayoutModel",
          "model_module_version": "1.2.0",
          "state": {
            "_model_module": "@jupyter-widgets/base",
            "_model_module_version": "1.2.0",
            "_model_name": "LayoutModel",
            "_view_count": null,
            "_view_module": "@jupyter-widgets/base",
            "_view_module_version": "1.2.0",
            "_view_name": "LayoutView",
            "align_content": null,
            "align_items": null,
            "align_self": null,
            "border": null,
            "bottom": null,
            "display": null,
            "flex": null,
            "flex_flow": null,
            "grid_area": null,
            "grid_auto_columns": null,
            "grid_auto_flow": null,
            "grid_auto_rows": null,
            "grid_column": null,
            "grid_gap": null,
            "grid_row": null,
            "grid_template_areas": null,
            "grid_template_columns": null,
            "grid_template_rows": null,
            "height": null,
            "justify_content": null,
            "justify_items": null,
            "left": null,
            "margin": null,
            "max_height": null,
            "max_width": null,
            "min_height": null,
            "min_width": null,
            "object_fit": null,
            "object_position": null,
            "order": null,
            "overflow": null,
            "overflow_x": null,
            "overflow_y": null,
            "padding": null,
            "right": null,
            "top": null,
            "visibility": null,
            "width": null
          }
        },
        "959e27ce97044954bc7806d79efb26c2": {
          "model_module": "@jupyter-widgets/controls",
          "model_name": "ProgressStyleModel",
          "model_module_version": "1.5.0",
          "state": {
            "_model_module": "@jupyter-widgets/controls",
            "_model_module_version": "1.5.0",
            "_model_name": "ProgressStyleModel",
            "_view_count": null,
            "_view_module": "@jupyter-widgets/base",
            "_view_module_version": "1.2.0",
            "_view_name": "StyleView",
            "bar_color": null,
            "description_width": ""
          }
        },
        "73f414c32e5f49769c0b681e8eb3771a": {
          "model_module": "@jupyter-widgets/base",
          "model_name": "LayoutModel",
          "model_module_version": "1.2.0",
          "state": {
            "_model_module": "@jupyter-widgets/base",
            "_model_module_version": "1.2.0",
            "_model_name": "LayoutModel",
            "_view_count": null,
            "_view_module": "@jupyter-widgets/base",
            "_view_module_version": "1.2.0",
            "_view_name": "LayoutView",
            "align_content": null,
            "align_items": null,
            "align_self": null,
            "border": null,
            "bottom": null,
            "display": null,
            "flex": null,
            "flex_flow": null,
            "grid_area": null,
            "grid_auto_columns": null,
            "grid_auto_flow": null,
            "grid_auto_rows": null,
            "grid_column": null,
            "grid_gap": null,
            "grid_row": null,
            "grid_template_areas": null,
            "grid_template_columns": null,
            "grid_template_rows": null,
            "height": null,
            "justify_content": null,
            "justify_items": null,
            "left": null,
            "margin": null,
            "max_height": null,
            "max_width": null,
            "min_height": null,
            "min_width": null,
            "object_fit": null,
            "object_position": null,
            "order": null,
            "overflow": null,
            "overflow_x": null,
            "overflow_y": null,
            "padding": null,
            "right": null,
            "top": null,
            "visibility": null,
            "width": null
          }
        },
        "de991c5911d24e1fa2f1bb9edade8170": {
          "model_module": "@jupyter-widgets/controls",
          "model_name": "DescriptionStyleModel",
          "model_module_version": "1.5.0",
          "state": {
            "_model_module": "@jupyter-widgets/controls",
            "_model_module_version": "1.5.0",
            "_model_name": "DescriptionStyleModel",
            "_view_count": null,
            "_view_module": "@jupyter-widgets/base",
            "_view_module_version": "1.2.0",
            "_view_name": "StyleView",
            "description_width": ""
          }
        },
        "d03f9380322d4f93889eac14bcae6762": {
          "model_module": "@jupyter-widgets/controls",
          "model_name": "HBoxModel",
          "model_module_version": "1.5.0",
          "state": {
            "_dom_classes": [],
            "_model_module": "@jupyter-widgets/controls",
            "_model_module_version": "1.5.0",
            "_model_name": "HBoxModel",
            "_view_count": null,
            "_view_module": "@jupyter-widgets/controls",
            "_view_module_version": "1.5.0",
            "_view_name": "HBoxView",
            "box_style": "",
            "children": [
              "IPY_MODEL_b467499eea5349439fbdccf46057e4ff",
              "IPY_MODEL_2721854974354035b17e1082c3e1de66",
              "IPY_MODEL_bb425dd8bc6e482790406ba51e487bcc"
            ],
            "layout": "IPY_MODEL_e10ad1870992420f9124940b6628b353"
          }
        },
        "b467499eea5349439fbdccf46057e4ff": {
          "model_module": "@jupyter-widgets/controls",
          "model_name": "HTMLModel",
          "model_module_version": "1.5.0",
          "state": {
            "_dom_classes": [],
            "_model_module": "@jupyter-widgets/controls",
            "_model_module_version": "1.5.0",
            "_model_name": "HTMLModel",
            "_view_count": null,
            "_view_module": "@jupyter-widgets/controls",
            "_view_module_version": "1.5.0",
            "_view_name": "HTMLView",
            "description": "",
            "description_tooltip": null,
            "layout": "IPY_MODEL_e7a63d1b274e4e74903443e7ce96f1ee",
            "placeholder": "​",
            "style": "IPY_MODEL_1c3125801365455cb099014b70eab01f",
            "value": "tokenizer.json: 100%"
          }
        },
        "2721854974354035b17e1082c3e1de66": {
          "model_module": "@jupyter-widgets/controls",
          "model_name": "FloatProgressModel",
          "model_module_version": "1.5.0",
          "state": {
            "_dom_classes": [],
            "_model_module": "@jupyter-widgets/controls",
            "_model_module_version": "1.5.0",
            "_model_name": "FloatProgressModel",
            "_view_count": null,
            "_view_module": "@jupyter-widgets/controls",
            "_view_module_version": "1.5.0",
            "_view_name": "ProgressView",
            "bar_style": "success",
            "description": "",
            "description_tooltip": null,
            "layout": "IPY_MODEL_e049cdf8e64645fc85ec44931fdde83b",
            "max": 7028579,
            "min": 0,
            "orientation": "horizontal",
            "style": "IPY_MODEL_9a083ed1f5cd4e2e834b00f6f1af97d2",
            "value": 7028579
          }
        },
        "bb425dd8bc6e482790406ba51e487bcc": {
          "model_module": "@jupyter-widgets/controls",
          "model_name": "HTMLModel",
          "model_module_version": "1.5.0",
          "state": {
            "_dom_classes": [],
            "_model_module": "@jupyter-widgets/controls",
            "_model_module_version": "1.5.0",
            "_model_name": "HTMLModel",
            "_view_count": null,
            "_view_module": "@jupyter-widgets/controls",
            "_view_module_version": "1.5.0",
            "_view_name": "HTMLView",
            "description": "",
            "description_tooltip": null,
            "layout": "IPY_MODEL_9dc2c950bbba40f2b034df8b9aa3437a",
            "placeholder": "​",
            "style": "IPY_MODEL_b416b5867a82417ea8e78916acea366f",
            "value": " 7.03M/7.03M [00:00&lt;00:00, 29.0MB/s]"
          }
        },
        "e10ad1870992420f9124940b6628b353": {
          "model_module": "@jupyter-widgets/base",
          "model_name": "LayoutModel",
          "model_module_version": "1.2.0",
          "state": {
            "_model_module": "@jupyter-widgets/base",
            "_model_module_version": "1.2.0",
            "_model_name": "LayoutModel",
            "_view_count": null,
            "_view_module": "@jupyter-widgets/base",
            "_view_module_version": "1.2.0",
            "_view_name": "LayoutView",
            "align_content": null,
            "align_items": null,
            "align_self": null,
            "border": null,
            "bottom": null,
            "display": null,
            "flex": null,
            "flex_flow": null,
            "grid_area": null,
            "grid_auto_columns": null,
            "grid_auto_flow": null,
            "grid_auto_rows": null,
            "grid_column": null,
            "grid_gap": null,
            "grid_row": null,
            "grid_template_areas": null,
            "grid_template_columns": null,
            "grid_template_rows": null,
            "height": null,
            "justify_content": null,
            "justify_items": null,
            "left": null,
            "margin": null,
            "max_height": null,
            "max_width": null,
            "min_height": null,
            "min_width": null,
            "object_fit": null,
            "object_position": null,
            "order": null,
            "overflow": null,
            "overflow_x": null,
            "overflow_y": null,
            "padding": null,
            "right": null,
            "top": null,
            "visibility": null,
            "width": null
          }
        },
        "e7a63d1b274e4e74903443e7ce96f1ee": {
          "model_module": "@jupyter-widgets/base",
          "model_name": "LayoutModel",
          "model_module_version": "1.2.0",
          "state": {
            "_model_module": "@jupyter-widgets/base",
            "_model_module_version": "1.2.0",
            "_model_name": "LayoutModel",
            "_view_count": null,
            "_view_module": "@jupyter-widgets/base",
            "_view_module_version": "1.2.0",
            "_view_name": "LayoutView",
            "align_content": null,
            "align_items": null,
            "align_self": null,
            "border": null,
            "bottom": null,
            "display": null,
            "flex": null,
            "flex_flow": null,
            "grid_area": null,
            "grid_auto_columns": null,
            "grid_auto_flow": null,
            "grid_auto_rows": null,
            "grid_column": null,
            "grid_gap": null,
            "grid_row": null,
            "grid_template_areas": null,
            "grid_template_columns": null,
            "grid_template_rows": null,
            "height": null,
            "justify_content": null,
            "justify_items": null,
            "left": null,
            "margin": null,
            "max_height": null,
            "max_width": null,
            "min_height": null,
            "min_width": null,
            "object_fit": null,
            "object_position": null,
            "order": null,
            "overflow": null,
            "overflow_x": null,
            "overflow_y": null,
            "padding": null,
            "right": null,
            "top": null,
            "visibility": null,
            "width": null
          }
        },
        "1c3125801365455cb099014b70eab01f": {
          "model_module": "@jupyter-widgets/controls",
          "model_name": "DescriptionStyleModel",
          "model_module_version": "1.5.0",
          "state": {
            "_model_module": "@jupyter-widgets/controls",
            "_model_module_version": "1.5.0",
            "_model_name": "DescriptionStyleModel",
            "_view_count": null,
            "_view_module": "@jupyter-widgets/base",
            "_view_module_version": "1.2.0",
            "_view_name": "StyleView",
            "description_width": ""
          }
        },
        "e049cdf8e64645fc85ec44931fdde83b": {
          "model_module": "@jupyter-widgets/base",
          "model_name": "LayoutModel",
          "model_module_version": "1.2.0",
          "state": {
            "_model_module": "@jupyter-widgets/base",
            "_model_module_version": "1.2.0",
            "_model_name": "LayoutModel",
            "_view_count": null,
            "_view_module": "@jupyter-widgets/base",
            "_view_module_version": "1.2.0",
            "_view_name": "LayoutView",
            "align_content": null,
            "align_items": null,
            "align_self": null,
            "border": null,
            "bottom": null,
            "display": null,
            "flex": null,
            "flex_flow": null,
            "grid_area": null,
            "grid_auto_columns": null,
            "grid_auto_flow": null,
            "grid_auto_rows": null,
            "grid_column": null,
            "grid_gap": null,
            "grid_row": null,
            "grid_template_areas": null,
            "grid_template_columns": null,
            "grid_template_rows": null,
            "height": null,
            "justify_content": null,
            "justify_items": null,
            "left": null,
            "margin": null,
            "max_height": null,
            "max_width": null,
            "min_height": null,
            "min_width": null,
            "object_fit": null,
            "object_position": null,
            "order": null,
            "overflow": null,
            "overflow_x": null,
            "overflow_y": null,
            "padding": null,
            "right": null,
            "top": null,
            "visibility": null,
            "width": null
          }
        },
        "9a083ed1f5cd4e2e834b00f6f1af97d2": {
          "model_module": "@jupyter-widgets/controls",
          "model_name": "ProgressStyleModel",
          "model_module_version": "1.5.0",
          "state": {
            "_model_module": "@jupyter-widgets/controls",
            "_model_module_version": "1.5.0",
            "_model_name": "ProgressStyleModel",
            "_view_count": null,
            "_view_module": "@jupyter-widgets/base",
            "_view_module_version": "1.2.0",
            "_view_name": "StyleView",
            "bar_color": null,
            "description_width": ""
          }
        },
        "9dc2c950bbba40f2b034df8b9aa3437a": {
          "model_module": "@jupyter-widgets/base",
          "model_name": "LayoutModel",
          "model_module_version": "1.2.0",
          "state": {
            "_model_module": "@jupyter-widgets/base",
            "_model_module_version": "1.2.0",
            "_model_name": "LayoutModel",
            "_view_count": null,
            "_view_module": "@jupyter-widgets/base",
            "_view_module_version": "1.2.0",
            "_view_name": "LayoutView",
            "align_content": null,
            "align_items": null,
            "align_self": null,
            "border": null,
            "bottom": null,
            "display": null,
            "flex": null,
            "flex_flow": null,
            "grid_area": null,
            "grid_auto_columns": null,
            "grid_auto_flow": null,
            "grid_auto_rows": null,
            "grid_column": null,
            "grid_gap": null,
            "grid_row": null,
            "grid_template_areas": null,
            "grid_template_columns": null,
            "grid_template_rows": null,
            "height": null,
            "justify_content": null,
            "justify_items": null,
            "left": null,
            "margin": null,
            "max_height": null,
            "max_width": null,
            "min_height": null,
            "min_width": null,
            "object_fit": null,
            "object_position": null,
            "order": null,
            "overflow": null,
            "overflow_x": null,
            "overflow_y": null,
            "padding": null,
            "right": null,
            "top": null,
            "visibility": null,
            "width": null
          }
        },
        "b416b5867a82417ea8e78916acea366f": {
          "model_module": "@jupyter-widgets/controls",
          "model_name": "DescriptionStyleModel",
          "model_module_version": "1.5.0",
          "state": {
            "_model_module": "@jupyter-widgets/controls",
            "_model_module_version": "1.5.0",
            "_model_name": "DescriptionStyleModel",
            "_view_count": null,
            "_view_module": "@jupyter-widgets/base",
            "_view_module_version": "1.2.0",
            "_view_name": "StyleView",
            "description_width": ""
          }
        },
        "7980631b6d0f4127b3da351b264cf713": {
          "model_module": "@jupyter-widgets/controls",
          "model_name": "HBoxModel",
          "model_module_version": "1.5.0",
          "state": {
            "_dom_classes": [],
            "_model_module": "@jupyter-widgets/controls",
            "_model_module_version": "1.5.0",
            "_model_name": "HBoxModel",
            "_view_count": null,
            "_view_module": "@jupyter-widgets/controls",
            "_view_module_version": "1.5.0",
            "_view_name": "HBoxView",
            "box_style": "",
            "children": [
              "IPY_MODEL_38b9846cc3f247f5a280e0b4935af730",
              "IPY_MODEL_1a08ba46701843b3b778bbe8f309c738",
              "IPY_MODEL_e898fa6320ee41c6ab00f0be1007c0a3"
            ],
            "layout": "IPY_MODEL_f40a251d7b594349a3866d4a8d09fe05"
          }
        },
        "38b9846cc3f247f5a280e0b4935af730": {
          "model_module": "@jupyter-widgets/controls",
          "model_name": "HTMLModel",
          "model_module_version": "1.5.0",
          "state": {
            "_dom_classes": [],
            "_model_module": "@jupyter-widgets/controls",
            "_model_module_version": "1.5.0",
            "_model_name": "HTMLModel",
            "_view_count": null,
            "_view_module": "@jupyter-widgets/controls",
            "_view_module_version": "1.5.0",
            "_view_name": "HTMLView",
            "description": "",
            "description_tooltip": null,
            "layout": "IPY_MODEL_c32c0bbb51604835b344563ba861f806",
            "placeholder": "​",
            "style": "IPY_MODEL_d830779a19934ab1bbab1d68dea83702",
            "value": "added_tokens.json: 100%"
          }
        },
        "1a08ba46701843b3b778bbe8f309c738": {
          "model_module": "@jupyter-widgets/controls",
          "model_name": "FloatProgressModel",
          "model_module_version": "1.5.0",
          "state": {
            "_dom_classes": [],
            "_model_module": "@jupyter-widgets/controls",
            "_model_module_version": "1.5.0",
            "_model_name": "FloatProgressModel",
            "_view_count": null,
            "_view_module": "@jupyter-widgets/controls",
            "_view_module_version": "1.5.0",
            "_view_name": "ProgressView",
            "bar_style": "success",
            "description": "",
            "description_tooltip": null,
            "layout": "IPY_MODEL_6231284f1fe44a7487563713b5eefd97",
            "max": 122,
            "min": 0,
            "orientation": "horizontal",
            "style": "IPY_MODEL_43f9bb70b7f248ceb13a4f406cfa5c19",
            "value": 122
          }
        },
        "e898fa6320ee41c6ab00f0be1007c0a3": {
          "model_module": "@jupyter-widgets/controls",
          "model_name": "HTMLModel",
          "model_module_version": "1.5.0",
          "state": {
            "_dom_classes": [],
            "_model_module": "@jupyter-widgets/controls",
            "_model_module_version": "1.5.0",
            "_model_name": "HTMLModel",
            "_view_count": null,
            "_view_module": "@jupyter-widgets/controls",
            "_view_module_version": "1.5.0",
            "_view_name": "HTMLView",
            "description": "",
            "description_tooltip": null,
            "layout": "IPY_MODEL_ae3a95cdf68c4701a4a2e5b9641aef30",
            "placeholder": "​",
            "style": "IPY_MODEL_43cfdb9df28048c4903ebe892e3b1fe1",
            "value": " 122/122 [00:00&lt;00:00, 8.64kB/s]"
          }
        },
        "f40a251d7b594349a3866d4a8d09fe05": {
          "model_module": "@jupyter-widgets/base",
          "model_name": "LayoutModel",
          "model_module_version": "1.2.0",
          "state": {
            "_model_module": "@jupyter-widgets/base",
            "_model_module_version": "1.2.0",
            "_model_name": "LayoutModel",
            "_view_count": null,
            "_view_module": "@jupyter-widgets/base",
            "_view_module_version": "1.2.0",
            "_view_name": "LayoutView",
            "align_content": null,
            "align_items": null,
            "align_self": null,
            "border": null,
            "bottom": null,
            "display": null,
            "flex": null,
            "flex_flow": null,
            "grid_area": null,
            "grid_auto_columns": null,
            "grid_auto_flow": null,
            "grid_auto_rows": null,
            "grid_column": null,
            "grid_gap": null,
            "grid_row": null,
            "grid_template_areas": null,
            "grid_template_columns": null,
            "grid_template_rows": null,
            "height": null,
            "justify_content": null,
            "justify_items": null,
            "left": null,
            "margin": null,
            "max_height": null,
            "max_width": null,
            "min_height": null,
            "min_width": null,
            "object_fit": null,
            "object_position": null,
            "order": null,
            "overflow": null,
            "overflow_x": null,
            "overflow_y": null,
            "padding": null,
            "right": null,
            "top": null,
            "visibility": null,
            "width": null
          }
        },
        "c32c0bbb51604835b344563ba861f806": {
          "model_module": "@jupyter-widgets/base",
          "model_name": "LayoutModel",
          "model_module_version": "1.2.0",
          "state": {
            "_model_module": "@jupyter-widgets/base",
            "_model_module_version": "1.2.0",
            "_model_name": "LayoutModel",
            "_view_count": null,
            "_view_module": "@jupyter-widgets/base",
            "_view_module_version": "1.2.0",
            "_view_name": "LayoutView",
            "align_content": null,
            "align_items": null,
            "align_self": null,
            "border": null,
            "bottom": null,
            "display": null,
            "flex": null,
            "flex_flow": null,
            "grid_area": null,
            "grid_auto_columns": null,
            "grid_auto_flow": null,
            "grid_auto_rows": null,
            "grid_column": null,
            "grid_gap": null,
            "grid_row": null,
            "grid_template_areas": null,
            "grid_template_columns": null,
            "grid_template_rows": null,
            "height": null,
            "justify_content": null,
            "justify_items": null,
            "left": null,
            "margin": null,
            "max_height": null,
            "max_width": null,
            "min_height": null,
            "min_width": null,
            "object_fit": null,
            "object_position": null,
            "order": null,
            "overflow": null,
            "overflow_x": null,
            "overflow_y": null,
            "padding": null,
            "right": null,
            "top": null,
            "visibility": null,
            "width": null
          }
        },
        "d830779a19934ab1bbab1d68dea83702": {
          "model_module": "@jupyter-widgets/controls",
          "model_name": "DescriptionStyleModel",
          "model_module_version": "1.5.0",
          "state": {
            "_model_module": "@jupyter-widgets/controls",
            "_model_module_version": "1.5.0",
            "_model_name": "DescriptionStyleModel",
            "_view_count": null,
            "_view_module": "@jupyter-widgets/base",
            "_view_module_version": "1.2.0",
            "_view_name": "StyleView",
            "description_width": ""
          }
        },
        "6231284f1fe44a7487563713b5eefd97": {
          "model_module": "@jupyter-widgets/base",
          "model_name": "LayoutModel",
          "model_module_version": "1.2.0",
          "state": {
            "_model_module": "@jupyter-widgets/base",
            "_model_module_version": "1.2.0",
            "_model_name": "LayoutModel",
            "_view_count": null,
            "_view_module": "@jupyter-widgets/base",
            "_view_module_version": "1.2.0",
            "_view_name": "LayoutView",
            "align_content": null,
            "align_items": null,
            "align_self": null,
            "border": null,
            "bottom": null,
            "display": null,
            "flex": null,
            "flex_flow": null,
            "grid_area": null,
            "grid_auto_columns": null,
            "grid_auto_flow": null,
            "grid_auto_rows": null,
            "grid_column": null,
            "grid_gap": null,
            "grid_row": null,
            "grid_template_areas": null,
            "grid_template_columns": null,
            "grid_template_rows": null,
            "height": null,
            "justify_content": null,
            "justify_items": null,
            "left": null,
            "margin": null,
            "max_height": null,
            "max_width": null,
            "min_height": null,
            "min_width": null,
            "object_fit": null,
            "object_position": null,
            "order": null,
            "overflow": null,
            "overflow_x": null,
            "overflow_y": null,
            "padding": null,
            "right": null,
            "top": null,
            "visibility": null,
            "width": null
          }
        },
        "43f9bb70b7f248ceb13a4f406cfa5c19": {
          "model_module": "@jupyter-widgets/controls",
          "model_name": "ProgressStyleModel",
          "model_module_version": "1.5.0",
          "state": {
            "_model_module": "@jupyter-widgets/controls",
            "_model_module_version": "1.5.0",
            "_model_name": "ProgressStyleModel",
            "_view_count": null,
            "_view_module": "@jupyter-widgets/base",
            "_view_module_version": "1.2.0",
            "_view_name": "StyleView",
            "bar_color": null,
            "description_width": ""
          }
        },
        "ae3a95cdf68c4701a4a2e5b9641aef30": {
          "model_module": "@jupyter-widgets/base",
          "model_name": "LayoutModel",
          "model_module_version": "1.2.0",
          "state": {
            "_model_module": "@jupyter-widgets/base",
            "_model_module_version": "1.2.0",
            "_model_name": "LayoutModel",
            "_view_count": null,
            "_view_module": "@jupyter-widgets/base",
            "_view_module_version": "1.2.0",
            "_view_name": "LayoutView",
            "align_content": null,
            "align_items": null,
            "align_self": null,
            "border": null,
            "bottom": null,
            "display": null,
            "flex": null,
            "flex_flow": null,
            "grid_area": null,
            "grid_auto_columns": null,
            "grid_auto_flow": null,
            "grid_auto_rows": null,
            "grid_column": null,
            "grid_gap": null,
            "grid_row": null,
            "grid_template_areas": null,
            "grid_template_columns": null,
            "grid_template_rows": null,
            "height": null,
            "justify_content": null,
            "justify_items": null,
            "left": null,
            "margin": null,
            "max_height": null,
            "max_width": null,
            "min_height": null,
            "min_width": null,
            "object_fit": null,
            "object_position": null,
            "order": null,
            "overflow": null,
            "overflow_x": null,
            "overflow_y": null,
            "padding": null,
            "right": null,
            "top": null,
            "visibility": null,
            "width": null
          }
        },
        "43cfdb9df28048c4903ebe892e3b1fe1": {
          "model_module": "@jupyter-widgets/controls",
          "model_name": "DescriptionStyleModel",
          "model_module_version": "1.5.0",
          "state": {
            "_model_module": "@jupyter-widgets/controls",
            "_model_module_version": "1.5.0",
            "_model_name": "DescriptionStyleModel",
            "_view_count": null,
            "_view_module": "@jupyter-widgets/base",
            "_view_module_version": "1.2.0",
            "_view_name": "StyleView",
            "description_width": ""
          }
        },
        "9d8ca3f768874afda66bb8018097cd7b": {
          "model_module": "@jupyter-widgets/controls",
          "model_name": "HBoxModel",
          "model_module_version": "1.5.0",
          "state": {
            "_dom_classes": [],
            "_model_module": "@jupyter-widgets/controls",
            "_model_module_version": "1.5.0",
            "_model_name": "HBoxModel",
            "_view_count": null,
            "_view_module": "@jupyter-widgets/controls",
            "_view_module_version": "1.5.0",
            "_view_name": "HBoxView",
            "box_style": "",
            "children": [
              "IPY_MODEL_3f4b768401374f4089574bd401730d38",
              "IPY_MODEL_41921f4987984e22b1eb8a084767d1ed",
              "IPY_MODEL_9793ca4e0eca457e8833c4e5d593ec1d"
            ],
            "layout": "IPY_MODEL_189d96ab6da1409995bd56ecd6d09cb2"
          }
        },
        "3f4b768401374f4089574bd401730d38": {
          "model_module": "@jupyter-widgets/controls",
          "model_name": "HTMLModel",
          "model_module_version": "1.5.0",
          "state": {
            "_dom_classes": [],
            "_model_module": "@jupyter-widgets/controls",
            "_model_module_version": "1.5.0",
            "_model_name": "HTMLModel",
            "_view_count": null,
            "_view_module": "@jupyter-widgets/controls",
            "_view_module_version": "1.5.0",
            "_view_name": "HTMLView",
            "description": "",
            "description_tooltip": null,
            "layout": "IPY_MODEL_2234296d80e241e1a85845f841e1dfec",
            "placeholder": "​",
            "style": "IPY_MODEL_2339c81d5f2042bc800d93f6d5b78a6b",
            "value": "special_tokens_map.json: 100%"
          }
        },
        "41921f4987984e22b1eb8a084767d1ed": {
          "model_module": "@jupyter-widgets/controls",
          "model_name": "FloatProgressModel",
          "model_module_version": "1.5.0",
          "state": {
            "_dom_classes": [],
            "_model_module": "@jupyter-widgets/controls",
            "_model_module_version": "1.5.0",
            "_model_name": "FloatProgressModel",
            "_view_count": null,
            "_view_module": "@jupyter-widgets/controls",
            "_view_module_version": "1.5.0",
            "_view_name": "ProgressView",
            "bar_style": "success",
            "description": "",
            "description_tooltip": null,
            "layout": "IPY_MODEL_7d9d9502247e4740896eb4c419478000",
            "max": 367,
            "min": 0,
            "orientation": "horizontal",
            "style": "IPY_MODEL_d6e320eb9e7b4d329130e72140056e8f",
            "value": 367
          }
        },
        "9793ca4e0eca457e8833c4e5d593ec1d": {
          "model_module": "@jupyter-widgets/controls",
          "model_name": "HTMLModel",
          "model_module_version": "1.5.0",
          "state": {
            "_dom_classes": [],
            "_model_module": "@jupyter-widgets/controls",
            "_model_module_version": "1.5.0",
            "_model_name": "HTMLModel",
            "_view_count": null,
            "_view_module": "@jupyter-widgets/controls",
            "_view_module_version": "1.5.0",
            "_view_name": "HTMLView",
            "description": "",
            "description_tooltip": null,
            "layout": "IPY_MODEL_6f7e4aa2c792406a9425e6b14ea12d11",
            "placeholder": "​",
            "style": "IPY_MODEL_c0eddffedcdb4249b38facdaa1fd4d83",
            "value": " 367/367 [00:00&lt;00:00, 27.4kB/s]"
          }
        },
        "189d96ab6da1409995bd56ecd6d09cb2": {
          "model_module": "@jupyter-widgets/base",
          "model_name": "LayoutModel",
          "model_module_version": "1.2.0",
          "state": {
            "_model_module": "@jupyter-widgets/base",
            "_model_module_version": "1.2.0",
            "_model_name": "LayoutModel",
            "_view_count": null,
            "_view_module": "@jupyter-widgets/base",
            "_view_module_version": "1.2.0",
            "_view_name": "LayoutView",
            "align_content": null,
            "align_items": null,
            "align_self": null,
            "border": null,
            "bottom": null,
            "display": null,
            "flex": null,
            "flex_flow": null,
            "grid_area": null,
            "grid_auto_columns": null,
            "grid_auto_flow": null,
            "grid_auto_rows": null,
            "grid_column": null,
            "grid_gap": null,
            "grid_row": null,
            "grid_template_areas": null,
            "grid_template_columns": null,
            "grid_template_rows": null,
            "height": null,
            "justify_content": null,
            "justify_items": null,
            "left": null,
            "margin": null,
            "max_height": null,
            "max_width": null,
            "min_height": null,
            "min_width": null,
            "object_fit": null,
            "object_position": null,
            "order": null,
            "overflow": null,
            "overflow_x": null,
            "overflow_y": null,
            "padding": null,
            "right": null,
            "top": null,
            "visibility": null,
            "width": null
          }
        },
        "2234296d80e241e1a85845f841e1dfec": {
          "model_module": "@jupyter-widgets/base",
          "model_name": "LayoutModel",
          "model_module_version": "1.2.0",
          "state": {
            "_model_module": "@jupyter-widgets/base",
            "_model_module_version": "1.2.0",
            "_model_name": "LayoutModel",
            "_view_count": null,
            "_view_module": "@jupyter-widgets/base",
            "_view_module_version": "1.2.0",
            "_view_name": "LayoutView",
            "align_content": null,
            "align_items": null,
            "align_self": null,
            "border": null,
            "bottom": null,
            "display": null,
            "flex": null,
            "flex_flow": null,
            "grid_area": null,
            "grid_auto_columns": null,
            "grid_auto_flow": null,
            "grid_auto_rows": null,
            "grid_column": null,
            "grid_gap": null,
            "grid_row": null,
            "grid_template_areas": null,
            "grid_template_columns": null,
            "grid_template_rows": null,
            "height": null,
            "justify_content": null,
            "justify_items": null,
            "left": null,
            "margin": null,
            "max_height": null,
            "max_width": null,
            "min_height": null,
            "min_width": null,
            "object_fit": null,
            "object_position": null,
            "order": null,
            "overflow": null,
            "overflow_x": null,
            "overflow_y": null,
            "padding": null,
            "right": null,
            "top": null,
            "visibility": null,
            "width": null
          }
        },
        "2339c81d5f2042bc800d93f6d5b78a6b": {
          "model_module": "@jupyter-widgets/controls",
          "model_name": "DescriptionStyleModel",
          "model_module_version": "1.5.0",
          "state": {
            "_model_module": "@jupyter-widgets/controls",
            "_model_module_version": "1.5.0",
            "_model_name": "DescriptionStyleModel",
            "_view_count": null,
            "_view_module": "@jupyter-widgets/base",
            "_view_module_version": "1.2.0",
            "_view_name": "StyleView",
            "description_width": ""
          }
        },
        "7d9d9502247e4740896eb4c419478000": {
          "model_module": "@jupyter-widgets/base",
          "model_name": "LayoutModel",
          "model_module_version": "1.2.0",
          "state": {
            "_model_module": "@jupyter-widgets/base",
            "_model_module_version": "1.2.0",
            "_model_name": "LayoutModel",
            "_view_count": null,
            "_view_module": "@jupyter-widgets/base",
            "_view_module_version": "1.2.0",
            "_view_name": "LayoutView",
            "align_content": null,
            "align_items": null,
            "align_self": null,
            "border": null,
            "bottom": null,
            "display": null,
            "flex": null,
            "flex_flow": null,
            "grid_area": null,
            "grid_auto_columns": null,
            "grid_auto_flow": null,
            "grid_auto_rows": null,
            "grid_column": null,
            "grid_gap": null,
            "grid_row": null,
            "grid_template_areas": null,
            "grid_template_columns": null,
            "grid_template_rows": null,
            "height": null,
            "justify_content": null,
            "justify_items": null,
            "left": null,
            "margin": null,
            "max_height": null,
            "max_width": null,
            "min_height": null,
            "min_width": null,
            "object_fit": null,
            "object_position": null,
            "order": null,
            "overflow": null,
            "overflow_x": null,
            "overflow_y": null,
            "padding": null,
            "right": null,
            "top": null,
            "visibility": null,
            "width": null
          }
        },
        "d6e320eb9e7b4d329130e72140056e8f": {
          "model_module": "@jupyter-widgets/controls",
          "model_name": "ProgressStyleModel",
          "model_module_version": "1.5.0",
          "state": {
            "_model_module": "@jupyter-widgets/controls",
            "_model_module_version": "1.5.0",
            "_model_name": "ProgressStyleModel",
            "_view_count": null,
            "_view_module": "@jupyter-widgets/base",
            "_view_module_version": "1.2.0",
            "_view_name": "StyleView",
            "bar_color": null,
            "description_width": ""
          }
        },
        "6f7e4aa2c792406a9425e6b14ea12d11": {
          "model_module": "@jupyter-widgets/base",
          "model_name": "LayoutModel",
          "model_module_version": "1.2.0",
          "state": {
            "_model_module": "@jupyter-widgets/base",
            "_model_module_version": "1.2.0",
            "_model_name": "LayoutModel",
            "_view_count": null,
            "_view_module": "@jupyter-widgets/base",
            "_view_module_version": "1.2.0",
            "_view_name": "LayoutView",
            "align_content": null,
            "align_items": null,
            "align_self": null,
            "border": null,
            "bottom": null,
            "display": null,
            "flex": null,
            "flex_flow": null,
            "grid_area": null,
            "grid_auto_columns": null,
            "grid_auto_flow": null,
            "grid_auto_rows": null,
            "grid_column": null,
            "grid_gap": null,
            "grid_row": null,
            "grid_template_areas": null,
            "grid_template_columns": null,
            "grid_template_rows": null,
            "height": null,
            "justify_content": null,
            "justify_items": null,
            "left": null,
            "margin": null,
            "max_height": null,
            "max_width": null,
            "min_height": null,
            "min_width": null,
            "object_fit": null,
            "object_position": null,
            "order": null,
            "overflow": null,
            "overflow_x": null,
            "overflow_y": null,
            "padding": null,
            "right": null,
            "top": null,
            "visibility": null,
            "width": null
          }
        },
        "c0eddffedcdb4249b38facdaa1fd4d83": {
          "model_module": "@jupyter-widgets/controls",
          "model_name": "DescriptionStyleModel",
          "model_module_version": "1.5.0",
          "state": {
            "_model_module": "@jupyter-widgets/controls",
            "_model_module_version": "1.5.0",
            "_model_name": "DescriptionStyleModel",
            "_view_count": null,
            "_view_module": "@jupyter-widgets/base",
            "_view_module_version": "1.2.0",
            "_view_name": "StyleView",
            "description_width": ""
          }
        },
        "35eadabd1d9a48de8b4975feb5410835": {
          "model_module": "@jupyter-widgets/controls",
          "model_name": "HBoxModel",
          "model_module_version": "1.5.0",
          "state": {
            "_dom_classes": [],
            "_model_module": "@jupyter-widgets/controls",
            "_model_module_version": "1.5.0",
            "_model_name": "HBoxModel",
            "_view_count": null,
            "_view_module": "@jupyter-widgets/controls",
            "_view_module_version": "1.5.0",
            "_view_name": "HBoxView",
            "box_style": "",
            "children": [
              "IPY_MODEL_7febaaaa7ec84d968bd6639de400c619",
              "IPY_MODEL_46c52ca7435b4a14a1081cdafbebd760",
              "IPY_MODEL_fd7218e2fb604d21b8f2f62e9276acc2"
            ],
            "layout": "IPY_MODEL_38f3aa285468452ab1901cd0d787cd3b"
          }
        },
        "7febaaaa7ec84d968bd6639de400c619": {
          "model_module": "@jupyter-widgets/controls",
          "model_name": "HTMLModel",
          "model_module_version": "1.5.0",
          "state": {
            "_dom_classes": [],
            "_model_module": "@jupyter-widgets/controls",
            "_model_module_version": "1.5.0",
            "_model_name": "HTMLModel",
            "_view_count": null,
            "_view_module": "@jupyter-widgets/controls",
            "_view_module_version": "1.5.0",
            "_view_name": "HTMLView",
            "description": "",
            "description_tooltip": null,
            "layout": "IPY_MODEL_19b9961f85eb42a6937041aab933a3e4",
            "placeholder": "​",
            "style": "IPY_MODEL_6f8c67ba69a441aeaa4e176af43512ae",
            "value": "video_processor/preprocessor_config.json: 100%"
          }
        },
        "46c52ca7435b4a14a1081cdafbebd760": {
          "model_module": "@jupyter-widgets/controls",
          "model_name": "FloatProgressModel",
          "model_module_version": "1.5.0",
          "state": {
            "_dom_classes": [],
            "_model_module": "@jupyter-widgets/controls",
            "_model_module_version": "1.5.0",
            "_model_name": "FloatProgressModel",
            "_view_count": null,
            "_view_module": "@jupyter-widgets/controls",
            "_view_module_version": "1.5.0",
            "_view_name": "ProgressView",
            "bar_style": "success",
            "description": "",
            "description_tooltip": null,
            "layout": "IPY_MODEL_14ed8865c9924596bb0c15336ad15303",
            "max": 428,
            "min": 0,
            "orientation": "horizontal",
            "style": "IPY_MODEL_834190b877d34f698634fa84ba0315a2",
            "value": 428
          }
        },
        "fd7218e2fb604d21b8f2f62e9276acc2": {
          "model_module": "@jupyter-widgets/controls",
          "model_name": "HTMLModel",
          "model_module_version": "1.5.0",
          "state": {
            "_dom_classes": [],
            "_model_module": "@jupyter-widgets/controls",
            "_model_module_version": "1.5.0",
            "_model_name": "HTMLModel",
            "_view_count": null,
            "_view_module": "@jupyter-widgets/controls",
            "_view_module_version": "1.5.0",
            "_view_name": "HTMLView",
            "description": "",
            "description_tooltip": null,
            "layout": "IPY_MODEL_936eb3cfaef143fcbeb5cde358826d25",
            "placeholder": "​",
            "style": "IPY_MODEL_d599e07c64e748039955ce76792d8f97",
            "value": " 428/428 [00:00&lt;00:00, 20.8kB/s]"
          }
        },
        "38f3aa285468452ab1901cd0d787cd3b": {
          "model_module": "@jupyter-widgets/base",
          "model_name": "LayoutModel",
          "model_module_version": "1.2.0",
          "state": {
            "_model_module": "@jupyter-widgets/base",
            "_model_module_version": "1.2.0",
            "_model_name": "LayoutModel",
            "_view_count": null,
            "_view_module": "@jupyter-widgets/base",
            "_view_module_version": "1.2.0",
            "_view_name": "LayoutView",
            "align_content": null,
            "align_items": null,
            "align_self": null,
            "border": null,
            "bottom": null,
            "display": null,
            "flex": null,
            "flex_flow": null,
            "grid_area": null,
            "grid_auto_columns": null,
            "grid_auto_flow": null,
            "grid_auto_rows": null,
            "grid_column": null,
            "grid_gap": null,
            "grid_row": null,
            "grid_template_areas": null,
            "grid_template_columns": null,
            "grid_template_rows": null,
            "height": null,
            "justify_content": null,
            "justify_items": null,
            "left": null,
            "margin": null,
            "max_height": null,
            "max_width": null,
            "min_height": null,
            "min_width": null,
            "object_fit": null,
            "object_position": null,
            "order": null,
            "overflow": null,
            "overflow_x": null,
            "overflow_y": null,
            "padding": null,
            "right": null,
            "top": null,
            "visibility": null,
            "width": null
          }
        },
        "19b9961f85eb42a6937041aab933a3e4": {
          "model_module": "@jupyter-widgets/base",
          "model_name": "LayoutModel",
          "model_module_version": "1.2.0",
          "state": {
            "_model_module": "@jupyter-widgets/base",
            "_model_module_version": "1.2.0",
            "_model_name": "LayoutModel",
            "_view_count": null,
            "_view_module": "@jupyter-widgets/base",
            "_view_module_version": "1.2.0",
            "_view_name": "LayoutView",
            "align_content": null,
            "align_items": null,
            "align_self": null,
            "border": null,
            "bottom": null,
            "display": null,
            "flex": null,
            "flex_flow": null,
            "grid_area": null,
            "grid_auto_columns": null,
            "grid_auto_flow": null,
            "grid_auto_rows": null,
            "grid_column": null,
            "grid_gap": null,
            "grid_row": null,
            "grid_template_areas": null,
            "grid_template_columns": null,
            "grid_template_rows": null,
            "height": null,
            "justify_content": null,
            "justify_items": null,
            "left": null,
            "margin": null,
            "max_height": null,
            "max_width": null,
            "min_height": null,
            "min_width": null,
            "object_fit": null,
            "object_position": null,
            "order": null,
            "overflow": null,
            "overflow_x": null,
            "overflow_y": null,
            "padding": null,
            "right": null,
            "top": null,
            "visibility": null,
            "width": null
          }
        },
        "6f8c67ba69a441aeaa4e176af43512ae": {
          "model_module": "@jupyter-widgets/controls",
          "model_name": "DescriptionStyleModel",
          "model_module_version": "1.5.0",
          "state": {
            "_model_module": "@jupyter-widgets/controls",
            "_model_module_version": "1.5.0",
            "_model_name": "DescriptionStyleModel",
            "_view_count": null,
            "_view_module": "@jupyter-widgets/base",
            "_view_module_version": "1.2.0",
            "_view_name": "StyleView",
            "description_width": ""
          }
        },
        "14ed8865c9924596bb0c15336ad15303": {
          "model_module": "@jupyter-widgets/base",
          "model_name": "LayoutModel",
          "model_module_version": "1.2.0",
          "state": {
            "_model_module": "@jupyter-widgets/base",
            "_model_module_version": "1.2.0",
            "_model_name": "LayoutModel",
            "_view_count": null,
            "_view_module": "@jupyter-widgets/base",
            "_view_module_version": "1.2.0",
            "_view_name": "LayoutView",
            "align_content": null,
            "align_items": null,
            "align_self": null,
            "border": null,
            "bottom": null,
            "display": null,
            "flex": null,
            "flex_flow": null,
            "grid_area": null,
            "grid_auto_columns": null,
            "grid_auto_flow": null,
            "grid_auto_rows": null,
            "grid_column": null,
            "grid_gap": null,
            "grid_row": null,
            "grid_template_areas": null,
            "grid_template_columns": null,
            "grid_template_rows": null,
            "height": null,
            "justify_content": null,
            "justify_items": null,
            "left": null,
            "margin": null,
            "max_height": null,
            "max_width": null,
            "min_height": null,
            "min_width": null,
            "object_fit": null,
            "object_position": null,
            "order": null,
            "overflow": null,
            "overflow_x": null,
            "overflow_y": null,
            "padding": null,
            "right": null,
            "top": null,
            "visibility": null,
            "width": null
          }
        },
        "834190b877d34f698634fa84ba0315a2": {
          "model_module": "@jupyter-widgets/controls",
          "model_name": "ProgressStyleModel",
          "model_module_version": "1.5.0",
          "state": {
            "_model_module": "@jupyter-widgets/controls",
            "_model_module_version": "1.5.0",
            "_model_name": "ProgressStyleModel",
            "_view_count": null,
            "_view_module": "@jupyter-widgets/base",
            "_view_module_version": "1.2.0",
            "_view_name": "StyleView",
            "bar_color": null,
            "description_width": ""
          }
        },
        "936eb3cfaef143fcbeb5cde358826d25": {
          "model_module": "@jupyter-widgets/base",
          "model_name": "LayoutModel",
          "model_module_version": "1.2.0",
          "state": {
            "_model_module": "@jupyter-widgets/base",
            "_model_module_version": "1.2.0",
            "_model_name": "LayoutModel",
            "_view_count": null,
            "_view_module": "@jupyter-widgets/base",
            "_view_module_version": "1.2.0",
            "_view_name": "LayoutView",
            "align_content": null,
            "align_items": null,
            "align_self": null,
            "border": null,
            "bottom": null,
            "display": null,
            "flex": null,
            "flex_flow": null,
            "grid_area": null,
            "grid_auto_columns": null,
            "grid_auto_flow": null,
            "grid_auto_rows": null,
            "grid_column": null,
            "grid_gap": null,
            "grid_row": null,
            "grid_template_areas": null,
            "grid_template_columns": null,
            "grid_template_rows": null,
            "height": null,
            "justify_content": null,
            "justify_items": null,
            "left": null,
            "margin": null,
            "max_height": null,
            "max_width": null,
            "min_height": null,
            "min_width": null,
            "object_fit": null,
            "object_position": null,
            "order": null,
            "overflow": null,
            "overflow_x": null,
            "overflow_y": null,
            "padding": null,
            "right": null,
            "top": null,
            "visibility": null,
            "width": null
          }
        },
        "d599e07c64e748039955ce76792d8f97": {
          "model_module": "@jupyter-widgets/controls",
          "model_name": "DescriptionStyleModel",
          "model_module_version": "1.5.0",
          "state": {
            "_model_module": "@jupyter-widgets/controls",
            "_model_module_version": "1.5.0",
            "_model_name": "DescriptionStyleModel",
            "_view_count": null,
            "_view_module": "@jupyter-widgets/base",
            "_view_module_version": "1.2.0",
            "_view_name": "StyleView",
            "description_width": ""
          }
        },
        "14ba2c4a6e764dd297e0a55a4a262b8b": {
          "model_module": "@jupyter-widgets/controls",
          "model_name": "HBoxModel",
          "model_module_version": "1.5.0",
          "state": {
            "_dom_classes": [],
            "_model_module": "@jupyter-widgets/controls",
            "_model_module_version": "1.5.0",
            "_model_name": "HBoxModel",
            "_view_count": null,
            "_view_module": "@jupyter-widgets/controls",
            "_view_module_version": "1.5.0",
            "_view_name": "HBoxView",
            "box_style": "",
            "children": [
              "IPY_MODEL_d79eb320339d4eb9802661cc028cf2a8",
              "IPY_MODEL_59b8f4162bff4518958c5b05443ce4dc",
              "IPY_MODEL_9898cd350c784666a477c2843afb6000"
            ],
            "layout": "IPY_MODEL_9c63d151bf2642798dd7bc41afa0b1dd"
          }
        },
        "d79eb320339d4eb9802661cc028cf2a8": {
          "model_module": "@jupyter-widgets/controls",
          "model_name": "HTMLModel",
          "model_module_version": "1.5.0",
          "state": {
            "_dom_classes": [],
            "_model_module": "@jupyter-widgets/controls",
            "_model_module_version": "1.5.0",
            "_model_name": "HTMLModel",
            "_view_count": null,
            "_view_module": "@jupyter-widgets/controls",
            "_view_module_version": "1.5.0",
            "_view_name": "HTMLView",
            "description": "",
            "description_tooltip": null,
            "layout": "IPY_MODEL_2728b3fe87cc46a3a1095e3abf576785",
            "placeholder": "​",
            "style": "IPY_MODEL_88e88113a7c34e809799be934a937188",
            "value": "100%"
          }
        },
        "59b8f4162bff4518958c5b05443ce4dc": {
          "model_module": "@jupyter-widgets/controls",
          "model_name": "FloatProgressModel",
          "model_module_version": "1.5.0",
          "state": {
            "_dom_classes": [],
            "_model_module": "@jupyter-widgets/controls",
            "_model_module_version": "1.5.0",
            "_model_name": "FloatProgressModel",
            "_view_count": null,
            "_view_module": "@jupyter-widgets/controls",
            "_view_module_version": "1.5.0",
            "_view_name": "ProgressView",
            "bar_style": "success",
            "description": "",
            "description_tooltip": null,
            "layout": "IPY_MODEL_918ea2c23a9d4b9bb13ef2b2b54c774e",
            "max": 1,
            "min": 0,
            "orientation": "horizontal",
            "style": "IPY_MODEL_58cc7fd9e2134926a79bcea53516d7c9",
            "value": 1
          }
        },
        "9898cd350c784666a477c2843afb6000": {
          "model_module": "@jupyter-widgets/controls",
          "model_name": "HTMLModel",
          "model_module_version": "1.5.0",
          "state": {
            "_dom_classes": [],
            "_model_module": "@jupyter-widgets/controls",
            "_model_module_version": "1.5.0",
            "_model_name": "HTMLModel",
            "_view_count": null,
            "_view_module": "@jupyter-widgets/controls",
            "_view_module_version": "1.5.0",
            "_view_name": "HTMLView",
            "description": "",
            "description_tooltip": null,
            "layout": "IPY_MODEL_51db9087b7784ea18b62d941150e4e39",
            "placeholder": "​",
            "style": "IPY_MODEL_da4ef150bba94b8e85bd9790888b4d31",
            "value": " 1/1 [03:33&lt;00:00, 213.39s/it]"
          }
        },
        "9c63d151bf2642798dd7bc41afa0b1dd": {
          "model_module": "@jupyter-widgets/base",
          "model_name": "LayoutModel",
          "model_module_version": "1.2.0",
          "state": {
            "_model_module": "@jupyter-widgets/base",
            "_model_module_version": "1.2.0",
            "_model_name": "LayoutModel",
            "_view_count": null,
            "_view_module": "@jupyter-widgets/base",
            "_view_module_version": "1.2.0",
            "_view_name": "LayoutView",
            "align_content": null,
            "align_items": null,
            "align_self": null,
            "border": null,
            "bottom": null,
            "display": null,
            "flex": null,
            "flex_flow": null,
            "grid_area": null,
            "grid_auto_columns": null,
            "grid_auto_flow": null,
            "grid_auto_rows": null,
            "grid_column": null,
            "grid_gap": null,
            "grid_row": null,
            "grid_template_areas": null,
            "grid_template_columns": null,
            "grid_template_rows": null,
            "height": null,
            "justify_content": null,
            "justify_items": null,
            "left": null,
            "margin": null,
            "max_height": null,
            "max_width": null,
            "min_height": null,
            "min_width": null,
            "object_fit": null,
            "object_position": null,
            "order": null,
            "overflow": null,
            "overflow_x": null,
            "overflow_y": null,
            "padding": null,
            "right": null,
            "top": null,
            "visibility": null,
            "width": null
          }
        },
        "2728b3fe87cc46a3a1095e3abf576785": {
          "model_module": "@jupyter-widgets/base",
          "model_name": "LayoutModel",
          "model_module_version": "1.2.0",
          "state": {
            "_model_module": "@jupyter-widgets/base",
            "_model_module_version": "1.2.0",
            "_model_name": "LayoutModel",
            "_view_count": null,
            "_view_module": "@jupyter-widgets/base",
            "_view_module_version": "1.2.0",
            "_view_name": "LayoutView",
            "align_content": null,
            "align_items": null,
            "align_self": null,
            "border": null,
            "bottom": null,
            "display": null,
            "flex": null,
            "flex_flow": null,
            "grid_area": null,
            "grid_auto_columns": null,
            "grid_auto_flow": null,
            "grid_auto_rows": null,
            "grid_column": null,
            "grid_gap": null,
            "grid_row": null,
            "grid_template_areas": null,
            "grid_template_columns": null,
            "grid_template_rows": null,
            "height": null,
            "justify_content": null,
            "justify_items": null,
            "left": null,
            "margin": null,
            "max_height": null,
            "max_width": null,
            "min_height": null,
            "min_width": null,
            "object_fit": null,
            "object_position": null,
            "order": null,
            "overflow": null,
            "overflow_x": null,
            "overflow_y": null,
            "padding": null,
            "right": null,
            "top": null,
            "visibility": null,
            "width": null
          }
        },
        "88e88113a7c34e809799be934a937188": {
          "model_module": "@jupyter-widgets/controls",
          "model_name": "DescriptionStyleModel",
          "model_module_version": "1.5.0",
          "state": {
            "_model_module": "@jupyter-widgets/controls",
            "_model_module_version": "1.5.0",
            "_model_name": "DescriptionStyleModel",
            "_view_count": null,
            "_view_module": "@jupyter-widgets/base",
            "_view_module_version": "1.2.0",
            "_view_name": "StyleView",
            "description_width": ""
          }
        },
        "918ea2c23a9d4b9bb13ef2b2b54c774e": {
          "model_module": "@jupyter-widgets/base",
          "model_name": "LayoutModel",
          "model_module_version": "1.2.0",
          "state": {
            "_model_module": "@jupyter-widgets/base",
            "_model_module_version": "1.2.0",
            "_model_name": "LayoutModel",
            "_view_count": null,
            "_view_module": "@jupyter-widgets/base",
            "_view_module_version": "1.2.0",
            "_view_name": "LayoutView",
            "align_content": null,
            "align_items": null,
            "align_self": null,
            "border": null,
            "bottom": null,
            "display": null,
            "flex": null,
            "flex_flow": null,
            "grid_area": null,
            "grid_auto_columns": null,
            "grid_auto_flow": null,
            "grid_auto_rows": null,
            "grid_column": null,
            "grid_gap": null,
            "grid_row": null,
            "grid_template_areas": null,
            "grid_template_columns": null,
            "grid_template_rows": null,
            "height": null,
            "justify_content": null,
            "justify_items": null,
            "left": null,
            "margin": null,
            "max_height": null,
            "max_width": null,
            "min_height": null,
            "min_width": null,
            "object_fit": null,
            "object_position": null,
            "order": null,
            "overflow": null,
            "overflow_x": null,
            "overflow_y": null,
            "padding": null,
            "right": null,
            "top": null,
            "visibility": null,
            "width": null
          }
        },
        "58cc7fd9e2134926a79bcea53516d7c9": {
          "model_module": "@jupyter-widgets/controls",
          "model_name": "ProgressStyleModel",
          "model_module_version": "1.5.0",
          "state": {
            "_model_module": "@jupyter-widgets/controls",
            "_model_module_version": "1.5.0",
            "_model_name": "ProgressStyleModel",
            "_view_count": null,
            "_view_module": "@jupyter-widgets/base",
            "_view_module_version": "1.2.0",
            "_view_name": "StyleView",
            "bar_color": null,
            "description_width": ""
          }
        },
        "51db9087b7784ea18b62d941150e4e39": {
          "model_module": "@jupyter-widgets/base",
          "model_name": "LayoutModel",
          "model_module_version": "1.2.0",
          "state": {
            "_model_module": "@jupyter-widgets/base",
            "_model_module_version": "1.2.0",
            "_model_name": "LayoutModel",
            "_view_count": null,
            "_view_module": "@jupyter-widgets/base",
            "_view_module_version": "1.2.0",
            "_view_name": "LayoutView",
            "align_content": null,
            "align_items": null,
            "align_self": null,
            "border": null,
            "bottom": null,
            "display": null,
            "flex": null,
            "flex_flow": null,
            "grid_area": null,
            "grid_auto_columns": null,
            "grid_auto_flow": null,
            "grid_auto_rows": null,
            "grid_column": null,
            "grid_gap": null,
            "grid_row": null,
            "grid_template_areas": null,
            "grid_template_columns": null,
            "grid_template_rows": null,
            "height": null,
            "justify_content": null,
            "justify_items": null,
            "left": null,
            "margin": null,
            "max_height": null,
            "max_width": null,
            "min_height": null,
            "min_width": null,
            "object_fit": null,
            "object_position": null,
            "order": null,
            "overflow": null,
            "overflow_x": null,
            "overflow_y": null,
            "padding": null,
            "right": null,
            "top": null,
            "visibility": null,
            "width": null
          }
        },
        "da4ef150bba94b8e85bd9790888b4d31": {
          "model_module": "@jupyter-widgets/controls",
          "model_name": "DescriptionStyleModel",
          "model_module_version": "1.5.0",
          "state": {
            "_model_module": "@jupyter-widgets/controls",
            "_model_module_version": "1.5.0",
            "_model_name": "DescriptionStyleModel",
            "_view_count": null,
            "_view_module": "@jupyter-widgets/base",
            "_view_module_version": "1.2.0",
            "_view_name": "StyleView",
            "description_width": ""
          }
        },
        "11b677c1d45e46d096369ba3de021921": {
          "model_module": "@jupyter-widgets/controls",
          "model_name": "HBoxModel",
          "model_module_version": "1.5.0",
          "state": {
            "_dom_classes": [],
            "_model_module": "@jupyter-widgets/controls",
            "_model_module_version": "1.5.0",
            "_model_name": "HBoxModel",
            "_view_count": null,
            "_view_module": "@jupyter-widgets/controls",
            "_view_module_version": "1.5.0",
            "_view_name": "HBoxView",
            "box_style": "",
            "children": [
              "IPY_MODEL_5cf9e75078f446f49baaa4cf550bfb26",
              "IPY_MODEL_79ae79d4f753402fbb8eeb74a5d92972",
              "IPY_MODEL_45470938cc1743e294e7760fabe41bb7"
            ],
            "layout": "IPY_MODEL_22db4b60cf634a249b14f74bafe27dd5"
          }
        },
        "5cf9e75078f446f49baaa4cf550bfb26": {
          "model_module": "@jupyter-widgets/controls",
          "model_name": "HTMLModel",
          "model_module_version": "1.5.0",
          "state": {
            "_dom_classes": [],
            "_model_module": "@jupyter-widgets/controls",
            "_model_module_version": "1.5.0",
            "_model_name": "HTMLModel",
            "_view_count": null,
            "_view_module": "@jupyter-widgets/controls",
            "_view_module_version": "1.5.0",
            "_view_name": "HTMLView",
            "description": "",
            "description_tooltip": null,
            "layout": "IPY_MODEL_2cd17f3a2af44a82afeee6e91828b1bb",
            "placeholder": "​",
            "style": "IPY_MODEL_51c9084d9f81428db46c4cc0b892b031",
            "value": "100%"
          }
        },
        "79ae79d4f753402fbb8eeb74a5d92972": {
          "model_module": "@jupyter-widgets/controls",
          "model_name": "FloatProgressModel",
          "model_module_version": "1.5.0",
          "state": {
            "_dom_classes": [],
            "_model_module": "@jupyter-widgets/controls",
            "_model_module_version": "1.5.0",
            "_model_name": "FloatProgressModel",
            "_view_count": null,
            "_view_module": "@jupyter-widgets/controls",
            "_view_module_version": "1.5.0",
            "_view_name": "ProgressView",
            "bar_style": "success",
            "description": "",
            "description_tooltip": null,
            "layout": "IPY_MODEL_9485396469a84fbbbf99373cacc926af",
            "max": 100,
            "min": 0,
            "orientation": "horizontal",
            "style": "IPY_MODEL_14e9bbfa0d354f0c976955e1cea1a9e8",
            "value": 100
          }
        },
        "45470938cc1743e294e7760fabe41bb7": {
          "model_module": "@jupyter-widgets/controls",
          "model_name": "HTMLModel",
          "model_module_version": "1.5.0",
          "state": {
            "_dom_classes": [],
            "_model_module": "@jupyter-widgets/controls",
            "_model_module_version": "1.5.0",
            "_model_name": "HTMLModel",
            "_view_count": null,
            "_view_module": "@jupyter-widgets/controls",
            "_view_module_version": "1.5.0",
            "_view_name": "HTMLView",
            "description": "",
            "description_tooltip": null,
            "layout": "IPY_MODEL_e532ea246e3b45bc925efd2e77edb2bd",
            "placeholder": "​",
            "style": "IPY_MODEL_e0a1356f1d3148e4bc74c5f3b2f080ff",
            "value": " 100/100 [03:29&lt;00:00,  1.65s/it]"
          }
        },
        "22db4b60cf634a249b14f74bafe27dd5": {
          "model_module": "@jupyter-widgets/base",
          "model_name": "LayoutModel",
          "model_module_version": "1.2.0",
          "state": {
            "_model_module": "@jupyter-widgets/base",
            "_model_module_version": "1.2.0",
            "_model_name": "LayoutModel",
            "_view_count": null,
            "_view_module": "@jupyter-widgets/base",
            "_view_module_version": "1.2.0",
            "_view_name": "LayoutView",
            "align_content": null,
            "align_items": null,
            "align_self": null,
            "border": null,
            "bottom": null,
            "display": null,
            "flex": null,
            "flex_flow": null,
            "grid_area": null,
            "grid_auto_columns": null,
            "grid_auto_flow": null,
            "grid_auto_rows": null,
            "grid_column": null,
            "grid_gap": null,
            "grid_row": null,
            "grid_template_areas": null,
            "grid_template_columns": null,
            "grid_template_rows": null,
            "height": null,
            "justify_content": null,
            "justify_items": null,
            "left": null,
            "margin": null,
            "max_height": null,
            "max_width": null,
            "min_height": null,
            "min_width": null,
            "object_fit": null,
            "object_position": null,
            "order": null,
            "overflow": null,
            "overflow_x": null,
            "overflow_y": null,
            "padding": null,
            "right": null,
            "top": null,
            "visibility": null,
            "width": null
          }
        },
        "2cd17f3a2af44a82afeee6e91828b1bb": {
          "model_module": "@jupyter-widgets/base",
          "model_name": "LayoutModel",
          "model_module_version": "1.2.0",
          "state": {
            "_model_module": "@jupyter-widgets/base",
            "_model_module_version": "1.2.0",
            "_model_name": "LayoutModel",
            "_view_count": null,
            "_view_module": "@jupyter-widgets/base",
            "_view_module_version": "1.2.0",
            "_view_name": "LayoutView",
            "align_content": null,
            "align_items": null,
            "align_self": null,
            "border": null,
            "bottom": null,
            "display": null,
            "flex": null,
            "flex_flow": null,
            "grid_area": null,
            "grid_auto_columns": null,
            "grid_auto_flow": null,
            "grid_auto_rows": null,
            "grid_column": null,
            "grid_gap": null,
            "grid_row": null,
            "grid_template_areas": null,
            "grid_template_columns": null,
            "grid_template_rows": null,
            "height": null,
            "justify_content": null,
            "justify_items": null,
            "left": null,
            "margin": null,
            "max_height": null,
            "max_width": null,
            "min_height": null,
            "min_width": null,
            "object_fit": null,
            "object_position": null,
            "order": null,
            "overflow": null,
            "overflow_x": null,
            "overflow_y": null,
            "padding": null,
            "right": null,
            "top": null,
            "visibility": null,
            "width": null
          }
        },
        "51c9084d9f81428db46c4cc0b892b031": {
          "model_module": "@jupyter-widgets/controls",
          "model_name": "DescriptionStyleModel",
          "model_module_version": "1.5.0",
          "state": {
            "_model_module": "@jupyter-widgets/controls",
            "_model_module_version": "1.5.0",
            "_model_name": "DescriptionStyleModel",
            "_view_count": null,
            "_view_module": "@jupyter-widgets/base",
            "_view_module_version": "1.2.0",
            "_view_name": "StyleView",
            "description_width": ""
          }
        },
        "9485396469a84fbbbf99373cacc926af": {
          "model_module": "@jupyter-widgets/base",
          "model_name": "LayoutModel",
          "model_module_version": "1.2.0",
          "state": {
            "_model_module": "@jupyter-widgets/base",
            "_model_module_version": "1.2.0",
            "_model_name": "LayoutModel",
            "_view_count": null,
            "_view_module": "@jupyter-widgets/base",
            "_view_module_version": "1.2.0",
            "_view_name": "LayoutView",
            "align_content": null,
            "align_items": null,
            "align_self": null,
            "border": null,
            "bottom": null,
            "display": null,
            "flex": null,
            "flex_flow": null,
            "grid_area": null,
            "grid_auto_columns": null,
            "grid_auto_flow": null,
            "grid_auto_rows": null,
            "grid_column": null,
            "grid_gap": null,
            "grid_row": null,
            "grid_template_areas": null,
            "grid_template_columns": null,
            "grid_template_rows": null,
            "height": null,
            "justify_content": null,
            "justify_items": null,
            "left": null,
            "margin": null,
            "max_height": null,
            "max_width": null,
            "min_height": null,
            "min_width": null,
            "object_fit": null,
            "object_position": null,
            "order": null,
            "overflow": null,
            "overflow_x": null,
            "overflow_y": null,
            "padding": null,
            "right": null,
            "top": null,
            "visibility": null,
            "width": null
          }
        },
        "14e9bbfa0d354f0c976955e1cea1a9e8": {
          "model_module": "@jupyter-widgets/controls",
          "model_name": "ProgressStyleModel",
          "model_module_version": "1.5.0",
          "state": {
            "_model_module": "@jupyter-widgets/controls",
            "_model_module_version": "1.5.0",
            "_model_name": "ProgressStyleModel",
            "_view_count": null,
            "_view_module": "@jupyter-widgets/base",
            "_view_module_version": "1.2.0",
            "_view_name": "StyleView",
            "bar_color": null,
            "description_width": ""
          }
        },
        "e532ea246e3b45bc925efd2e77edb2bd": {
          "model_module": "@jupyter-widgets/base",
          "model_name": "LayoutModel",
          "model_module_version": "1.2.0",
          "state": {
            "_model_module": "@jupyter-widgets/base",
            "_model_module_version": "1.2.0",
            "_model_name": "LayoutModel",
            "_view_count": null,
            "_view_module": "@jupyter-widgets/base",
            "_view_module_version": "1.2.0",
            "_view_name": "LayoutView",
            "align_content": null,
            "align_items": null,
            "align_self": null,
            "border": null,
            "bottom": null,
            "display": null,
            "flex": null,
            "flex_flow": null,
            "grid_area": null,
            "grid_auto_columns": null,
            "grid_auto_flow": null,
            "grid_auto_rows": null,
            "grid_column": null,
            "grid_gap": null,
            "grid_row": null,
            "grid_template_areas": null,
            "grid_template_columns": null,
            "grid_template_rows": null,
            "height": null,
            "justify_content": null,
            "justify_items": null,
            "left": null,
            "margin": null,
            "max_height": null,
            "max_width": null,
            "min_height": null,
            "min_width": null,
            "object_fit": null,
            "object_position": null,
            "order": null,
            "overflow": null,
            "overflow_x": null,
            "overflow_y": null,
            "padding": null,
            "right": null,
            "top": null,
            "visibility": null,
            "width": null
          }
        },
        "e0a1356f1d3148e4bc74c5f3b2f080ff": {
          "model_module": "@jupyter-widgets/controls",
          "model_name": "DescriptionStyleModel",
          "model_module_version": "1.5.0",
          "state": {
            "_model_module": "@jupyter-widgets/controls",
            "_model_module_version": "1.5.0",
            "_model_name": "DescriptionStyleModel",
            "_view_count": null,
            "_view_module": "@jupyter-widgets/base",
            "_view_module_version": "1.2.0",
            "_view_name": "StyleView",
            "description_width": ""
          }
        }
      }
    }
  },
  "nbformat": 4,
  "nbformat_minor": 0
}